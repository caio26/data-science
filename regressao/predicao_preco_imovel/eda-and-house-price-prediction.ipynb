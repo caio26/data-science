{
 "cells": [
  {
   "cell_type": "markdown",
   "id": "944523d6",
   "metadata": {
    "id": "AK8gNzJcO_wQ",
    "papermill": {
     "duration": 0.093114,
     "end_time": "2022-02-03T21:26:56.884380",
     "exception": false,
     "start_time": "2022-02-03T21:26:56.791266",
     "status": "completed"
    },
    "tags": []
   },
   "source": [
    "# Projeto de regressão de ciência de dados: Previsão de preços de imóveis em Banglore"
   ]
  },
  {
   "cell_type": "markdown",
   "id": "a8d65561",
   "metadata": {
    "id": "5NgoQqERRsGh",
    "papermill": {
     "duration": 0.087908,
     "end_time": "2022-02-03T21:26:57.059880",
     "exception": false,
     "start_time": "2022-02-03T21:26:56.971972",
     "status": "completed"
    },
    "tags": []
   },
   "source": [
    "* são as coisas que um potencial comprador de casa considera antes de comprar uma casa? A localização, o tamanho da propriedade, a proximidade de escritórios, escolas, parques, restaurantes, hospitais ou a cerca branca estereotipada? E quanto ao fator mais importante - o preço?\n",
    "\n",
    "* Comprar uma casa, especialmente em uma cidade como Bangalore, é uma escolha complicada. Embora os principais fatores sejam geralmente os mesmos para todos os metrôs, há outros a serem considerados para o Vale do Silício da Índia. Com a ajuda de uma multidão milenar, cultura vibrante, ótimo clima e uma enorme quantidade de oportunidades de trabalho, é difícil determinar o preço de uma casa em Bangalore."
   ]
  },
  {
   "cell_type": "markdown",
   "id": "d0697d77",
   "metadata": {
    "id": "q2hcrnKDT5FJ",
    "papermill": {
     "duration": 0.089341,
     "end_time": "2022-02-03T21:26:57.237736",
     "exception": false,
     "start_time": "2022-02-03T21:26:57.148395",
     "status": "completed"
    },
    "tags": []
   },
   "source": [
    "Importando bibliotecas"
   ]
  },
  {
   "cell_type": "code",
   "execution_count": 1,
   "id": "6741deab",
   "metadata": {
    "execution": {
     "iopub.execute_input": "2022-02-03T21:26:57.423851Z",
     "iopub.status.busy": "2022-02-03T21:26:57.423195Z",
     "iopub.status.idle": "2022-02-03T21:26:57.427956Z",
     "shell.execute_reply": "2022-02-03T21:26:57.428502Z"
    },
    "id": "y8c0qR1Z5mxP",
    "papermill": {
     "duration": 0.102274,
     "end_time": "2022-02-03T21:26:57.428850",
     "exception": false,
     "start_time": "2022-02-03T21:26:57.326576",
     "status": "completed"
    },
    "tags": []
   },
   "outputs": [],
   "source": [
    "import pandas as pd\n",
    "import numpy as np\n",
    "from matplotlib import pyplot as plt\n",
    "%matplotlib inline\n",
    "import matplotlib "
   ]
  },
  {
   "cell_type": "markdown",
   "id": "8d4763f3",
   "metadata": {
    "id": "pAZp4va1Tq4q",
    "papermill": {
     "duration": 0.087948,
     "end_time": "2022-02-03T21:26:57.605788",
     "exception": false,
     "start_time": "2022-02-03T21:26:57.517840",
     "status": "completed"
    },
    "tags": []
   },
   "source": [
    "link da base de dados:https://www.kaggle.com/amitabhajoy/bengaluru-house-price-data"
   ]
  },
  {
   "cell_type": "markdown",
   "id": "ea031519",
   "metadata": {
    "id": "l8afDOhjXVGs",
    "papermill": {
     "duration": 0.088201,
     "end_time": "2022-02-03T21:26:57.782963",
     "exception": false,
     "start_time": "2022-02-03T21:26:57.694762",
     "status": "completed"
    },
    "tags": []
   },
   "source": [
    "Carregando o dataset"
   ]
  },
  {
   "cell_type": "code",
   "execution_count": 2,
   "id": "3477d3cf",
   "metadata": {
    "execution": {
     "iopub.execute_input": "2022-02-03T21:26:57.974371Z",
     "iopub.status.busy": "2022-02-03T21:26:57.973684Z",
     "iopub.status.idle": "2022-02-03T21:26:58.037242Z",
     "shell.execute_reply": "2022-02-03T21:26:58.037939Z"
    },
    "id": "Bt3D1b5yXcZQ",
    "papermill": {
     "duration": 0.166495,
     "end_time": "2022-02-03T21:26:58.038231",
     "exception": true,
     "start_time": "2022-02-03T21:26:57.871736",
     "status": "failed"
    },
    "tags": []
   },
   "outputs": [
    {
     "ename": "FileNotFoundError",
     "evalue": "[Errno 2] No such file or directory: '/content/Bengaluru_House_Data.csv'",
     "output_type": "error",
     "traceback": [
      "\u001b[0;31m---------------------------------------------------------------------------\u001b[0m",
      "\u001b[0;31mFileNotFoundError\u001b[0m                         Traceback (most recent call last)",
      "\u001b[0;32m/tmp/ipykernel_20/2132616557.py\u001b[0m in \u001b[0;36m<module>\u001b[0;34m\u001b[0m\n\u001b[0;32m----> 1\u001b[0;31m \u001b[0mdata1\u001b[0m\u001b[0;34m=\u001b[0m \u001b[0mpd\u001b[0m\u001b[0;34m.\u001b[0m\u001b[0mread_csv\u001b[0m\u001b[0;34m(\u001b[0m\u001b[0;34m\"/content/Bengaluru_House_Data.csv\"\u001b[0m\u001b[0;34m)\u001b[0m\u001b[0;34m\u001b[0m\u001b[0;34m\u001b[0m\u001b[0m\n\u001b[0m",
      "\u001b[0;32m/opt/conda/lib/python3.7/site-packages/pandas/util/_decorators.py\u001b[0m in \u001b[0;36mwrapper\u001b[0;34m(*args, **kwargs)\u001b[0m\n\u001b[1;32m    309\u001b[0m                     \u001b[0mstacklevel\u001b[0m\u001b[0;34m=\u001b[0m\u001b[0mstacklevel\u001b[0m\u001b[0;34m,\u001b[0m\u001b[0;34m\u001b[0m\u001b[0;34m\u001b[0m\u001b[0m\n\u001b[1;32m    310\u001b[0m                 )\n\u001b[0;32m--> 311\u001b[0;31m             \u001b[0;32mreturn\u001b[0m \u001b[0mfunc\u001b[0m\u001b[0;34m(\u001b[0m\u001b[0;34m*\u001b[0m\u001b[0margs\u001b[0m\u001b[0;34m,\u001b[0m \u001b[0;34m**\u001b[0m\u001b[0mkwargs\u001b[0m\u001b[0;34m)\u001b[0m\u001b[0;34m\u001b[0m\u001b[0;34m\u001b[0m\u001b[0m\n\u001b[0m\u001b[1;32m    312\u001b[0m \u001b[0;34m\u001b[0m\u001b[0m\n\u001b[1;32m    313\u001b[0m         \u001b[0;32mreturn\u001b[0m \u001b[0mwrapper\u001b[0m\u001b[0;34m\u001b[0m\u001b[0;34m\u001b[0m\u001b[0m\n",
      "\u001b[0;32m/opt/conda/lib/python3.7/site-packages/pandas/io/parsers/readers.py\u001b[0m in \u001b[0;36mread_csv\u001b[0;34m(filepath_or_buffer, sep, delimiter, header, names, index_col, usecols, squeeze, prefix, mangle_dupe_cols, dtype, engine, converters, true_values, false_values, skipinitialspace, skiprows, skipfooter, nrows, na_values, keep_default_na, na_filter, verbose, skip_blank_lines, parse_dates, infer_datetime_format, keep_date_col, date_parser, dayfirst, cache_dates, iterator, chunksize, compression, thousands, decimal, lineterminator, quotechar, quoting, doublequote, escapechar, comment, encoding, encoding_errors, dialect, error_bad_lines, warn_bad_lines, on_bad_lines, delim_whitespace, low_memory, memory_map, float_precision, storage_options)\u001b[0m\n\u001b[1;32m    584\u001b[0m     \u001b[0mkwds\u001b[0m\u001b[0;34m.\u001b[0m\u001b[0mupdate\u001b[0m\u001b[0;34m(\u001b[0m\u001b[0mkwds_defaults\u001b[0m\u001b[0;34m)\u001b[0m\u001b[0;34m\u001b[0m\u001b[0;34m\u001b[0m\u001b[0m\n\u001b[1;32m    585\u001b[0m \u001b[0;34m\u001b[0m\u001b[0m\n\u001b[0;32m--> 586\u001b[0;31m     \u001b[0;32mreturn\u001b[0m \u001b[0m_read\u001b[0m\u001b[0;34m(\u001b[0m\u001b[0mfilepath_or_buffer\u001b[0m\u001b[0;34m,\u001b[0m \u001b[0mkwds\u001b[0m\u001b[0;34m)\u001b[0m\u001b[0;34m\u001b[0m\u001b[0;34m\u001b[0m\u001b[0m\n\u001b[0m\u001b[1;32m    587\u001b[0m \u001b[0;34m\u001b[0m\u001b[0m\n\u001b[1;32m    588\u001b[0m \u001b[0;34m\u001b[0m\u001b[0m\n",
      "\u001b[0;32m/opt/conda/lib/python3.7/site-packages/pandas/io/parsers/readers.py\u001b[0m in \u001b[0;36m_read\u001b[0;34m(filepath_or_buffer, kwds)\u001b[0m\n\u001b[1;32m    480\u001b[0m \u001b[0;34m\u001b[0m\u001b[0m\n\u001b[1;32m    481\u001b[0m     \u001b[0;31m# Create the parser.\u001b[0m\u001b[0;34m\u001b[0m\u001b[0;34m\u001b[0m\u001b[0;34m\u001b[0m\u001b[0m\n\u001b[0;32m--> 482\u001b[0;31m     \u001b[0mparser\u001b[0m \u001b[0;34m=\u001b[0m \u001b[0mTextFileReader\u001b[0m\u001b[0;34m(\u001b[0m\u001b[0mfilepath_or_buffer\u001b[0m\u001b[0;34m,\u001b[0m \u001b[0;34m**\u001b[0m\u001b[0mkwds\u001b[0m\u001b[0;34m)\u001b[0m\u001b[0;34m\u001b[0m\u001b[0;34m\u001b[0m\u001b[0m\n\u001b[0m\u001b[1;32m    483\u001b[0m \u001b[0;34m\u001b[0m\u001b[0m\n\u001b[1;32m    484\u001b[0m     \u001b[0;32mif\u001b[0m \u001b[0mchunksize\u001b[0m \u001b[0;32mor\u001b[0m \u001b[0miterator\u001b[0m\u001b[0;34m:\u001b[0m\u001b[0;34m\u001b[0m\u001b[0;34m\u001b[0m\u001b[0m\n",
      "\u001b[0;32m/opt/conda/lib/python3.7/site-packages/pandas/io/parsers/readers.py\u001b[0m in \u001b[0;36m__init__\u001b[0;34m(self, f, engine, **kwds)\u001b[0m\n\u001b[1;32m    809\u001b[0m             \u001b[0mself\u001b[0m\u001b[0;34m.\u001b[0m\u001b[0moptions\u001b[0m\u001b[0;34m[\u001b[0m\u001b[0;34m\"has_index_names\"\u001b[0m\u001b[0;34m]\u001b[0m \u001b[0;34m=\u001b[0m \u001b[0mkwds\u001b[0m\u001b[0;34m[\u001b[0m\u001b[0;34m\"has_index_names\"\u001b[0m\u001b[0;34m]\u001b[0m\u001b[0;34m\u001b[0m\u001b[0;34m\u001b[0m\u001b[0m\n\u001b[1;32m    810\u001b[0m \u001b[0;34m\u001b[0m\u001b[0m\n\u001b[0;32m--> 811\u001b[0;31m         \u001b[0mself\u001b[0m\u001b[0;34m.\u001b[0m\u001b[0m_engine\u001b[0m \u001b[0;34m=\u001b[0m \u001b[0mself\u001b[0m\u001b[0;34m.\u001b[0m\u001b[0m_make_engine\u001b[0m\u001b[0;34m(\u001b[0m\u001b[0mself\u001b[0m\u001b[0;34m.\u001b[0m\u001b[0mengine\u001b[0m\u001b[0;34m)\u001b[0m\u001b[0;34m\u001b[0m\u001b[0;34m\u001b[0m\u001b[0m\n\u001b[0m\u001b[1;32m    812\u001b[0m \u001b[0;34m\u001b[0m\u001b[0m\n\u001b[1;32m    813\u001b[0m     \u001b[0;32mdef\u001b[0m \u001b[0mclose\u001b[0m\u001b[0;34m(\u001b[0m\u001b[0mself\u001b[0m\u001b[0;34m)\u001b[0m\u001b[0;34m:\u001b[0m\u001b[0;34m\u001b[0m\u001b[0;34m\u001b[0m\u001b[0m\n",
      "\u001b[0;32m/opt/conda/lib/python3.7/site-packages/pandas/io/parsers/readers.py\u001b[0m in \u001b[0;36m_make_engine\u001b[0;34m(self, engine)\u001b[0m\n\u001b[1;32m   1038\u001b[0m             )\n\u001b[1;32m   1039\u001b[0m         \u001b[0;31m# error: Too many arguments for \"ParserBase\"\u001b[0m\u001b[0;34m\u001b[0m\u001b[0;34m\u001b[0m\u001b[0;34m\u001b[0m\u001b[0m\n\u001b[0;32m-> 1040\u001b[0;31m         \u001b[0;32mreturn\u001b[0m \u001b[0mmapping\u001b[0m\u001b[0;34m[\u001b[0m\u001b[0mengine\u001b[0m\u001b[0;34m]\u001b[0m\u001b[0;34m(\u001b[0m\u001b[0mself\u001b[0m\u001b[0;34m.\u001b[0m\u001b[0mf\u001b[0m\u001b[0;34m,\u001b[0m \u001b[0;34m**\u001b[0m\u001b[0mself\u001b[0m\u001b[0;34m.\u001b[0m\u001b[0moptions\u001b[0m\u001b[0;34m)\u001b[0m  \u001b[0;31m# type: ignore[call-arg]\u001b[0m\u001b[0;34m\u001b[0m\u001b[0;34m\u001b[0m\u001b[0m\n\u001b[0m\u001b[1;32m   1041\u001b[0m \u001b[0;34m\u001b[0m\u001b[0m\n\u001b[1;32m   1042\u001b[0m     \u001b[0;32mdef\u001b[0m \u001b[0m_failover_to_python\u001b[0m\u001b[0;34m(\u001b[0m\u001b[0mself\u001b[0m\u001b[0;34m)\u001b[0m\u001b[0;34m:\u001b[0m\u001b[0;34m\u001b[0m\u001b[0;34m\u001b[0m\u001b[0m\n",
      "\u001b[0;32m/opt/conda/lib/python3.7/site-packages/pandas/io/parsers/c_parser_wrapper.py\u001b[0m in \u001b[0;36m__init__\u001b[0;34m(self, src, **kwds)\u001b[0m\n\u001b[1;32m     49\u001b[0m \u001b[0;34m\u001b[0m\u001b[0m\n\u001b[1;32m     50\u001b[0m         \u001b[0;31m# open handles\u001b[0m\u001b[0;34m\u001b[0m\u001b[0;34m\u001b[0m\u001b[0;34m\u001b[0m\u001b[0m\n\u001b[0;32m---> 51\u001b[0;31m         \u001b[0mself\u001b[0m\u001b[0;34m.\u001b[0m\u001b[0m_open_handles\u001b[0m\u001b[0;34m(\u001b[0m\u001b[0msrc\u001b[0m\u001b[0;34m,\u001b[0m \u001b[0mkwds\u001b[0m\u001b[0;34m)\u001b[0m\u001b[0;34m\u001b[0m\u001b[0;34m\u001b[0m\u001b[0m\n\u001b[0m\u001b[1;32m     52\u001b[0m         \u001b[0;32massert\u001b[0m \u001b[0mself\u001b[0m\u001b[0;34m.\u001b[0m\u001b[0mhandles\u001b[0m \u001b[0;32mis\u001b[0m \u001b[0;32mnot\u001b[0m \u001b[0;32mNone\u001b[0m\u001b[0;34m\u001b[0m\u001b[0;34m\u001b[0m\u001b[0m\n\u001b[1;32m     53\u001b[0m \u001b[0;34m\u001b[0m\u001b[0m\n",
      "\u001b[0;32m/opt/conda/lib/python3.7/site-packages/pandas/io/parsers/base_parser.py\u001b[0m in \u001b[0;36m_open_handles\u001b[0;34m(self, src, kwds)\u001b[0m\n\u001b[1;32m    227\u001b[0m             \u001b[0mmemory_map\u001b[0m\u001b[0;34m=\u001b[0m\u001b[0mkwds\u001b[0m\u001b[0;34m.\u001b[0m\u001b[0mget\u001b[0m\u001b[0;34m(\u001b[0m\u001b[0;34m\"memory_map\"\u001b[0m\u001b[0;34m,\u001b[0m \u001b[0;32mFalse\u001b[0m\u001b[0;34m)\u001b[0m\u001b[0;34m,\u001b[0m\u001b[0;34m\u001b[0m\u001b[0;34m\u001b[0m\u001b[0m\n\u001b[1;32m    228\u001b[0m             \u001b[0mstorage_options\u001b[0m\u001b[0;34m=\u001b[0m\u001b[0mkwds\u001b[0m\u001b[0;34m.\u001b[0m\u001b[0mget\u001b[0m\u001b[0;34m(\u001b[0m\u001b[0;34m\"storage_options\"\u001b[0m\u001b[0;34m,\u001b[0m \u001b[0;32mNone\u001b[0m\u001b[0;34m)\u001b[0m\u001b[0;34m,\u001b[0m\u001b[0;34m\u001b[0m\u001b[0;34m\u001b[0m\u001b[0m\n\u001b[0;32m--> 229\u001b[0;31m             \u001b[0merrors\u001b[0m\u001b[0;34m=\u001b[0m\u001b[0mkwds\u001b[0m\u001b[0;34m.\u001b[0m\u001b[0mget\u001b[0m\u001b[0;34m(\u001b[0m\u001b[0;34m\"encoding_errors\"\u001b[0m\u001b[0;34m,\u001b[0m \u001b[0;34m\"strict\"\u001b[0m\u001b[0;34m)\u001b[0m\u001b[0;34m,\u001b[0m\u001b[0;34m\u001b[0m\u001b[0;34m\u001b[0m\u001b[0m\n\u001b[0m\u001b[1;32m    230\u001b[0m         )\n\u001b[1;32m    231\u001b[0m \u001b[0;34m\u001b[0m\u001b[0m\n",
      "\u001b[0;32m/opt/conda/lib/python3.7/site-packages/pandas/io/common.py\u001b[0m in \u001b[0;36mget_handle\u001b[0;34m(path_or_buf, mode, encoding, compression, memory_map, is_text, errors, storage_options)\u001b[0m\n\u001b[1;32m    705\u001b[0m                 \u001b[0mencoding\u001b[0m\u001b[0;34m=\u001b[0m\u001b[0mioargs\u001b[0m\u001b[0;34m.\u001b[0m\u001b[0mencoding\u001b[0m\u001b[0;34m,\u001b[0m\u001b[0;34m\u001b[0m\u001b[0;34m\u001b[0m\u001b[0m\n\u001b[1;32m    706\u001b[0m                 \u001b[0merrors\u001b[0m\u001b[0;34m=\u001b[0m\u001b[0merrors\u001b[0m\u001b[0;34m,\u001b[0m\u001b[0;34m\u001b[0m\u001b[0;34m\u001b[0m\u001b[0m\n\u001b[0;32m--> 707\u001b[0;31m                 \u001b[0mnewline\u001b[0m\u001b[0;34m=\u001b[0m\u001b[0;34m\"\"\u001b[0m\u001b[0;34m,\u001b[0m\u001b[0;34m\u001b[0m\u001b[0;34m\u001b[0m\u001b[0m\n\u001b[0m\u001b[1;32m    708\u001b[0m             )\n\u001b[1;32m    709\u001b[0m         \u001b[0;32melse\u001b[0m\u001b[0;34m:\u001b[0m\u001b[0;34m\u001b[0m\u001b[0;34m\u001b[0m\u001b[0m\n",
      "\u001b[0;31mFileNotFoundError\u001b[0m: [Errno 2] No such file or directory: '/content/Bengaluru_House_Data.csv'"
     ]
    }
   ],
   "source": [
    "data1= pd.read_csv(\"/content/Bengaluru_House_Data.csv\")"
   ]
  },
  {
   "cell_type": "markdown",
   "id": "90a89b42",
   "metadata": {
    "id": "SeD9bvM4XYDf",
    "papermill": {
     "duration": null,
     "end_time": null,
     "exception": null,
     "start_time": null,
     "status": "pending"
    },
    "tags": []
   },
   "source": [
    "Visualizando o dataset"
   ]
  },
  {
   "cell_type": "code",
   "execution_count": null,
   "id": "61920dce",
   "metadata": {
    "id": "scWFWIYMXYKd",
    "outputId": "f94fbcee-278b-4b1f-fecf-6ebab7d8e9f7",
    "papermill": {
     "duration": null,
     "end_time": null,
     "exception": null,
     "start_time": null,
     "status": "pending"
    },
    "tags": []
   },
   "outputs": [],
   "source": [
    "data1.head(20)"
   ]
  },
  {
   "cell_type": "markdown",
   "id": "6eca10ca",
   "metadata": {
    "id": "hKStUeOZXYab",
    "papermill": {
     "duration": null,
     "end_time": null,
     "exception": null,
     "start_time": null,
     "status": "pending"
    },
    "tags": []
   },
   "source": [
    "Conferindo o shape do dataset"
   ]
  },
  {
   "cell_type": "code",
   "execution_count": null,
   "id": "f26ad1fe",
   "metadata": {
    "id": "K_jpbrwyXYt1",
    "outputId": "55717353-414f-41d3-ab54-273691191343",
    "papermill": {
     "duration": null,
     "end_time": null,
     "exception": null,
     "start_time": null,
     "status": "pending"
    },
    "tags": []
   },
   "outputs": [],
   "source": [
    "data1.shape"
   ]
  },
  {
   "cell_type": "markdown",
   "id": "6d73557f",
   "metadata": {
    "id": "9S5jFgIbXYdq",
    "papermill": {
     "duration": null,
     "end_time": null,
     "exception": null,
     "start_time": null,
     "status": "pending"
    },
    "tags": []
   },
   "source": [
    "Excluindo os atributos irrelevantes"
   ]
  },
  {
   "cell_type": "code",
   "execution_count": null,
   "id": "e1e12f7e",
   "metadata": {
    "id": "ToVn4N7mXYw6",
    "outputId": "45f17f34-ea27-41b4-c8cc-b0bf8fb3e0bd",
    "papermill": {
     "duration": null,
     "end_time": null,
     "exception": null,
     "start_time": null,
     "status": "pending"
    },
    "tags": []
   },
   "outputs": [],
   "source": [
    "data2 = data1.drop(['area_type','society','balcony'],axis=1)\n",
    "data2.shape"
   ]
  },
  {
   "cell_type": "markdown",
   "id": "f9f854a1",
   "metadata": {
    "id": "Yv_s8CBHXYgP",
    "papermill": {
     "duration": null,
     "end_time": null,
     "exception": null,
     "start_time": null,
     "status": "pending"
    },
    "tags": []
   },
   "source": [
    "Limpeza de dados:Excluindo valores nulos"
   ]
  },
  {
   "cell_type": "code",
   "execution_count": null,
   "id": "fb69c555",
   "metadata": {
    "id": "N1anStYS6fpt",
    "outputId": "e7fb392f-5105-46dc-da36-5bc05b2e4aff",
    "papermill": {
     "duration": null,
     "end_time": null,
     "exception": null,
     "start_time": null,
     "status": "pending"
    },
    "tags": []
   },
   "outputs": [],
   "source": [
    "data2.isnull().sum()"
   ]
  },
  {
   "cell_type": "code",
   "execution_count": null,
   "id": "262a49f5",
   "metadata": {
    "id": "XPFTDgXMdPxB",
    "outputId": "290383f9-2014-472b-e0a8-e50baa8db384",
    "papermill": {
     "duration": null,
     "end_time": null,
     "exception": null,
     "start_time": null,
     "status": "pending"
    },
    "tags": []
   },
   "outputs": [],
   "source": [
    "data2.shape"
   ]
  },
  {
   "cell_type": "code",
   "execution_count": null,
   "id": "e564aef3",
   "metadata": {
    "id": "ys-DtoU4dWht",
    "outputId": "5e4c608d-bd0b-426e-f6f4-8bc340cacde4",
    "papermill": {
     "duration": null,
     "end_time": null,
     "exception": null,
     "start_time": null,
     "status": "pending"
    },
    "tags": []
   },
   "outputs": [],
   "source": [
    "data3=data2.dropna()\n",
    "data3.isnull().sum()"
   ]
  },
  {
   "cell_type": "markdown",
   "id": "24d40ce1",
   "metadata": {
    "id": "Msi2K1PVeoCH",
    "papermill": {
     "duration": null,
     "end_time": null,
     "exception": null,
     "start_time": null,
     "status": "pending"
    },
    "tags": []
   },
   "source": [
    "**Engenharia de dados**\n",
    "* Adicionar uma nova coluna chamada br(bedroom/quartos)"
   ]
  },
  {
   "cell_type": "code",
   "execution_count": null,
   "id": "bea69fb3",
   "metadata": {
    "id": "6rl2CEbcepgl",
    "outputId": "1b14cf8b-c5bd-4c89-e4d0-295e434da0c7",
    "papermill": {
     "duration": null,
     "end_time": null,
     "exception": null,
     "start_time": null,
     "status": "pending"
    },
    "tags": []
   },
   "outputs": [],
   "source": [
    "data3['br'] = data3['size'].apply(lambda x: int(x.split(' ')[0]))\n",
    "data3.br.unique()"
   ]
  },
  {
   "cell_type": "markdown",
   "id": "8140afce",
   "metadata": {
    "id": "4EHjFi_cirRk",
    "papermill": {
     "duration": null,
     "end_time": null,
     "exception": null,
     "start_time": null,
     "status": "pending"
    },
    "tags": []
   },
   "source": [
    "Checando a coluna \"total_sqft\""
   ]
  },
  {
   "cell_type": "code",
   "execution_count": null,
   "id": "7460fdb4",
   "metadata": {
    "id": "Zh4ZWuQLjhx5",
    "outputId": "6885e1d2-202b-400a-e5e4-693cc742aafa",
    "papermill": {
     "duration": null,
     "end_time": null,
     "exception": null,
     "start_time": null,
     "status": "pending"
    },
    "tags": []
   },
   "outputs": [],
   "source": [
    "data3.head(50)"
   ]
  },
  {
   "cell_type": "markdown",
   "id": "891fa337",
   "metadata": {
    "id": "YsGDeCCzj4Pv",
    "papermill": {
     "duration": null,
     "end_time": null,
     "exception": null,
     "start_time": null,
     "status": "pending"
    },
    "tags": []
   },
   "source": [
    "Verificando se existe outras linhas com o mesmo problema da linha 30"
   ]
  },
  {
   "cell_type": "code",
   "execution_count": null,
   "id": "a05f1eeb",
   "metadata": {
    "id": "M2hgWzCoiUdc",
    "papermill": {
     "duration": null,
     "end_time": null,
     "exception": null,
     "start_time": null,
     "status": "pending"
    },
    "tags": []
   },
   "outputs": [],
   "source": [
    "def is_float(x):\n",
    "    try:\n",
    "        float(x)\n",
    "    except:\n",
    "        return False\n",
    "    return True"
   ]
  },
  {
   "cell_type": "code",
   "execution_count": null,
   "id": "b48a06b7",
   "metadata": {
    "id": "_zFn7isUjAZZ",
    "outputId": "db64ae82-0123-415f-bb23-8b49208ee23c",
    "papermill": {
     "duration": null,
     "end_time": null,
     "exception": null,
     "start_time": null,
     "status": "pending"
    },
    "tags": []
   },
   "outputs": [],
   "source": [
    "data3[~data3['total_sqft'].apply(is_float)].head(10)"
   ]
  },
  {
   "cell_type": "markdown",
   "id": "687a4c24",
   "metadata": {
    "id": "34plvFk4eoMm",
    "papermill": {
     "duration": null,
     "end_time": null,
     "exception": null,
     "start_time": null,
     "status": "pending"
    },
    "tags": []
   },
   "source": [
    "Aqui nesse caso vamos tirar a média da coluna \"total_sqft\" em que se apresenta dois valores,e os valores que estão em outras unidades de medida,irei apenas excluir."
   ]
  },
  {
   "cell_type": "code",
   "execution_count": null,
   "id": "0f7e92ee",
   "metadata": {
    "id": "XQXdUmjReo-j",
    "papermill": {
     "duration": null,
     "end_time": null,
     "exception": null,
     "start_time": null,
     "status": "pending"
    },
    "tags": []
   },
   "outputs": [],
   "source": [
    "def pegando_a_media_sqft(x):\n",
    "    valores = x.split('-')\n",
    "    if len(valores) == 2:\n",
    "        return (float(valores[0])+float(valores[1]))/2\n",
    "    try:\n",
    "        return float(x)\n",
    "    except:\n",
    "        return None   "
   ]
  },
  {
   "cell_type": "code",
   "execution_count": null,
   "id": "5fc41ca9",
   "metadata": {
    "id": "XNIe0vvcoER1",
    "outputId": "6b67b9fa-b2fc-400c-c089-60c53a894bc6",
    "papermill": {
     "duration": null,
     "end_time": null,
     "exception": null,
     "start_time": null,
     "status": "pending"
    },
    "tags": []
   },
   "outputs": [],
   "source": [
    "data3.shape"
   ]
  },
  {
   "cell_type": "code",
   "execution_count": null,
   "id": "b5852794",
   "metadata": {
    "id": "nIGJjogserAj",
    "outputId": "d2785dcc-2eff-4d40-96e1-0037c78089d3",
    "papermill": {
     "duration": null,
     "end_time": null,
     "exception": null,
     "start_time": null,
     "status": "pending"
    },
    "tags": []
   },
   "outputs": [],
   "source": [
    "data4 = data3.copy()\n",
    "data4.total_sqft = data4.total_sqft.apply(pegando_a_media_sqft)\n",
    "data4 = data4[data4.total_sqft.notnull()]\n",
    "data4.head()"
   ]
  },
  {
   "cell_type": "code",
   "execution_count": null,
   "id": "20d4f36e",
   "metadata": {
    "id": "AGtT_9qDoJXD",
    "outputId": "43626bd0-6c0f-4673-932a-6a7ea8d66107",
    "papermill": {
     "duration": null,
     "end_time": null,
     "exception": null,
     "start_time": null,
     "status": "pending"
    },
    "tags": []
   },
   "outputs": [],
   "source": [
    "data4.shape"
   ]
  },
  {
   "cell_type": "markdown",
   "id": "733f0762",
   "metadata": {
    "id": "gTHxNvPuocfR",
    "papermill": {
     "duration": null,
     "end_time": null,
     "exception": null,
     "start_time": null,
     "status": "pending"
    },
    "tags": []
   },
   "source": [
    "Verificando se a função fez a media dos valores na coluna \"total_sqft\""
   ]
  },
  {
   "cell_type": "code",
   "execution_count": null,
   "id": "d0889e85",
   "metadata": {
    "id": "Fz7umCAtoZFR",
    "outputId": "3763896c-b833-448e-87f8-98e8be688772",
    "papermill": {
     "duration": null,
     "end_time": null,
     "exception": null,
     "start_time": null,
     "status": "pending"
    },
    "tags": []
   },
   "outputs": [],
   "source": [
    "data4.loc[30]"
   ]
  },
  {
   "cell_type": "markdown",
   "id": "c6bf856a",
   "metadata": {
    "id": "Pq1s-762oOBe",
    "papermill": {
     "duration": null,
     "end_time": null,
     "exception": null,
     "start_time": null,
     "status": "pending"
    },
    "tags": []
   },
   "source": [
    "adicionando uma nova coluna chamada preço por metro quadrado\n",
    "\n"
   ]
  },
  {
   "cell_type": "code",
   "execution_count": null,
   "id": "0f8302cc",
   "metadata": {
    "id": "IpzTNpjeoMxM",
    "outputId": "9090869c-ded7-41ab-901f-efe2da0eaa15",
    "papermill": {
     "duration": null,
     "end_time": null,
     "exception": null,
     "start_time": null,
     "status": "pending"
    },
    "tags": []
   },
   "outputs": [],
   "source": [
    "data5 = data4.copy()\n",
    "data5['price_per_sqft'] = data5['price']*1000000/data5['total_sqft']\n",
    "data5.head()"
   ]
  },
  {
   "cell_type": "markdown",
   "id": "0eb58d2f",
   "metadata": {
    "id": "W21qszgfxOEz",
    "papermill": {
     "duration": null,
     "end_time": null,
     "exception": null,
     "start_time": null,
     "status": "pending"
    },
    "tags": []
   },
   "source": [
    "exportando o arquivo para excel pra conseguir fazer uma analise mais detalhada"
   ]
  },
  {
   "cell_type": "code",
   "execution_count": null,
   "id": "12c427a9",
   "metadata": {
    "id": "wmXm9wZEfaLG",
    "papermill": {
     "duration": null,
     "end_time": null,
     "exception": null,
     "start_time": null,
     "status": "pending"
    },
    "tags": []
   },
   "outputs": [],
   "source": [
    "data5.to_csv(\"bhp.csv\",index=False)"
   ]
  },
  {
   "cell_type": "markdown",
   "id": "7d29c0f5",
   "metadata": {
    "id": "V2T8gRfTeoTh",
    "papermill": {
     "duration": null,
     "end_time": null,
     "exception": null,
     "start_time": null,
     "status": "pending"
    },
    "tags": []
   },
   "source": [
    "verificando a coluna \"location\" pra ver a quantidade de valores diferentes"
   ]
  },
  {
   "cell_type": "code",
   "execution_count": null,
   "id": "92de8ce4",
   "metadata": {
    "id": "2536ARFJhjp1",
    "outputId": "b3e2010f-9425-4767-d3a5-6e861c64dc13",
    "papermill": {
     "duration": null,
     "end_time": null,
     "exception": null,
     "start_time": null,
     "status": "pending"
    },
    "tags": []
   },
   "outputs": [],
   "source": [
    "data5.location = data5.location.apply(lambda x: x.strip())\n",
    "location_stats = data5['location'].value_counts(ascending=False)\n",
    "location_stats"
   ]
  },
  {
   "cell_type": "markdown",
   "id": "74c7907a",
   "metadata": {
    "id": "TTSpBEjZjWYi",
    "papermill": {
     "duration": null,
     "end_time": null,
     "exception": null,
     "start_time": null,
     "status": "pending"
    },
    "tags": []
   },
   "source": [
    "localizações que aparece mais de 10x"
   ]
  },
  {
   "cell_type": "code",
   "execution_count": null,
   "id": "ac6e1395",
   "metadata": {
    "id": "vmaFPGNWjP39",
    "outputId": "add25c8d-881e-4537-9750-736622ec6e15",
    "papermill": {
     "duration": null,
     "end_time": null,
     "exception": null,
     "start_time": null,
     "status": "pending"
    },
    "tags": []
   },
   "outputs": [],
   "source": [
    "len(location_stats[location_stats>10])\n"
   ]
  },
  {
   "cell_type": "code",
   "execution_count": null,
   "id": "ad653890",
   "metadata": {
    "id": "fID-bQcsjrtJ",
    "outputId": "0cced849-0b09-45ee-bdb8-91f8bec5ebdb",
    "papermill": {
     "duration": null,
     "end_time": null,
     "exception": null,
     "start_time": null,
     "status": "pending"
    },
    "tags": []
   },
   "outputs": [],
   "source": [
    "len(location_stats[location_stats<=10])"
   ]
  },
  {
   "cell_type": "markdown",
   "id": "ace68ce8",
   "metadata": {
    "id": "_MOTNhN_eoZS",
    "papermill": {
     "duration": null,
     "end_time": null,
     "exception": null,
     "start_time": null,
     "status": "pending"
    },
    "tags": []
   },
   "source": [
    "juntando todas as localizações que aparecem menos de 10x em um valor:\"outros\""
   ]
  },
  {
   "cell_type": "code",
   "execution_count": null,
   "id": "22b20dc5",
   "metadata": {
    "id": "94PihiUierdp",
    "outputId": "adb734c1-362f-48dd-febf-d3db84ce4ba5",
    "papermill": {
     "duration": null,
     "end_time": null,
     "exception": null,
     "start_time": null,
     "status": "pending"
    },
    "tags": []
   },
   "outputs": [],
   "source": [
    "location_stats_less_than_10 = location_stats[location_stats<=10]\n",
    "location_stats_less_than_10"
   ]
  },
  {
   "cell_type": "code",
   "execution_count": null,
   "id": "c89f8b1e",
   "metadata": {
    "id": "ZajBsZKMnzPO",
    "outputId": "17203588-b9ea-4786-f341-4ce248a8d088",
    "papermill": {
     "duration": null,
     "end_time": null,
     "exception": null,
     "start_time": null,
     "status": "pending"
    },
    "tags": []
   },
   "outputs": [],
   "source": [
    "data5.location = data5.location.apply(lambda x: 'other' if x in location_stats_less_than_10 else x)\n",
    "len(data5.location.unique())"
   ]
  },
  {
   "cell_type": "code",
   "execution_count": null,
   "id": "f8a5086c",
   "metadata": {
    "id": "Dnbp_IcSxFLV",
    "outputId": "dbe56407-1bfe-4947-eaa8-fe7d1277f26f",
    "papermill": {
     "duration": null,
     "end_time": null,
     "exception": null,
     "start_time": null,
     "status": "pending"
    },
    "tags": []
   },
   "outputs": [],
   "source": [
    "data5.head()"
   ]
  },
  {
   "cell_type": "markdown",
   "id": "2977503f",
   "metadata": {
    "id": "A4_yWVQ7eoeG",
    "papermill": {
     "duration": null,
     "end_time": null,
     "exception": null,
     "start_time": null,
     "status": "pending"
    },
    "tags": []
   },
   "source": [
    "Analisando a coluna availability"
   ]
  },
  {
   "cell_type": "code",
   "execution_count": null,
   "id": "615ed3b0",
   "metadata": {
    "id": "Ylfhh1YBecrK",
    "outputId": "c6c026aa-5e15-4bda-f059-cdb5d0e75bc6",
    "papermill": {
     "duration": null,
     "end_time": null,
     "exception": null,
     "start_time": null,
     "status": "pending"
    },
    "tags": []
   },
   "outputs": [],
   "source": [
    "availability_stats = data5['availability'].value_counts(ascending=False)\n",
    "availability_stats"
   ]
  },
  {
   "cell_type": "markdown",
   "id": "73ec0870",
   "metadata": {
    "id": "g4pNIg14oL-x",
    "papermill": {
     "duration": null,
     "end_time": null,
     "exception": null,
     "start_time": null,
     "status": "pending"
    },
    "tags": []
   },
   "source": [
    "Dividindo a coluna \"availability\" em dois valores:Disponivel e Indisponivel"
   ]
  },
  {
   "cell_type": "code",
   "execution_count": null,
   "id": "54c49ff9",
   "metadata": {
    "id": "XIMhffxpjLlH",
    "papermill": {
     "duration": null,
     "end_time": null,
     "exception": null,
     "start_time": null,
     "status": "pending"
    },
    "tags": []
   },
   "outputs": [],
   "source": [
    "def verificando_disponibilidade(x):\n",
    "    disponibilidade = x.strip()\n",
    "    y='Unavailable'\n",
    "    if disponibilidade == \"Ready To Move\":\n",
    "        return x\n",
    "    else:\n",
    "        return y"
   ]
  },
  {
   "cell_type": "code",
   "execution_count": null,
   "id": "f025bc86",
   "metadata": {
    "id": "-pUJzbfSzTvK",
    "outputId": "4b9692f7-43c5-44b4-c573-d8d642e99faa",
    "papermill": {
     "duration": null,
     "end_time": null,
     "exception": null,
     "start_time": null,
     "status": "pending"
    },
    "tags": []
   },
   "outputs": [],
   "source": [
    "data6 = data5.copy()\n",
    "data6.availability = data6.availability.apply(verificando_disponibilidade)\n",
    "data6.head(10)"
   ]
  },
  {
   "cell_type": "markdown",
   "id": "372353a3",
   "metadata": {
    "id": "HZNIwxsIo6_G",
    "papermill": {
     "duration": null,
     "end_time": null,
     "exception": null,
     "start_time": null,
     "status": "pending"
    },
    "tags": []
   },
   "source": [
    "Verificando se teve algum problema na transformação dos dados"
   ]
  },
  {
   "cell_type": "markdown",
   "id": "23e2b304",
   "metadata": {
    "id": "LZ77U23Jpfh4",
    "papermill": {
     "duration": null,
     "end_time": null,
     "exception": null,
     "start_time": null,
     "status": "pending"
    },
    "tags": []
   },
   "source": [
    "Sem problemas!Podemos continuar."
   ]
  },
  {
   "cell_type": "markdown",
   "id": "2d384d18",
   "metadata": {
    "id": "RWNfWyuRr1ws",
    "papermill": {
     "duration": null,
     "end_time": null,
     "exception": null,
     "start_time": null,
     "status": "pending"
    },
    "tags": []
   },
   "source": [
    "Removendo outliers:br_per_sqft e total_qsft"
   ]
  },
  {
   "cell_type": "code",
   "execution_count": null,
   "id": "76b4bdca",
   "metadata": {
    "id": "zn26Z-yJIXLY",
    "outputId": "c6abc424-2c2f-42d1-a4d9-9f0bad8a4ab2",
    "papermill": {
     "duration": null,
     "end_time": null,
     "exception": null,
     "start_time": null,
     "status": "pending"
    },
    "tags": []
   },
   "outputs": [],
   "source": [
    "data6.shape"
   ]
  },
  {
   "cell_type": "markdown",
   "id": "cee874cd",
   "metadata": {
    "id": "a-JkUpHCxePu",
    "papermill": {
     "duration": null,
     "end_time": null,
     "exception": null,
     "start_time": null,
     "status": "pending"
    },
    "tags": []
   },
   "source": [
    "Vamos procurar qual a média de quartos por sqft e depois remover os outleirs ."
   ]
  },
  {
   "cell_type": "code",
   "execution_count": null,
   "id": "94a0882f",
   "metadata": {
    "id": "jjYoTzb2o4NY",
    "outputId": "a3ed4afb-7c9f-4dca-9c38-abf2f0fed014",
    "papermill": {
     "duration": null,
     "end_time": null,
     "exception": null,
     "start_time": null,
     "status": "pending"
    },
    "tags": []
   },
   "outputs": [],
   "source": [
    "data6['br_per_sqft'] = data5['total_sqft']/data6['br']\n",
    "data6.head()"
   ]
  },
  {
   "cell_type": "code",
   "execution_count": null,
   "id": "7c8bf6cc",
   "metadata": {
    "id": "45Fq0pY28qiP",
    "outputId": "949a1796-e76f-49a5-bb75-b855167b5de4",
    "papermill": {
     "duration": null,
     "end_time": null,
     "exception": null,
     "start_time": null,
     "status": "pending"
    },
    "tags": []
   },
   "outputs": [],
   "source": [
    "data6.br_per_sqft.describe()"
   ]
  },
  {
   "cell_type": "markdown",
   "id": "1e5526df",
   "metadata": {
    "id": "yC0EidoWlHpG",
    "papermill": {
     "duration": null,
     "end_time": null,
     "exception": null,
     "start_time": null,
     "status": "pending"
    },
    "tags": []
   },
   "source": [
    "Como podemos perceber o dataset está desbalanceado,enquanto tem lugares que a prorpoção é de 4 quartos por 1 sqft.Em outros lugares a prorpoção é de 26.136 sqft por 1 quarto.Então vamos usar o método IQR(A variação interquarti)para identifcar e excluir os outliers."
   ]
  },
  {
   "cell_type": "code",
   "execution_count": null,
   "id": "008d0e58",
   "metadata": {
    "id": "KK5u4vP48u4S",
    "papermill": {
     "duration": null,
     "end_time": null,
     "exception": null,
     "start_time": null,
     "status": "pending"
    },
    "tags": []
   },
   "outputs": [],
   "source": [
    "Q1 = data6.br_per_sqft.quantile(0.25)\n",
    "Q3 = data6.br_per_sqft.quantile(0.75)\n",
    "IQR = Q3 - Q1\n",
    "data6.br_per_sqft= data6.br_per_sqft[~((data6.br_per_sqft < (Q1 - 1.5 * IQR)) |(data6.br_per_sqft > (Q3 + 1.5 * IQR)))]\n",
    "data7=data6.dropna()"
   ]
  },
  {
   "cell_type": "code",
   "execution_count": null,
   "id": "04c0fdab",
   "metadata": {
    "id": "fDsgj6ZhMnL3",
    "outputId": "b09475df-286a-454f-e8f6-3cbd9345f4b8",
    "papermill": {
     "duration": null,
     "end_time": null,
     "exception": null,
     "start_time": null,
     "status": "pending"
    },
    "tags": []
   },
   "outputs": [],
   "source": [
    "data7.br_per_sqft.describe()"
   ]
  },
  {
   "cell_type": "markdown",
   "id": "27b1b8aa",
   "metadata": {
    "id": "bu1eAyGMF2Q5",
    "papermill": {
     "duration": null,
     "end_time": null,
     "exception": null,
     "start_time": null,
     "status": "pending"
    },
    "tags": []
   },
   "source": [
    "Nós eliminamos mais 1361 outliers"
   ]
  },
  {
   "cell_type": "code",
   "execution_count": null,
   "id": "834086c3",
   "metadata": {
    "id": "_4FnwB1lI6xj",
    "outputId": "7f669bf4-dc55-4f8d-fdda-2b4fe7f4d29e",
    "papermill": {
     "duration": null,
     "end_time": null,
     "exception": null,
     "start_time": null,
     "status": "pending"
    },
    "tags": []
   },
   "outputs": [],
   "source": [
    "data7.shape"
   ]
  },
  {
   "cell_type": "code",
   "execution_count": null,
   "id": "efefdb7b",
   "metadata": {
    "id": "gr8HEWEENdIX",
    "outputId": "e3cd0078-3ca7-4025-9a03-4d24a31a0cc9",
    "papermill": {
     "duration": null,
     "end_time": null,
     "exception": null,
     "start_time": null,
     "status": "pending"
    },
    "tags": []
   },
   "outputs": [],
   "source": [
    "print(13200-11839)"
   ]
  },
  {
   "cell_type": "markdown",
   "id": "09b95c2d",
   "metadata": {
    "id": "OIVK2-cXI8OR",
    "papermill": {
     "duration": null,
     "end_time": null,
     "exception": null,
     "start_time": null,
     "status": "pending"
    },
    "tags": []
   },
   "source": [
    "Removendo outliers por meio da location e do price_per_sqft.Vamos comparar,se temos algum imóvel,que esteja na mesma localização e que tenha 3 quartos, com um imóvel de 2 quartos.Para conseguir ver,se na memsa localização e com mais quartos,tenha um preço por sqft igual ou menor do que um imóvel com menos quartos.Para isso vamos pegar duas das cinco localizações mais recorrentes:Thanisandra e Electronic City."
   ]
  },
  {
   "cell_type": "code",
   "execution_count": null,
   "id": "ee409d45",
   "metadata": {
    "id": "sxtnF3rAF0Mq",
    "outputId": "b474af62-b181-42d7-bb45-acf0ee982ddf",
    "papermill": {
     "duration": null,
     "end_time": null,
     "exception": null,
     "start_time": null,
     "status": "pending"
    },
    "tags": []
   },
   "outputs": [],
   "source": [
    "def plot_scatter_chart(df,location):\n",
    "    bhk2 = df[(df.location==location) & (df.br==2)]\n",
    "    bhk3 = df[(df.location==location) & (df.br==3)]\n",
    "    matplotlib.rcParams['figure.figsize'] = (15,10)\n",
    "    plt.scatter(bhk2.total_sqft,bhk2.price,color='blue',label='2 BHK')\n",
    "    plt.scatter(bhk3.total_sqft,bhk3.price,marker='+', color='green',label='3 BHK')\n",
    "    plt.xlabel(\"Total Square Feet Area\")\n",
    "    plt.ylabel(\"Price (Lakh Indian Rupees)\")\n",
    "    plt.title(location)\n",
    "    plt.legend()\n",
    "    \n",
    "plot_scatter_chart(data7,\"Hebbal\")"
   ]
  },
  {
   "cell_type": "markdown",
   "id": "addf2294",
   "metadata": {
    "id": "czwBKd55Wllk",
    "papermill": {
     "duration": null,
     "end_time": null,
     "exception": null,
     "start_time": null,
     "status": "pending"
    },
    "tags": []
   },
   "source": [
    "Como podemos ver,existem alguns imóveis de 3 quartos que mesmo tendo o tamanho e localização iguais,são mais baratos do que alguns imóveis de 2 quartos.bom,como isso,muito provavelmente são outliers, iremos removê-los."
   ]
  },
  {
   "cell_type": "code",
   "execution_count": null,
   "id": "8a46c9c0",
   "metadata": {
    "id": "ACQetYceH8iB",
    "outputId": "d2331305-dd05-4c0f-e14d-7e04ad53adc5",
    "papermill": {
     "duration": null,
     "end_time": null,
     "exception": null,
     "start_time": null,
     "status": "pending"
    },
    "tags": []
   },
   "outputs": [],
   "source": [
    "plot_scatter_chart(data7,\"Rajaji Nagar\")"
   ]
  },
  {
   "cell_type": "markdown",
   "id": "65a1b1ee",
   "metadata": {
    "id": "C7p5enMWI0fp",
    "papermill": {
     "duration": null,
     "end_time": null,
     "exception": null,
     "start_time": null,
     "status": "pending"
    },
    "tags": []
   },
   "source": [
    "Criando uma função para remover os outlierts"
   ]
  },
  {
   "cell_type": "code",
   "execution_count": null,
   "id": "32867173",
   "metadata": {
    "id": "h2RJpqSOPmjX",
    "outputId": "880915a7-7e20-4ae6-ae48-f9b60c292985",
    "papermill": {
     "duration": null,
     "end_time": null,
     "exception": null,
     "start_time": null,
     "status": "pending"
    },
    "tags": []
   },
   "outputs": [],
   "source": [
    "def remove_br_outliers(df):\n",
    "    exclude_indices = np.array([])\n",
    "    for location, location_df in df.groupby('location'):\n",
    "        br_stats = {}\n",
    "        for br, br_df in location_df.groupby('br'):\n",
    "            br_stats[br] = {\n",
    "                'mean': np.mean(br_df.price_per_sqft),\n",
    "                'std': np.std(br_df.price_per_sqft),\n",
    "                'count': br_df.shape[0]\n",
    "            }\n",
    "        for br, br_df in location_df.groupby('br'):\n",
    "            stats = br_stats.get(br-1)\n",
    "            if stats and stats['count']>5:\n",
    "                exclude_indices = np.append(exclude_indices, br_df[br_df.price_per_sqft<(stats['mean'])].index.values)\n",
    "    return df.drop(exclude_indices,axis='index')\n",
    "data8 = remove_br_outliers(data7)\n",
    "data8.shape"
   ]
  },
  {
   "cell_type": "markdown",
   "id": "a99a0e2c",
   "metadata": {
    "id": "8xhGYcKlZh2I",
    "papermill": {
     "duration": null,
     "end_time": null,
     "exception": null,
     "start_time": null,
     "status": "pending"
    },
    "tags": []
   },
   "source": [
    "O que acontece nessa função é basicamente o seguinte.Estamos criando um dicionário que vai mostrar a média,o desvio padrão e quantidade de imóveis por o número de quartos,tods na mesmaslocalização.Se o \"preço por metro \"de algum imóvel nesse dicionario for menor do que a média,dos outros imóveis com as mesmas característica,o imóvel será removido."
   ]
  },
  {
   "cell_type": "markdown",
   "id": "c4d2a737",
   "metadata": {
    "id": "SVCdXG1lcg_H",
    "papermill": {
     "duration": null,
     "end_time": null,
     "exception": null,
     "start_time": null,
     "status": "pending"
    },
    "tags": []
   },
   "source": [
    "Exemplo de como ficaria:"
   ]
  },
  {
   "cell_type": "markdown",
   "id": "4fce7d7a",
   "metadata": {
    "id": "CjmETrNUcRq3",
    "papermill": {
     "duration": null,
     "end_time": null,
     "exception": null,
     "start_time": null,
     "status": "pending"
    },
    "tags": []
   },
   "source": [
    "\n",
    "    '1' : {\n",
    "        'mean': 4000,\n",
    "        'std: 2000,\n",
    "        'count': 34\n",
    "    },\n",
    "    '2' : {\n",
    "        'mean': 4300,\n",
    "        'std: 2300,\n",
    "        'count': 22\n",
    "    },    \n"
   ]
  },
  {
   "cell_type": "code",
   "execution_count": null,
   "id": "d35dafdb",
   "metadata": {
    "id": "W1jIGEd8TPRE",
    "outputId": "613a436d-f6db-46d1-d1cd-00c663292beb",
    "papermill": {
     "duration": null,
     "end_time": null,
     "exception": null,
     "start_time": null,
     "status": "pending"
    },
    "tags": []
   },
   "outputs": [],
   "source": [
    "plot_scatter_chart(data8,\"Hebbal\")"
   ]
  },
  {
   "cell_type": "code",
   "execution_count": null,
   "id": "c0f36a5b",
   "metadata": {
    "id": "pARC9d8Ddc4m",
    "outputId": "bcf6aaaf-d851-45c8-ef80-578f29d5cbeb",
    "papermill": {
     "duration": null,
     "end_time": null,
     "exception": null,
     "start_time": null,
     "status": "pending"
    },
    "tags": []
   },
   "outputs": [],
   "source": [
    "adc=plot_scatter_chart(data8,\"Rajaji Nagar\")"
   ]
  },
  {
   "cell_type": "markdown",
   "id": "7a5d850b",
   "metadata": {
    "id": "fIhnI9w4lbR3",
    "papermill": {
     "duration": null,
     "end_time": null,
     "exception": null,
     "start_time": null,
     "status": "pending"
    },
    "tags": []
   },
   "source": [
    "**Antes & Depois Hebbal**"
   ]
  },
  {
   "cell_type": "markdown",
   "id": "2f4a9b7d",
   "metadata": {
    "id": "VJfDZ82glNKJ",
    "papermill": {
     "duration": null,
     "end_time": null,
     "exception": null,
     "start_time": null,
     "status": "pending"
    },
    "tags": []
   },
   "source": [
    "![image.png](data:image/png;base64,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)"
   ]
  },
  {
   "cell_type": "markdown",
   "id": "08d2292b",
   "metadata": {
    "id": "-tc92LfumjEd",
    "papermill": {
     "duration": null,
     "end_time": null,
     "exception": null,
     "start_time": null,
     "status": "pending"
    },
    "tags": []
   },
   "source": [
    "**Antes & Depois Rajaji Nagar**"
   ]
  },
  {
   "cell_type": "markdown",
   "id": "b363eb5f",
   "metadata": {
    "id": "jdpaTedVl90w",
    "papermill": {
     "duration": null,
     "end_time": null,
     "exception": null,
     "start_time": null,
     "status": "pending"
    },
    "tags": []
   },
   "source": [
    "![image.png](data:image/png;base64,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)"
   ]
  },
  {
   "cell_type": "markdown",
   "id": "c96a2e48",
   "metadata": {
    "id": "qr6BWrwfbHpT",
    "papermill": {
     "duration": null,
     "end_time": null,
     "exception": null,
     "start_time": null,
     "status": "pending"
    },
    "tags": []
   },
   "source": [
    "Removendo outliers da variável bathrooms"
   ]
  },
  {
   "cell_type": "code",
   "execution_count": null,
   "id": "970d4ceb",
   "metadata": {
    "id": "oCo-I-tukS40",
    "outputId": "9ffc7c11-5e32-4192-dcd7-5246ea564940",
    "papermill": {
     "duration": null,
     "end_time": null,
     "exception": null,
     "start_time": null,
     "status": "pending"
    },
    "tags": []
   },
   "outputs": [],
   "source": [
    "plt.hist(data8.bath,rwidth=0.5)\n",
    "plt.xlabel(\"Number of bathrooms\")\n",
    "plt.ylabel(\"Count\")"
   ]
  },
  {
   "cell_type": "markdown",
   "id": "24dc4421",
   "metadata": {
    "id": "gNhlaKi3nmz3",
    "papermill": {
     "duration": null,
     "end_time": null,
     "exception": null,
     "start_time": null,
     "status": "pending"
    },
    "tags": []
   },
   "source": [
    "Vamos excluir os dados que o numero de banheiros mais 2 é maior que o numero de quartos."
   ]
  },
  {
   "cell_type": "code",
   "execution_count": null,
   "id": "c24c760b",
   "metadata": {
    "id": "4Ea18qJdd9AD",
    "outputId": "9c52828d-e810-4894-9e01-3793e16ef1ab",
    "papermill": {
     "duration": null,
     "end_time": null,
     "exception": null,
     "start_time": null,
     "status": "pending"
    },
    "tags": []
   },
   "outputs": [],
   "source": [
    "data8[data8.bath>data8.br+2].head(10)"
   ]
  },
  {
   "cell_type": "code",
   "execution_count": null,
   "id": "9cd16aea",
   "metadata": {
    "id": "J8o2nJdmeDdV",
    "outputId": "0e72fb81-24b5-41b3-b98d-a27cfd9290bc",
    "papermill": {
     "duration": null,
     "end_time": null,
     "exception": null,
     "start_time": null,
     "status": "pending"
    },
    "tags": []
   },
   "outputs": [],
   "source": [
    "data9 = data8[data8.bath<data8.br+2]\n",
    "data9.shape"
   ]
  },
  {
   "cell_type": "markdown",
   "id": "720d5b41",
   "metadata": {
    "id": "EnbkVSNobEyH",
    "papermill": {
     "duration": null,
     "end_time": null,
     "exception": null,
     "start_time": null,
     "status": "pending"
    },
    "tags": []
   },
   "source": [
    "Vamos exluir colunas,que só foram usadas,para nos ajudar com o entendimento do dataset(price_per_sqft e br_per_sqft).E para a coluna 'size' ja foi criada a coluna 'br'"
   ]
  },
  {
   "cell_type": "code",
   "execution_count": null,
   "id": "e9c4bd4a",
   "metadata": {
    "id": "Wg_gSqVaq923",
    "outputId": "efd7c75f-fb9d-4b3c-f67a-39002f28b029",
    "papermill": {
     "duration": null,
     "end_time": null,
     "exception": null,
     "start_time": null,
     "status": "pending"
    },
    "tags": []
   },
   "outputs": [],
   "source": [
    "data10 = data9.drop(['size','price_per_sqft','br_per_sqft'],axis='columns')\n",
    "data10.head(3)"
   ]
  },
  {
   "cell_type": "markdown",
   "id": "d2bbef03",
   "metadata": {
    "id": "IOO8nrePqEkH",
    "papermill": {
     "duration": null,
     "end_time": null,
     "exception": null,
     "start_time": null,
     "status": "pending"
    },
    "tags": []
   },
   "source": [
    "Engenharia de dados:Transformando a variável categórica\"availability\",em números,1 para 'Ready To Move' e  para 'Unavailable'."
   ]
  },
  {
   "cell_type": "code",
   "execution_count": null,
   "id": "d95d69b3",
   "metadata": {
    "id": "HY-3kE8ze80q",
    "papermill": {
     "duration": null,
     "end_time": null,
     "exception": null,
     "start_time": null,
     "status": "pending"
    },
    "tags": []
   },
   "outputs": [],
   "source": [
    "data11=data10.copy()\n",
    "data11['availability']=data10['availability'].map({'Ready To Move':1, 'Unavailable':0})"
   ]
  },
  {
   "cell_type": "code",
   "execution_count": null,
   "id": "71246f90",
   "metadata": {
    "id": "2197LKCto29U",
    "outputId": "833d35cb-7214-4846-880a-d9a319afadf3",
    "papermill": {
     "duration": null,
     "end_time": null,
     "exception": null,
     "start_time": null,
     "status": "pending"
    },
    "tags": []
   },
   "outputs": [],
   "source": [
    "data11"
   ]
  },
  {
   "cell_type": "markdown",
   "id": "ff543732",
   "metadata": {
    "id": "aZw8RQvKioq1",
    "papermill": {
     "duration": null,
     "end_time": null,
     "exception": null,
     "start_time": null,
     "status": "pending"
    },
    "tags": []
   },
   "source": [
    "Checando se os dados estão com problemas de distribuição"
   ]
  },
  {
   "cell_type": "code",
   "execution_count": null,
   "id": "b7b4e9cc",
   "metadata": {
    "id": "7ITlVVMAF7C-",
    "outputId": "619d4580-5543-46a2-ac47-e6a31f42ed80",
    "papermill": {
     "duration": null,
     "end_time": null,
     "exception": null,
     "start_time": null,
     "status": "pending"
    },
    "tags": []
   },
   "outputs": [],
   "source": [
    "data11.skew(axis = 0, skipna = True)"
   ]
  },
  {
   "cell_type": "markdown",
   "id": "854ebb4f",
   "metadata": {
    "id": "dIKRi1cZle67",
    "papermill": {
     "duration": null,
     "end_time": null,
     "exception": null,
     "start_time": null,
     "status": "pending"
    },
    "tags": []
   },
   "source": [
    "* assimetria = 0 : distribuição normal.\n",
    "* assimetria > 0 : mais peso na cauda esquerda da distribuição.\n",
    "* assimetria < 0 : mais peso na cauda direita da distribuição."
   ]
  },
  {
   "cell_type": "markdown",
   "id": "b7844728",
   "metadata": {
    "id": "uohaIapMjT7w",
    "papermill": {
     "duration": null,
     "end_time": null,
     "exception": null,
     "start_time": null,
     "status": "pending"
    },
    "tags": []
   },
   "source": [
    "A variável price está assimétrica,vamos usar o método IQR,para solucionar o problema."
   ]
  },
  {
   "cell_type": "code",
   "execution_count": null,
   "id": "ec35e8aa",
   "metadata": {
    "id": "_DvncCJQ2U0t",
    "papermill": {
     "duration": null,
     "end_time": null,
     "exception": null,
     "start_time": null,
     "status": "pending"
    },
    "tags": []
   },
   "outputs": [],
   "source": [
    "Q1 = data11.price.quantile(0.25)\n",
    "Q3 = data11.price.quantile(0.75)\n",
    "IQR = Q3 - Q1\n",
    "data11.price= data11.price[~((data11.price < (Q1 - 1.5 * IQR)) |(data11.price > (Q3 + 1.5 * IQR)))]\n",
    "data11=data11.dropna()\n"
   ]
  },
  {
   "cell_type": "code",
   "execution_count": null,
   "id": "58230d1c",
   "metadata": {
    "id": "pxvoZNmasmDh",
    "outputId": "506165eb-2f7a-4ffb-8faf-630e9799486f",
    "papermill": {
     "duration": null,
     "end_time": null,
     "exception": null,
     "start_time": null,
     "status": "pending"
    },
    "tags": []
   },
   "outputs": [],
   "source": [
    "data11.price.skew(axis = 0, skipna = True)"
   ]
  },
  {
   "cell_type": "code",
   "execution_count": null,
   "id": "1e0f53a3",
   "metadata": {
    "id": "EPyhQPetIJx4",
    "outputId": "bdea2694-9d4c-483f-c192-cc2af7c8b24b",
    "papermill": {
     "duration": null,
     "end_time": null,
     "exception": null,
     "start_time": null,
     "status": "pending"
    },
    "tags": []
   },
   "outputs": [],
   "source": [
    "data11.shape"
   ]
  },
  {
   "cell_type": "markdown",
   "id": "d1489e4c",
   "metadata": {
    "id": "O7VwsSLpnIfs",
    "papermill": {
     "duration": null,
     "end_time": null,
     "exception": null,
     "start_time": null,
     "status": "pending"
    },
    "tags": []
   },
   "source": [
    "Visualizando as correlações das variáveis"
   ]
  },
  {
   "cell_type": "code",
   "execution_count": null,
   "id": "5628a603",
   "metadata": {
    "id": "RjLWa7SXnogI",
    "outputId": "01ae1db8-8511-4983-e97f-e022e2d74f23",
    "papermill": {
     "duration": null,
     "end_time": null,
     "exception": null,
     "start_time": null,
     "status": "pending"
    },
    "tags": []
   },
   "outputs": [],
   "source": [
    "correlations = data11.corr()\n",
    "correlations"
   ]
  },
  {
   "cell_type": "markdown",
   "id": "03039dde",
   "metadata": {
    "id": "WV9j6D36nrAy",
    "papermill": {
     "duration": null,
     "end_time": null,
     "exception": null,
     "start_time": null,
     "status": "pending"
    },
    "tags": []
   },
   "source": [
    "Fazendo one hot enconding na variável \"location\""
   ]
  },
  {
   "cell_type": "code",
   "execution_count": null,
   "id": "757b86c1",
   "metadata": {
    "id": "1ie1GyQFg4m2",
    "outputId": "b3cb5679-7550-499e-c010-3ab92050560b",
    "papermill": {
     "duration": null,
     "end_time": null,
     "exception": null,
     "start_time": null,
     "status": "pending"
    },
    "tags": []
   },
   "outputs": [],
   "source": [
    "dummies_location = pd.get_dummies(data11.location)\n",
    "dummies_location.head(3)"
   ]
  },
  {
   "cell_type": "markdown",
   "id": "687c90df",
   "metadata": {
    "id": "MnnlDmZvpGhl",
    "papermill": {
     "duration": null,
     "end_time": null,
     "exception": null,
     "start_time": null,
     "status": "pending"
    },
    "tags": []
   },
   "source": [
    "Juntando o dataset mais o dummies da coluna \"location\""
   ]
  },
  {
   "cell_type": "code",
   "execution_count": null,
   "id": "f81809db",
   "metadata": {
    "id": "DH7wqf_38IZo",
    "outputId": "8cc3ecc6-6773-4cd3-a2a8-88b16c1997e8",
    "papermill": {
     "duration": null,
     "end_time": null,
     "exception": null,
     "start_time": null,
     "status": "pending"
    },
    "tags": []
   },
   "outputs": [],
   "source": [
    "data12 = data11.drop('location',axis='columns')\n",
    "data12.head(2)"
   ]
  },
  {
   "cell_type": "code",
   "execution_count": null,
   "id": "dec83f2e",
   "metadata": {
    "id": "dgqBmdlXqEtR",
    "outputId": "5a837441-6dee-4c59-ab27-e90c70789e76",
    "papermill": {
     "duration": null,
     "end_time": null,
     "exception": null,
     "start_time": null,
     "status": "pending"
    },
    "tags": []
   },
   "outputs": [],
   "source": [
    "data12 = pd.concat([data12,dummies_location.drop('other',axis='columns')],axis='columns')\n",
    "data12.head()"
   ]
  },
  {
   "cell_type": "markdown",
   "id": "c856e98e",
   "metadata": {
    "id": "Rtn5VL11XYKZ",
    "papermill": {
     "duration": null,
     "end_time": null,
     "exception": null,
     "start_time": null,
     "status": "pending"
    },
    "tags": []
   },
   "source": [
    "a coluna availability,tem uma relação muito pequena com o output \"price\".Por isso iremos excluir a coluna."
   ]
  },
  {
   "cell_type": "code",
   "execution_count": null,
   "id": "29dc94fc",
   "metadata": {
    "id": "YP03GgZtpxdJ",
    "papermill": {
     "duration": null,
     "end_time": null,
     "exception": null,
     "start_time": null,
     "status": "pending"
    },
    "tags": []
   },
   "outputs": [],
   "source": [
    "data12=data12.drop('availability',axis='columns')"
   ]
  },
  {
   "cell_type": "markdown",
   "id": "b01a52c2",
   "metadata": {
    "id": "NruvZefBsT_3",
    "papermill": {
     "duration": null,
     "end_time": null,
     "exception": null,
     "start_time": null,
     "status": "pending"
    },
    "tags": []
   },
   "source": [
    "Construindo uma máquina preditiva de regressão"
   ]
  },
  {
   "cell_type": "code",
   "execution_count": null,
   "id": "cc08ee07",
   "metadata": {
    "id": "02RlY82zrQUy",
    "outputId": "c61e6206-0592-4aa7-beda-dc61c86c67c7",
    "papermill": {
     "duration": null,
     "end_time": null,
     "exception": null,
     "start_time": null,
     "status": "pending"
    },
    "tags": []
   },
   "outputs": [],
   "source": [
    "data12.shape"
   ]
  },
  {
   "cell_type": "code",
   "execution_count": null,
   "id": "b6257ec0",
   "metadata": {
    "id": "WhSRrMUJk1Xw",
    "outputId": "1dffaaa5-d75b-4504-e554-7be2587a9fe7",
    "papermill": {
     "duration": null,
     "end_time": null,
     "exception": null,
     "start_time": null,
     "status": "pending"
    },
    "tags": []
   },
   "outputs": [],
   "source": [
    "X = data12.drop(['price'],axis='columns')\n",
    "X.shape"
   ]
  },
  {
   "cell_type": "code",
   "execution_count": null,
   "id": "759504d9",
   "metadata": {
    "id": "Ziwlf8vblzIg",
    "outputId": "d0a2b8c5-1f3f-4f01-9334-e0c85232891f",
    "papermill": {
     "duration": null,
     "end_time": null,
     "exception": null,
     "start_time": null,
     "status": "pending"
    },
    "tags": []
   },
   "outputs": [],
   "source": [
    "y = data12.price\n",
    "y.head"
   ]
  },
  {
   "cell_type": "code",
   "execution_count": null,
   "id": "a7bc63eb",
   "metadata": {
    "id": "BNcmfuuFl3UA",
    "papermill": {
     "duration": null,
     "end_time": null,
     "exception": null,
     "start_time": null,
     "status": "pending"
    },
    "tags": []
   },
   "outputs": [],
   "source": [
    "from sklearn.model_selection import train_test_split\n",
    "X_train, X_test, y_train, y_test = train_test_split(X,y,test_size=0.2,random_state=39)"
   ]
  },
  {
   "cell_type": "code",
   "execution_count": null,
   "id": "613f062d",
   "metadata": {
    "id": "LFZBOiardX0N",
    "outputId": "f9d4293b-5373-4e17-85f0-fbc91eb528d5",
    "papermill": {
     "duration": null,
     "end_time": null,
     "exception": null,
     "start_time": null,
     "status": "pending"
    },
    "tags": []
   },
   "outputs": [],
   "source": [
    "X_train.shape"
   ]
  },
  {
   "cell_type": "code",
   "execution_count": null,
   "id": "962cc89a",
   "metadata": {
    "id": "WHpimD64dc0c",
    "outputId": "c51b5854-daf6-4600-980d-f669c00c6c7e",
    "papermill": {
     "duration": null,
     "end_time": null,
     "exception": null,
     "start_time": null,
     "status": "pending"
    },
    "tags": []
   },
   "outputs": [],
   "source": [
    "y_train.shape"
   ]
  },
  {
   "cell_type": "code",
   "execution_count": null,
   "id": "74aa42b2",
   "metadata": {
    "id": "YMeYzBk8oiM0",
    "papermill": {
     "duration": null,
     "end_time": null,
     "exception": null,
     "start_time": null,
     "status": "pending"
    },
    "tags": []
   },
   "outputs": [],
   "source": [
    "#GB=GradientBoostingRegressor(learning_rate=0.06826323829884362, max_depth=5,n_estimators=999, subsample=0.8386912944636394)"
   ]
  },
  {
   "cell_type": "markdown",
   "id": "22cc9b8e",
   "metadata": {
    "id": "6iWbiOBavwdU",
    "papermill": {
     "duration": null,
     "end_time": null,
     "exception": null,
     "start_time": null,
     "status": "pending"
    },
    "tags": []
   },
   "source": [
    "Testando quais modelos vão obter a melhor média,usando o r2_score como parâmetro."
   ]
  },
  {
   "cell_type": "code",
   "execution_count": null,
   "id": "37b3f154",
   "metadata": {
    "id": "mQgF5uY2rTGd",
    "outputId": "4e110890-5c19-4bb9-ed35-9dbe4c7e2819",
    "papermill": {
     "duration": null,
     "end_time": null,
     "exception": null,
     "start_time": null,
     "status": "pending"
    },
    "tags": []
   },
   "outputs": [],
   "source": [
    "from sklearn.model_selection import ShuffleSplit\n",
    "from sklearn.model_selection import cross_val_score\n",
    "from sklearn.linear_model import LinearRegression\n",
    "\n",
    "cv = ShuffleSplit(n_splits=5, test_size=0.2, random_state=39)\n",
    "\n",
    "media =cross_val_score(LinearRegression(), X, y, cv=cv).mean()\n",
    "\n",
    "media\n"
   ]
  },
  {
   "cell_type": "code",
   "execution_count": null,
   "id": "50a1efc8",
   "metadata": {
    "id": "aEf27qm3n7rO",
    "outputId": "2da848ed-72ad-4c48-dc95-1545a1ac57b3",
    "papermill": {
     "duration": null,
     "end_time": null,
     "exception": null,
     "start_time": null,
     "status": "pending"
    },
    "tags": []
   },
   "outputs": [],
   "source": [
    "from sklearn.ensemble import GradientBoostingRegressor\n",
    "\n",
    "cv = ShuffleSplit(n_splits=10, test_size=0.2, random_state=39)\n",
    "\n",
    "media =cross_val_score(GradientBoostingRegressor(), X, y, cv=cv).mean()\n",
    "\n",
    "media"
   ]
  },
  {
   "cell_type": "code",
   "execution_count": null,
   "id": "ba79631c",
   "metadata": {
    "id": "vcA2C7gurHOd",
    "outputId": "14788973-6ff3-4a4d-ce2b-e1cf203c70d7",
    "papermill": {
     "duration": null,
     "end_time": null,
     "exception": null,
     "start_time": null,
     "status": "pending"
    },
    "tags": []
   },
   "outputs": [],
   "source": [
    "import xgboost as xgb\n",
    "xgb_reg=xgb.XGBRegressor()\n",
    "\n",
    "cv = ShuffleSplit(n_splits=10, test_size=0.2, random_state=39)\n",
    "\n",
    "media =cross_val_score(xgb_reg, X, y, cv=cv).mean()\n",
    "\n",
    "media"
   ]
  },
  {
   "cell_type": "code",
   "execution_count": null,
   "id": "fd7541c2",
   "metadata": {
    "id": "Us-WxjZ4n7Ca",
    "outputId": "d825362f-41f5-4f2d-f673-32818d4f81b2",
    "papermill": {
     "duration": null,
     "end_time": null,
     "exception": null,
     "start_time": null,
     "status": "pending"
    },
    "tags": []
   },
   "outputs": [],
   "source": [
    "import lightgbm as lgb\n",
    "lgb_reg=lgb.LGBMRegressor()\n",
    "\n",
    "cv = ShuffleSplit(n_splits=10, test_size=0.2, random_state=39)\n",
    "\n",
    "media =cross_val_score(lgb_reg, X, y, cv=cv).mean()\n",
    "\n",
    "media"
   ]
  },
  {
   "cell_type": "markdown",
   "id": "136e6946",
   "metadata": {
    "id": "WlmYfY2qwOVP",
    "papermill": {
     "duration": null,
     "end_time": null,
     "exception": null,
     "start_time": null,
     "status": "pending"
    },
    "tags": []
   },
   "source": [
    "o modelo escolhido para o tuning foi o GradientBoostingRegressor,atingindo um resultado de %.Agora vamos melhorar o resultado tunando os hiperparâmetros,usando o método Randomizedsearch"
   ]
  },
  {
   "cell_type": "code",
   "execution_count": null,
   "id": "1ef0ff82",
   "metadata": {
    "id": "H-RyvdlHJrIY",
    "papermill": {
     "duration": null,
     "end_time": null,
     "exception": null,
     "start_time": null,
     "status": "pending"
    },
    "tags": []
   },
   "outputs": [],
   "source": [
    "import scipy\n",
    "from scipy.stats import loguniform\n",
    "from sklearn.metrics import r2_score\n",
    "from sklearn.model_selection import RandomizedSearchCV\n",
    "from scipy.stats import uniform as sp_randFloat\n",
    "from scipy.stats import randint as sp_randInt\n"
   ]
  },
  {
   "cell_type": "markdown",
   "id": "3aefc609",
   "metadata": {
    "id": "c1hJmPjqqoQa",
    "papermill": {
     "duration": null,
     "end_time": null,
     "exception": null,
     "start_time": null,
     "status": "pending"
    },
    "tags": []
   },
   "source": [
    "Vamos usar o Randomizedsearch para melhores resultados do nosso modelo \n",
    "\n",
    "\n",
    "\n"
   ]
  },
  {
   "cell_type": "code",
   "execution_count": null,
   "id": "73e256ae",
   "metadata": {
    "id": "4_BXmCDsrR0t",
    "outputId": "0ba438d2-0254-4092-cf3a-9748427421a7",
    "papermill": {
     "duration": null,
     "end_time": null,
     "exception": null,
     "start_time": null,
     "status": "pending"
    },
    "tags": []
   },
   "outputs": [],
   "source": [
    "\"\"\"\n",
    "\n",
    "model = GradientBoostingRegressor()\n",
    "parameters = {'learning_rate': sp_randFloat(),\n",
    "                  'subsample'    : sp_randFloat(),\n",
    "                  'n_estimators' : sp_randInt(100, 1000),\n",
    "                  'max_depth'    : sp_randInt(4, 20)}\n",
    "randm_src = RandomizedSearchCV(estimator=model, param_distributions = parameters,\n",
    "                               cv = 2, n_iter = 50, n_jobs=-1)\n",
    "randm_src.fit(X_train, y_train)\n",
    "\n",
    "print(\" Results from Random Search \" )\n",
    "print(\"\\n The best estimator across ALL searched params:\\n\", randm_src.best_estimator_)\n",
    "print(\"\\n The best score across ALL searched params:\\n\", randm_src.best_score_)\n",
    "print(\"\\n The best parameters across ALL searched params:\\n\", randm_src.best_params_)\n",
    "\n",
    "\"\"\"\n"
   ]
  },
  {
   "cell_type": "markdown",
   "id": "e9f95b8e",
   "metadata": {
    "id": "CU7aj1t5vieM",
    "papermill": {
     "duration": null,
     "end_time": null,
     "exception": null,
     "start_time": null,
     "status": "pending"
    },
    "tags": []
   },
   "source": [
    "Melhor resultado"
   ]
  },
  {
   "cell_type": "code",
   "execution_count": null,
   "id": "f8e9d140",
   "metadata": {
    "id": "81_2nmskHkra",
    "papermill": {
     "duration": null,
     "end_time": null,
     "exception": null,
     "start_time": null,
     "status": "pending"
    },
    "tags": []
   },
   "outputs": [],
   "source": [
    "#GradientBoostingRegressor(learning_rate = 0.06677377542851048, max_depth = 5,n_estimators = 684, subsample = 0.9705354925313132)"
   ]
  },
  {
   "cell_type": "markdown",
   "id": "22dd6500",
   "metadata": {
    "id": "mI5rYtA7pYAA",
    "papermill": {
     "duration": null,
     "end_time": null,
     "exception": null,
     "start_time": null,
     "status": "pending"
    },
    "tags": []
   },
   "source": [
    "tivemos uma melhora considerável de 71% para 75%"
   ]
  },
  {
   "cell_type": "markdown",
   "id": "0c3519e3",
   "metadata": {
    "id": "SbU2HORrvpV4",
    "papermill": {
     "duration": null,
     "end_time": null,
     "exception": null,
     "start_time": null,
     "status": "pending"
    },
    "tags": []
   },
   "source": [
    "Fazendo o fit do modelo"
   ]
  },
  {
   "cell_type": "code",
   "execution_count": null,
   "id": "79069b8b",
   "metadata": {
    "id": "vG-wfZaevC8n",
    "outputId": "202baa5f-06b0-4414-fae6-8ad8964ca00f",
    "papermill": {
     "duration": null,
     "end_time": null,
     "exception": null,
     "start_time": null,
     "status": "pending"
    },
    "tags": []
   },
   "outputs": [],
   "source": [
    "from sklearn.linear_model import LinearRegression\n",
    "gb = GradientBoostingRegressor(learning_rate = 0.06677377542851048, max_depth = 7,n_estimators = 728, subsample = 0.9705354925313132,random_state=39)\n",
    "gb.fit(X_train,y_train)\n",
    "gb.score(X_test,y_test)"
   ]
  },
  {
   "cell_type": "code",
   "execution_count": null,
   "id": "98f401e3",
   "metadata": {
    "id": "VEzZsKsrq6hp",
    "papermill": {
     "duration": null,
     "end_time": null,
     "exception": null,
     "start_time": null,
     "status": "pending"
    },
    "tags": []
   },
   "outputs": [],
   "source": [
    "   def predict_price(location,sqft,bath,br):    \n",
    "    loc_index = np.where(X.columns==location)[0][0]\n",
    "\n",
    "    x = np.zeros(len(X.columns))\n",
    "    x[0] = sqft\n",
    "    x[1] = bath\n",
    "    x[2] = br\n",
    "    if loc_index >= 0:\n",
    "        x[loc_index] = 1\n",
    "\n",
    "    return gb.predict([x])[0]"
   ]
  },
  {
   "cell_type": "code",
   "execution_count": null,
   "id": "f5beb8ff",
   "metadata": {
    "id": "NK6eW1Bcw2HF",
    "outputId": "21b83d59-2558-43d5-a141-a87a559ad465",
    "papermill": {
     "duration": null,
     "end_time": null,
     "exception": null,
     "start_time": null,
     "status": "pending"
    },
    "tags": []
   },
   "outputs": [],
   "source": [
    "  predict_price('1st Phase JP Nagar',1000, 2, 2)"
   ]
  }
 ],
 "metadata": {
  "kernelspec": {
   "display_name": "Python 3",
   "language": "python",
   "name": "python3"
  },
  "language_info": {
   "codemirror_mode": {
    "name": "ipython",
    "version": 3
   },
   "file_extension": ".py",
   "mimetype": "text/x-python",
   "name": "python",
   "nbconvert_exporter": "python",
   "pygments_lexer": "ipython3",
   "version": "3.7.12"
  },
  "papermill": {
   "default_parameters": {},
   "duration": 10.269838,
   "end_time": "2022-02-03T21:26:58.738936",
   "environment_variables": {},
   "exception": true,
   "input_path": "__notebook__.ipynb",
   "output_path": "__notebook__.ipynb",
   "parameters": {},
   "start_time": "2022-02-03T21:26:48.469098",
   "version": "2.3.3"
  }
 },
 "nbformat": 4,
 "nbformat_minor": 5
}
