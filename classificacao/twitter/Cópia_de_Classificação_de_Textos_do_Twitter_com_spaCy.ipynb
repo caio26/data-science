{
  "nbformat": 4,
  "nbformat_minor": 0,
  "metadata": {
    "colab": {
      "provenance": [],
      "collapsed_sections": [],
      "toc_visible": true
    },
    "kernelspec": {
      "name": "python3",
      "display_name": "Python 3"
    },
    "accelerator": "TPU"
  },
  "cells": [
    {
      "cell_type": "markdown",
      "metadata": {
        "id": "AGgw36kc8udU"
      },
      "source": [
        "# Classificação de textos do Twitter com spaCy"
      ]
    },
    {
      "cell_type": "markdown",
      "metadata": {
        "id": "JtJGnXGi8zt9"
      },
      "source": [
        "# Etapa 1: Importação e instalação das bibliotecas"
      ]
    },
    {
      "cell_type": "code",
      "metadata": {
        "id": "Xh86jT1k_299"
      },
      "source": [
        "#!pip install spacy --upgrade\n",
        "!pip install -q spacy==2.2.3 #Atualizado: 02/05/2021 Obs: utilizar esta versão."
      ],
      "execution_count": null,
      "outputs": []
    },
    {
      "cell_type": "code",
      "metadata": {
        "id": "T1ZYK4Svri9a",
        "colab": {
          "base_uri": "https://localhost:8080/",
          "height": 36
        },
        "outputId": "c64d41dc-d730-4b2c-e6b2-4ad441b59f7f"
      },
      "source": [
        "import spacy\n",
        "spacy.__version__"
      ],
      "execution_count": null,
      "outputs": [
        {
          "output_type": "execute_result",
          "data": {
            "text/plain": [
              "'2.2.3'"
            ],
            "application/vnd.google.colaboratory.intrinsic+json": {
              "type": "string"
            }
          },
          "metadata": {},
          "execution_count": 4
        }
      ]
    },
    {
      "cell_type": "code",
      "metadata": {
        "id": "BbXiQKovAAy_",
        "colab": {
          "base_uri": "https://localhost:8080/"
        },
        "outputId": "57dffef0-d8c2-4ba3-d110-72a6e38fcde9"
      },
      "source": [
        "!python3 -m spacy download pt"
      ],
      "execution_count": null,
      "outputs": [
        {
          "output_type": "stream",
          "name": "stdout",
          "text": [
            "Looking in indexes: https://pypi.org/simple, https://us-python.pkg.dev/colab-wheels/public/simple/\n",
            "Collecting pt_core_news_sm==2.2.5\n",
            "  Downloading https://github.com/explosion/spacy-models/releases/download/pt_core_news_sm-2.2.5/pt_core_news_sm-2.2.5.tar.gz (21.2 MB)\n",
            "\u001b[K     |████████████████████████████████| 21.2 MB 2.7 MB/s \n",
            "\u001b[?25hRequirement already satisfied: spacy>=2.2.2 in /usr/local/lib/python3.7/dist-packages (from pt_core_news_sm==2.2.5) (2.2.3)\n",
            "Requirement already satisfied: murmurhash<1.1.0,>=0.28.0 in /usr/local/lib/python3.7/dist-packages (from spacy>=2.2.2->pt_core_news_sm==2.2.5) (1.0.8)\n",
            "Requirement already satisfied: blis<0.5.0,>=0.4.0 in /usr/local/lib/python3.7/dist-packages (from spacy>=2.2.2->pt_core_news_sm==2.2.5) (0.4.1)\n",
            "Requirement already satisfied: cymem<2.1.0,>=2.0.2 in /usr/local/lib/python3.7/dist-packages (from spacy>=2.2.2->pt_core_news_sm==2.2.5) (2.0.6)\n",
            "Requirement already satisfied: wasabi<1.1.0,>=0.4.0 in /usr/local/lib/python3.7/dist-packages (from spacy>=2.2.2->pt_core_news_sm==2.2.5) (0.10.1)\n",
            "Requirement already satisfied: thinc<7.4.0,>=7.3.0 in /usr/local/lib/python3.7/dist-packages (from spacy>=2.2.2->pt_core_news_sm==2.2.5) (7.3.1)\n",
            "Requirement already satisfied: srsly<1.1.0,>=0.1.0 in /usr/local/lib/python3.7/dist-packages (from spacy>=2.2.2->pt_core_news_sm==2.2.5) (1.0.5)\n",
            "Requirement already satisfied: plac<1.2.0,>=0.9.6 in /usr/local/lib/python3.7/dist-packages (from spacy>=2.2.2->pt_core_news_sm==2.2.5) (1.1.3)\n",
            "Requirement already satisfied: catalogue<1.1.0,>=0.0.7 in /usr/local/lib/python3.7/dist-packages (from spacy>=2.2.2->pt_core_news_sm==2.2.5) (1.0.0)\n",
            "Requirement already satisfied: numpy>=1.15.0 in /usr/local/lib/python3.7/dist-packages (from spacy>=2.2.2->pt_core_news_sm==2.2.5) (1.21.6)\n",
            "Requirement already satisfied: setuptools in /usr/local/lib/python3.7/dist-packages (from spacy>=2.2.2->pt_core_news_sm==2.2.5) (57.4.0)\n",
            "Requirement already satisfied: requests<3.0.0,>=2.13.0 in /usr/local/lib/python3.7/dist-packages (from spacy>=2.2.2->pt_core_news_sm==2.2.5) (2.23.0)\n",
            "Requirement already satisfied: preshed<3.1.0,>=3.0.2 in /usr/local/lib/python3.7/dist-packages (from spacy>=2.2.2->pt_core_news_sm==2.2.5) (3.0.7)\n",
            "Requirement already satisfied: importlib-metadata>=0.20 in /usr/local/lib/python3.7/dist-packages (from catalogue<1.1.0,>=0.0.7->spacy>=2.2.2->pt_core_news_sm==2.2.5) (4.12.0)\n",
            "Requirement already satisfied: zipp>=0.5 in /usr/local/lib/python3.7/dist-packages (from importlib-metadata>=0.20->catalogue<1.1.0,>=0.0.7->spacy>=2.2.2->pt_core_news_sm==2.2.5) (3.8.1)\n",
            "Requirement already satisfied: typing-extensions>=3.6.4 in /usr/local/lib/python3.7/dist-packages (from importlib-metadata>=0.20->catalogue<1.1.0,>=0.0.7->spacy>=2.2.2->pt_core_news_sm==2.2.5) (4.1.1)\n",
            "Requirement already satisfied: certifi>=2017.4.17 in /usr/local/lib/python3.7/dist-packages (from requests<3.0.0,>=2.13.0->spacy>=2.2.2->pt_core_news_sm==2.2.5) (2022.6.15)\n",
            "Requirement already satisfied: chardet<4,>=3.0.2 in /usr/local/lib/python3.7/dist-packages (from requests<3.0.0,>=2.13.0->spacy>=2.2.2->pt_core_news_sm==2.2.5) (3.0.4)\n",
            "Requirement already satisfied: urllib3!=1.25.0,!=1.25.1,<1.26,>=1.21.1 in /usr/local/lib/python3.7/dist-packages (from requests<3.0.0,>=2.13.0->spacy>=2.2.2->pt_core_news_sm==2.2.5) (1.24.3)\n",
            "Requirement already satisfied: idna<3,>=2.5 in /usr/local/lib/python3.7/dist-packages (from requests<3.0.0,>=2.13.0->spacy>=2.2.2->pt_core_news_sm==2.2.5) (2.10)\n",
            "Requirement already satisfied: tqdm<5.0.0,>=4.10.0 in /usr/local/lib/python3.7/dist-packages (from thinc<7.4.0,>=7.3.0->spacy>=2.2.2->pt_core_news_sm==2.2.5) (4.64.1)\n",
            "Building wheels for collected packages: pt-core-news-sm\n",
            "  Building wheel for pt-core-news-sm (setup.py) ... \u001b[?25l\u001b[?25hdone\n",
            "  Created wheel for pt-core-news-sm: filename=pt_core_news_sm-2.2.5-py3-none-any.whl size=21186281 sha256=aa128d05d0f30a9404f2ff873073718abaeb79f5900c413cb64aa21de0e11290\n",
            "  Stored in directory: /tmp/pip-ephem-wheel-cache-2yznu1jx/wheels/c3/f9/0c/5c014a36941a00f5df5fc0756cb961d7c457a978e697a6ce3b\n",
            "Successfully built pt-core-news-sm\n",
            "Installing collected packages: pt-core-news-sm\n",
            "Successfully installed pt-core-news-sm-2.2.5\n",
            "\u001b[38;5;2m✔ Download and installation successful\u001b[0m\n",
            "You can now load the model via spacy.load('pt_core_news_sm')\n",
            "\u001b[38;5;2m✔ Linking successful\u001b[0m\n",
            "/usr/local/lib/python3.7/dist-packages/pt_core_news_sm -->\n",
            "/usr/local/lib/python3.7/dist-packages/spacy/data/pt\n",
            "You can now load the model via spacy.load('pt')\n"
          ]
        }
      ]
    },
    {
      "cell_type": "code",
      "metadata": {
        "id": "DelYAveq8yuX"
      },
      "source": [
        "import pandas as pd\n",
        "import string\n",
        "import spacy\n",
        "import random\n",
        "import seaborn as sns\n",
        "import numpy as np\n",
        "import re"
      ],
      "execution_count": null,
      "outputs": []
    },
    {
      "cell_type": "markdown",
      "metadata": {
        "id": "iE3VMD8t86ky"
      },
      "source": [
        "# Etapa 2: Carregamento das bases de dados\n",
        "\n",
        "- Link Kaggle: https://www.kaggle.com/augustop/portuguese-tweets-for-sentiment-analysis#TweetsNeutralHash.csv"
      ]
    },
    {
      "cell_type": "markdown",
      "metadata": {
        "id": "472HCiGNxsGm"
      },
      "source": [
        "## Base de treinamento\n",
        "\n",
        "- Negative label: 0\n",
        "- Positive label: 1"
      ]
    },
    {
      "cell_type": "code",
      "source": [
        "from google.colab import drive\n",
        "drive.mount('/content/drive')"
      ],
      "metadata": {
        "colab": {
          "base_uri": "https://localhost:8080/"
        },
        "id": "wCELzEf-qNY-",
        "outputId": "5c42d311-cd15-4285-f793-b1b0fc74c9cc"
      },
      "execution_count": null,
      "outputs": [
        {
          "output_type": "stream",
          "name": "stdout",
          "text": [
            "Drive already mounted at /content/drive; to attempt to forcibly remount, call drive.mount(\"/content/drive\", force_remount=True).\n"
          ]
        }
      ]
    },
    {
      "cell_type": "code",
      "metadata": {
        "id": "jqsZesTIj1D1"
      },
      "source": [
        "base_treinamento = pd.read_csv('/content/drive/MyDrive/Mineração e Análise de Dados do LinkedIn/Train50.csv', delimiter=';')"
      ],
      "execution_count": null,
      "outputs": []
    },
    {
      "cell_type": "code",
      "metadata": {
        "id": "kkNNr-fokG5Z",
        "colab": {
          "base_uri": "https://localhost:8080/"
        },
        "outputId": "d5c7524e-3283-43ec-fc16-d3f2f50b9e54"
      },
      "source": [
        "base_treinamento.shape"
      ],
      "execution_count": null,
      "outputs": [
        {
          "output_type": "execute_result",
          "data": {
            "text/plain": [
              "(50000, 5)"
            ]
          },
          "metadata": {},
          "execution_count": 9
        }
      ]
    },
    {
      "cell_type": "code",
      "metadata": {
        "id": "ian62Lo5kKXp",
        "colab": {
          "base_uri": "https://localhost:8080/",
          "height": 206
        },
        "outputId": "9d209cf5-55f2-4f87-d131-e59ec92a1a45"
      },
      "source": [
        "base_treinamento.head()"
      ],
      "execution_count": null,
      "outputs": [
        {
          "output_type": "execute_result",
          "data": {
            "text/plain": [
              "                    id                                         tweet_text  \\\n",
              "0  1050785521201541121  @Laranjito76 A pessoa certa para isso seria o ...   \n",
              "1  1050785431955140608  @behin_d_curtain Para mim, é precisamente o co...   \n",
              "2  1050785401248645120  Vou fazer um video hoje... estou pensando em f...   \n",
              "3  1050785370982547461  aaaaaaaa amei tanto essas polaroids, nem sei e...   \n",
              "4  1050785368902131713  Valoriza o coração do menininho que vc tem. El...   \n",
              "\n",
              "                       tweet_date  sentiment query_used  \n",
              "0  Fri Oct 12 16:29:25 +0000 2018          1         :)  \n",
              "1  Fri Oct 12 16:29:04 +0000 2018          1         :)  \n",
              "2  Fri Oct 12 16:28:56 +0000 2018          1         :)  \n",
              "3  Fri Oct 12 16:28:49 +0000 2018          1         :)  \n",
              "4  Fri Oct 12 16:28:49 +0000 2018          1         :)  "
            ],
            "text/html": [
              "\n",
              "  <div id=\"df-6fb3254c-b5ff-45f6-835b-184c28a76432\">\n",
              "    <div class=\"colab-df-container\">\n",
              "      <div>\n",
              "<style scoped>\n",
              "    .dataframe tbody tr th:only-of-type {\n",
              "        vertical-align: middle;\n",
              "    }\n",
              "\n",
              "    .dataframe tbody tr th {\n",
              "        vertical-align: top;\n",
              "    }\n",
              "\n",
              "    .dataframe thead th {\n",
              "        text-align: right;\n",
              "    }\n",
              "</style>\n",
              "<table border=\"1\" class=\"dataframe\">\n",
              "  <thead>\n",
              "    <tr style=\"text-align: right;\">\n",
              "      <th></th>\n",
              "      <th>id</th>\n",
              "      <th>tweet_text</th>\n",
              "      <th>tweet_date</th>\n",
              "      <th>sentiment</th>\n",
              "      <th>query_used</th>\n",
              "    </tr>\n",
              "  </thead>\n",
              "  <tbody>\n",
              "    <tr>\n",
              "      <th>0</th>\n",
              "      <td>1050785521201541121</td>\n",
              "      <td>@Laranjito76 A pessoa certa para isso seria o ...</td>\n",
              "      <td>Fri Oct 12 16:29:25 +0000 2018</td>\n",
              "      <td>1</td>\n",
              "      <td>:)</td>\n",
              "    </tr>\n",
              "    <tr>\n",
              "      <th>1</th>\n",
              "      <td>1050785431955140608</td>\n",
              "      <td>@behin_d_curtain Para mim, é precisamente o co...</td>\n",
              "      <td>Fri Oct 12 16:29:04 +0000 2018</td>\n",
              "      <td>1</td>\n",
              "      <td>:)</td>\n",
              "    </tr>\n",
              "    <tr>\n",
              "      <th>2</th>\n",
              "      <td>1050785401248645120</td>\n",
              "      <td>Vou fazer um video hoje... estou pensando em f...</td>\n",
              "      <td>Fri Oct 12 16:28:56 +0000 2018</td>\n",
              "      <td>1</td>\n",
              "      <td>:)</td>\n",
              "    </tr>\n",
              "    <tr>\n",
              "      <th>3</th>\n",
              "      <td>1050785370982547461</td>\n",
              "      <td>aaaaaaaa amei tanto essas polaroids, nem sei e...</td>\n",
              "      <td>Fri Oct 12 16:28:49 +0000 2018</td>\n",
              "      <td>1</td>\n",
              "      <td>:)</td>\n",
              "    </tr>\n",
              "    <tr>\n",
              "      <th>4</th>\n",
              "      <td>1050785368902131713</td>\n",
              "      <td>Valoriza o coração do menininho que vc tem. El...</td>\n",
              "      <td>Fri Oct 12 16:28:49 +0000 2018</td>\n",
              "      <td>1</td>\n",
              "      <td>:)</td>\n",
              "    </tr>\n",
              "  </tbody>\n",
              "</table>\n",
              "</div>\n",
              "      <button class=\"colab-df-convert\" onclick=\"convertToInteractive('df-6fb3254c-b5ff-45f6-835b-184c28a76432')\"\n",
              "              title=\"Convert this dataframe to an interactive table.\"\n",
              "              style=\"display:none;\">\n",
              "        \n",
              "  <svg xmlns=\"http://www.w3.org/2000/svg\" height=\"24px\"viewBox=\"0 0 24 24\"\n",
              "       width=\"24px\">\n",
              "    <path d=\"M0 0h24v24H0V0z\" fill=\"none\"/>\n",
              "    <path d=\"M18.56 5.44l.94 2.06.94-2.06 2.06-.94-2.06-.94-.94-2.06-.94 2.06-2.06.94zm-11 1L8.5 8.5l.94-2.06 2.06-.94-2.06-.94L8.5 2.5l-.94 2.06-2.06.94zm10 10l.94 2.06.94-2.06 2.06-.94-2.06-.94-.94-2.06-.94 2.06-2.06.94z\"/><path d=\"M17.41 7.96l-1.37-1.37c-.4-.4-.92-.59-1.43-.59-.52 0-1.04.2-1.43.59L10.3 9.45l-7.72 7.72c-.78.78-.78 2.05 0 2.83L4 21.41c.39.39.9.59 1.41.59.51 0 1.02-.2 1.41-.59l7.78-7.78 2.81-2.81c.8-.78.8-2.07 0-2.86zM5.41 20L4 18.59l7.72-7.72 1.47 1.35L5.41 20z\"/>\n",
              "  </svg>\n",
              "      </button>\n",
              "      \n",
              "  <style>\n",
              "    .colab-df-container {\n",
              "      display:flex;\n",
              "      flex-wrap:wrap;\n",
              "      gap: 12px;\n",
              "    }\n",
              "\n",
              "    .colab-df-convert {\n",
              "      background-color: #E8F0FE;\n",
              "      border: none;\n",
              "      border-radius: 50%;\n",
              "      cursor: pointer;\n",
              "      display: none;\n",
              "      fill: #1967D2;\n",
              "      height: 32px;\n",
              "      padding: 0 0 0 0;\n",
              "      width: 32px;\n",
              "    }\n",
              "\n",
              "    .colab-df-convert:hover {\n",
              "      background-color: #E2EBFA;\n",
              "      box-shadow: 0px 1px 2px rgba(60, 64, 67, 0.3), 0px 1px 3px 1px rgba(60, 64, 67, 0.15);\n",
              "      fill: #174EA6;\n",
              "    }\n",
              "\n",
              "    [theme=dark] .colab-df-convert {\n",
              "      background-color: #3B4455;\n",
              "      fill: #D2E3FC;\n",
              "    }\n",
              "\n",
              "    [theme=dark] .colab-df-convert:hover {\n",
              "      background-color: #434B5C;\n",
              "      box-shadow: 0px 1px 3px 1px rgba(0, 0, 0, 0.15);\n",
              "      filter: drop-shadow(0px 1px 2px rgba(0, 0, 0, 0.3));\n",
              "      fill: #FFFFFF;\n",
              "    }\n",
              "  </style>\n",
              "\n",
              "      <script>\n",
              "        const buttonEl =\n",
              "          document.querySelector('#df-6fb3254c-b5ff-45f6-835b-184c28a76432 button.colab-df-convert');\n",
              "        buttonEl.style.display =\n",
              "          google.colab.kernel.accessAllowed ? 'block' : 'none';\n",
              "\n",
              "        async function convertToInteractive(key) {\n",
              "          const element = document.querySelector('#df-6fb3254c-b5ff-45f6-835b-184c28a76432');\n",
              "          const dataTable =\n",
              "            await google.colab.kernel.invokeFunction('convertToInteractive',\n",
              "                                                     [key], {});\n",
              "          if (!dataTable) return;\n",
              "\n",
              "          const docLinkHtml = 'Like what you see? Visit the ' +\n",
              "            '<a target=\"_blank\" href=https://colab.research.google.com/notebooks/data_table.ipynb>data table notebook</a>'\n",
              "            + ' to learn more about interactive tables.';\n",
              "          element.innerHTML = '';\n",
              "          dataTable['output_type'] = 'display_data';\n",
              "          await google.colab.output.renderOutput(dataTable, element);\n",
              "          const docLink = document.createElement('div');\n",
              "          docLink.innerHTML = docLinkHtml;\n",
              "          element.appendChild(docLink);\n",
              "        }\n",
              "      </script>\n",
              "    </div>\n",
              "  </div>\n",
              "  "
            ]
          },
          "metadata": {},
          "execution_count": 10
        }
      ]
    },
    {
      "cell_type": "code",
      "metadata": {
        "id": "xFrzQLCckhEW",
        "colab": {
          "base_uri": "https://localhost:8080/",
          "height": 206
        },
        "outputId": "8632cf45-7a99-4ff6-f2f9-400136e823f6"
      },
      "source": [
        "base_treinamento.tail()"
      ],
      "execution_count": null,
      "outputs": [
        {
          "output_type": "execute_result",
          "data": {
            "text/plain": [
              "                        id                                         tweet_text  \\\n",
              "49995  1046762827053232128     :( é tão lindo que dói https://t.co/GqnpgyWWxB   \n",
              "49996  1046762813362966529  @veraluciarj Pois é.. tenho problema c/ \"coisa...   \n",
              "49997  1046762806392082432  eu te amo tanto minja vidinha meu bem mais pre...   \n",
              "49998  1046762752071618560                      @itsLary @jessboluda Pfvor :(   \n",
              "49999  1046762735340584962  @Renk_lol Passa ano Entra ano Eu nao desisto d...   \n",
              "\n",
              "                           tweet_date  sentiment query_used  \n",
              "49995  Mon Oct 01 14:04:40 +0000 2018          0         :(  \n",
              "49996  Mon Oct 01 14:04:37 +0000 2018          0         :(  \n",
              "49997  Mon Oct 01 14:04:35 +0000 2018          0         :(  \n",
              "49998  Mon Oct 01 14:04:22 +0000 2018          0         :(  \n",
              "49999  Mon Oct 01 14:04:18 +0000 2018          0         :(  "
            ],
            "text/html": [
              "\n",
              "  <div id=\"df-d2a1c2b1-324e-4081-ac52-1c152de17faf\">\n",
              "    <div class=\"colab-df-container\">\n",
              "      <div>\n",
              "<style scoped>\n",
              "    .dataframe tbody tr th:only-of-type {\n",
              "        vertical-align: middle;\n",
              "    }\n",
              "\n",
              "    .dataframe tbody tr th {\n",
              "        vertical-align: top;\n",
              "    }\n",
              "\n",
              "    .dataframe thead th {\n",
              "        text-align: right;\n",
              "    }\n",
              "</style>\n",
              "<table border=\"1\" class=\"dataframe\">\n",
              "  <thead>\n",
              "    <tr style=\"text-align: right;\">\n",
              "      <th></th>\n",
              "      <th>id</th>\n",
              "      <th>tweet_text</th>\n",
              "      <th>tweet_date</th>\n",
              "      <th>sentiment</th>\n",
              "      <th>query_used</th>\n",
              "    </tr>\n",
              "  </thead>\n",
              "  <tbody>\n",
              "    <tr>\n",
              "      <th>49995</th>\n",
              "      <td>1046762827053232128</td>\n",
              "      <td>:( é tão lindo que dói https://t.co/GqnpgyWWxB</td>\n",
              "      <td>Mon Oct 01 14:04:40 +0000 2018</td>\n",
              "      <td>0</td>\n",
              "      <td>:(</td>\n",
              "    </tr>\n",
              "    <tr>\n",
              "      <th>49996</th>\n",
              "      <td>1046762813362966529</td>\n",
              "      <td>@veraluciarj Pois é.. tenho problema c/ \"coisa...</td>\n",
              "      <td>Mon Oct 01 14:04:37 +0000 2018</td>\n",
              "      <td>0</td>\n",
              "      <td>:(</td>\n",
              "    </tr>\n",
              "    <tr>\n",
              "      <th>49997</th>\n",
              "      <td>1046762806392082432</td>\n",
              "      <td>eu te amo tanto minja vidinha meu bem mais pre...</td>\n",
              "      <td>Mon Oct 01 14:04:35 +0000 2018</td>\n",
              "      <td>0</td>\n",
              "      <td>:(</td>\n",
              "    </tr>\n",
              "    <tr>\n",
              "      <th>49998</th>\n",
              "      <td>1046762752071618560</td>\n",
              "      <td>@itsLary @jessboluda Pfvor :(</td>\n",
              "      <td>Mon Oct 01 14:04:22 +0000 2018</td>\n",
              "      <td>0</td>\n",
              "      <td>:(</td>\n",
              "    </tr>\n",
              "    <tr>\n",
              "      <th>49999</th>\n",
              "      <td>1046762735340584962</td>\n",
              "      <td>@Renk_lol Passa ano Entra ano Eu nao desisto d...</td>\n",
              "      <td>Mon Oct 01 14:04:18 +0000 2018</td>\n",
              "      <td>0</td>\n",
              "      <td>:(</td>\n",
              "    </tr>\n",
              "  </tbody>\n",
              "</table>\n",
              "</div>\n",
              "      <button class=\"colab-df-convert\" onclick=\"convertToInteractive('df-d2a1c2b1-324e-4081-ac52-1c152de17faf')\"\n",
              "              title=\"Convert this dataframe to an interactive table.\"\n",
              "              style=\"display:none;\">\n",
              "        \n",
              "  <svg xmlns=\"http://www.w3.org/2000/svg\" height=\"24px\"viewBox=\"0 0 24 24\"\n",
              "       width=\"24px\">\n",
              "    <path d=\"M0 0h24v24H0V0z\" fill=\"none\"/>\n",
              "    <path d=\"M18.56 5.44l.94 2.06.94-2.06 2.06-.94-2.06-.94-.94-2.06-.94 2.06-2.06.94zm-11 1L8.5 8.5l.94-2.06 2.06-.94-2.06-.94L8.5 2.5l-.94 2.06-2.06.94zm10 10l.94 2.06.94-2.06 2.06-.94-2.06-.94-.94-2.06-.94 2.06-2.06.94z\"/><path d=\"M17.41 7.96l-1.37-1.37c-.4-.4-.92-.59-1.43-.59-.52 0-1.04.2-1.43.59L10.3 9.45l-7.72 7.72c-.78.78-.78 2.05 0 2.83L4 21.41c.39.39.9.59 1.41.59.51 0 1.02-.2 1.41-.59l7.78-7.78 2.81-2.81c.8-.78.8-2.07 0-2.86zM5.41 20L4 18.59l7.72-7.72 1.47 1.35L5.41 20z\"/>\n",
              "  </svg>\n",
              "      </button>\n",
              "      \n",
              "  <style>\n",
              "    .colab-df-container {\n",
              "      display:flex;\n",
              "      flex-wrap:wrap;\n",
              "      gap: 12px;\n",
              "    }\n",
              "\n",
              "    .colab-df-convert {\n",
              "      background-color: #E8F0FE;\n",
              "      border: none;\n",
              "      border-radius: 50%;\n",
              "      cursor: pointer;\n",
              "      display: none;\n",
              "      fill: #1967D2;\n",
              "      height: 32px;\n",
              "      padding: 0 0 0 0;\n",
              "      width: 32px;\n",
              "    }\n",
              "\n",
              "    .colab-df-convert:hover {\n",
              "      background-color: #E2EBFA;\n",
              "      box-shadow: 0px 1px 2px rgba(60, 64, 67, 0.3), 0px 1px 3px 1px rgba(60, 64, 67, 0.15);\n",
              "      fill: #174EA6;\n",
              "    }\n",
              "\n",
              "    [theme=dark] .colab-df-convert {\n",
              "      background-color: #3B4455;\n",
              "      fill: #D2E3FC;\n",
              "    }\n",
              "\n",
              "    [theme=dark] .colab-df-convert:hover {\n",
              "      background-color: #434B5C;\n",
              "      box-shadow: 0px 1px 3px 1px rgba(0, 0, 0, 0.15);\n",
              "      filter: drop-shadow(0px 1px 2px rgba(0, 0, 0, 0.3));\n",
              "      fill: #FFFFFF;\n",
              "    }\n",
              "  </style>\n",
              "\n",
              "      <script>\n",
              "        const buttonEl =\n",
              "          document.querySelector('#df-d2a1c2b1-324e-4081-ac52-1c152de17faf button.colab-df-convert');\n",
              "        buttonEl.style.display =\n",
              "          google.colab.kernel.accessAllowed ? 'block' : 'none';\n",
              "\n",
              "        async function convertToInteractive(key) {\n",
              "          const element = document.querySelector('#df-d2a1c2b1-324e-4081-ac52-1c152de17faf');\n",
              "          const dataTable =\n",
              "            await google.colab.kernel.invokeFunction('convertToInteractive',\n",
              "                                                     [key], {});\n",
              "          if (!dataTable) return;\n",
              "\n",
              "          const docLinkHtml = 'Like what you see? Visit the ' +\n",
              "            '<a target=\"_blank\" href=https://colab.research.google.com/notebooks/data_table.ipynb>data table notebook</a>'\n",
              "            + ' to learn more about interactive tables.';\n",
              "          element.innerHTML = '';\n",
              "          dataTable['output_type'] = 'display_data';\n",
              "          await google.colab.output.renderOutput(dataTable, element);\n",
              "          const docLink = document.createElement('div');\n",
              "          docLink.innerHTML = docLinkHtml;\n",
              "          element.appendChild(docLink);\n",
              "        }\n",
              "      </script>\n",
              "    </div>\n",
              "  </div>\n",
              "  "
            ]
          },
          "metadata": {},
          "execution_count": 11
        }
      ]
    },
    {
      "cell_type": "code",
      "metadata": {
        "id": "IVVwuPGhkm5h",
        "colab": {
          "base_uri": "https://localhost:8080/",
          "height": 334
        },
        "outputId": "a9e843c4-963f-43d7-fde5-8d04f9e4251c"
      },
      "source": [
        "sns.countplot(base_treinamento['sentiment'], label = 'Contagem');"
      ],
      "execution_count": null,
      "outputs": [
        {
          "output_type": "stream",
          "name": "stderr",
          "text": [
            "/usr/local/lib/python3.7/dist-packages/seaborn/_decorators.py:43: FutureWarning: Pass the following variable as a keyword arg: x. From version 0.12, the only valid positional argument will be `data`, and passing other arguments without an explicit keyword will result in an error or misinterpretation.\n",
            "  FutureWarning\n"
          ]
        },
        {
          "output_type": "display_data",
          "data": {
            "text/plain": [
              "<Figure size 432x288 with 1 Axes>"
            ],
            "image/png": "[encoded data removed]"
          },
          "metadata": {
            "needs_background": "light"
          }
        }
      ]
    },
    {
      "cell_type": "code",
      "metadata": {
        "id": "-xTh-gqelMWn"
      },
      "source": [
        "base_treinamento.drop(['id', 'tweet_date', 'query_used'], axis = 1, inplace=True)"
      ],
      "execution_count": null,
      "outputs": []
    },
    {
      "cell_type": "code",
      "metadata": {
        "id": "82hWS5cklVZ_",
        "colab": {
          "base_uri": "https://localhost:8080/",
          "height": 206
        },
        "outputId": "2f7a13d9-94ed-4f16-f494-304c30bf7db3"
      },
      "source": [
        "base_treinamento.head()"
      ],
      "execution_count": null,
      "outputs": [
        {
          "output_type": "execute_result",
          "data": {
            "text/plain": [
              "                                          tweet_text  sentiment\n",
              "0  @Laranjito76 A pessoa certa para isso seria o ...          1\n",
              "1  @behin_d_curtain Para mim, é precisamente o co...          1\n",
              "2  Vou fazer um video hoje... estou pensando em f...          1\n",
              "3  aaaaaaaa amei tanto essas polaroids, nem sei e...          1\n",
              "4  Valoriza o coração do menininho que vc tem. El...          1"
            ],
            "text/html": [
              "\n",
              "  <div id=\"df-f5d65fe2-f623-4400-89ae-1cae1e5cf4fd\">\n",
              "    <div class=\"colab-df-container\">\n",
              "      <div>\n",
              "<style scoped>\n",
              "    .dataframe tbody tr th:only-of-type {\n",
              "        vertical-align: middle;\n",
              "    }\n",
              "\n",
              "    .dataframe tbody tr th {\n",
              "        vertical-align: top;\n",
              "    }\n",
              "\n",
              "    .dataframe thead th {\n",
              "        text-align: right;\n",
              "    }\n",
              "</style>\n",
              "<table border=\"1\" class=\"dataframe\">\n",
              "  <thead>\n",
              "    <tr style=\"text-align: right;\">\n",
              "      <th></th>\n",
              "      <th>tweet_text</th>\n",
              "      <th>sentiment</th>\n",
              "    </tr>\n",
              "  </thead>\n",
              "  <tbody>\n",
              "    <tr>\n",
              "      <th>0</th>\n",
              "      <td>@Laranjito76 A pessoa certa para isso seria o ...</td>\n",
              "      <td>1</td>\n",
              "    </tr>\n",
              "    <tr>\n",
              "      <th>1</th>\n",
              "      <td>@behin_d_curtain Para mim, é precisamente o co...</td>\n",
              "      <td>1</td>\n",
              "    </tr>\n",
              "    <tr>\n",
              "      <th>2</th>\n",
              "      <td>Vou fazer um video hoje... estou pensando em f...</td>\n",
              "      <td>1</td>\n",
              "    </tr>\n",
              "    <tr>\n",
              "      <th>3</th>\n",
              "      <td>aaaaaaaa amei tanto essas polaroids, nem sei e...</td>\n",
              "      <td>1</td>\n",
              "    </tr>\n",
              "    <tr>\n",
              "      <th>4</th>\n",
              "      <td>Valoriza o coração do menininho que vc tem. El...</td>\n",
              "      <td>1</td>\n",
              "    </tr>\n",
              "  </tbody>\n",
              "</table>\n",
              "</div>\n",
              "      <button class=\"colab-df-convert\" onclick=\"convertToInteractive('df-f5d65fe2-f623-4400-89ae-1cae1e5cf4fd')\"\n",
              "              title=\"Convert this dataframe to an interactive table.\"\n",
              "              style=\"display:none;\">\n",
              "        \n",
              "  <svg xmlns=\"http://www.w3.org/2000/svg\" height=\"24px\"viewBox=\"0 0 24 24\"\n",
              "       width=\"24px\">\n",
              "    <path d=\"M0 0h24v24H0V0z\" fill=\"none\"/>\n",
              "    <path d=\"M18.56 5.44l.94 2.06.94-2.06 2.06-.94-2.06-.94-.94-2.06-.94 2.06-2.06.94zm-11 1L8.5 8.5l.94-2.06 2.06-.94-2.06-.94L8.5 2.5l-.94 2.06-2.06.94zm10 10l.94 2.06.94-2.06 2.06-.94-2.06-.94-.94-2.06-.94 2.06-2.06.94z\"/><path d=\"M17.41 7.96l-1.37-1.37c-.4-.4-.92-.59-1.43-.59-.52 0-1.04.2-1.43.59L10.3 9.45l-7.72 7.72c-.78.78-.78 2.05 0 2.83L4 21.41c.39.39.9.59 1.41.59.51 0 1.02-.2 1.41-.59l7.78-7.78 2.81-2.81c.8-.78.8-2.07 0-2.86zM5.41 20L4 18.59l7.72-7.72 1.47 1.35L5.41 20z\"/>\n",
              "  </svg>\n",
              "      </button>\n",
              "      \n",
              "  <style>\n",
              "    .colab-df-container {\n",
              "      display:flex;\n",
              "      flex-wrap:wrap;\n",
              "      gap: 12px;\n",
              "    }\n",
              "\n",
              "    .colab-df-convert {\n",
              "      background-color: #E8F0FE;\n",
              "      border: none;\n",
              "      border-radius: 50%;\n",
              "      cursor: pointer;\n",
              "      display: none;\n",
              "      fill: #1967D2;\n",
              "      height: 32px;\n",
              "      padding: 0 0 0 0;\n",
              "      width: 32px;\n",
              "    }\n",
              "\n",
              "    .colab-df-convert:hover {\n",
              "      background-color: #E2EBFA;\n",
              "      box-shadow: 0px 1px 2px rgba(60, 64, 67, 0.3), 0px 1px 3px 1px rgba(60, 64, 67, 0.15);\n",
              "      fill: #174EA6;\n",
              "    }\n",
              "\n",
              "    [theme=dark] .colab-df-convert {\n",
              "      background-color: #3B4455;\n",
              "      fill: #D2E3FC;\n",
              "    }\n",
              "\n",
              "    [theme=dark] .colab-df-convert:hover {\n",
              "      background-color: #434B5C;\n",
              "      box-shadow: 0px 1px 3px 1px rgba(0, 0, 0, 0.15);\n",
              "      filter: drop-shadow(0px 1px 2px rgba(0, 0, 0, 0.3));\n",
              "      fill: #FFFFFF;\n",
              "    }\n",
              "  </style>\n",
              "\n",
              "      <script>\n",
              "        const buttonEl =\n",
              "          document.querySelector('#df-f5d65fe2-f623-4400-89ae-1cae1e5cf4fd button.colab-df-convert');\n",
              "        buttonEl.style.display =\n",
              "          google.colab.kernel.accessAllowed ? 'block' : 'none';\n",
              "\n",
              "        async function convertToInteractive(key) {\n",
              "          const element = document.querySelector('#df-f5d65fe2-f623-4400-89ae-1cae1e5cf4fd');\n",
              "          const dataTable =\n",
              "            await google.colab.kernel.invokeFunction('convertToInteractive',\n",
              "                                                     [key], {});\n",
              "          if (!dataTable) return;\n",
              "\n",
              "          const docLinkHtml = 'Like what you see? Visit the ' +\n",
              "            '<a target=\"_blank\" href=https://colab.research.google.com/notebooks/data_table.ipynb>data table notebook</a>'\n",
              "            + ' to learn more about interactive tables.';\n",
              "          element.innerHTML = '';\n",
              "          dataTable['output_type'] = 'display_data';\n",
              "          await google.colab.output.renderOutput(dataTable, element);\n",
              "          const docLink = document.createElement('div');\n",
              "          docLink.innerHTML = docLinkHtml;\n",
              "          element.appendChild(docLink);\n",
              "        }\n",
              "      </script>\n",
              "    </div>\n",
              "  </div>\n",
              "  "
            ]
          },
          "metadata": {},
          "execution_count": 14
        }
      ]
    },
    {
      "cell_type": "code",
      "metadata": {
        "id": "dfMcmaval-7w",
        "colab": {
          "base_uri": "https://localhost:8080/",
          "height": 271
        },
        "outputId": "ba5aad5e-21e8-407f-f7de-a0e5deccb27d"
      },
      "source": [
        "sns.heatmap(pd.isnull(base_treinamento));"
      ],
      "execution_count": null,
      "outputs": [
        {
          "output_type": "display_data",
          "data": {
            "text/plain": [
              "<Figure size 432x288 with 2 Axes>"
            ],
            "image/png": "[encoded data removed]"
          },
          "metadata": {
            "needs_background": "light"
          }
        }
      ]
    },
    {
      "cell_type": "markdown",
      "metadata": {
        "id": "KwANq9uCx-jV"
      },
      "source": [
        "## Base de teste"
      ]
    },
    {
      "cell_type": "code",
      "metadata": {
        "id": "PllVVG-IlYkC"
      },
      "source": [
        "base_teste = pd.read_csv('/content/drive/MyDrive/Mineração e Análise de Dados do LinkedIn/Test.csv', delimiter=';')"
      ],
      "execution_count": null,
      "outputs": []
    },
    {
      "cell_type": "code",
      "metadata": {
        "id": "yeiX7jb-lfdE",
        "colab": {
          "base_uri": "https://localhost:8080/",
          "height": 206
        },
        "outputId": "968d1e96-1933-4e0c-844a-cabd1f80c0a8"
      },
      "source": [
        "base_teste.head()"
      ],
      "execution_count": null,
      "outputs": [
        {
          "output_type": "execute_result",
          "data": {
            "text/plain": [
              "                    id                                         tweet_text  \\\n",
              "0  1029536486021099522                   @Gazo1a Nossa! Muito obrigada :)   \n",
              "1  1029536496368406528             @BerzGamer vai pa puta que te pariu :)   \n",
              "2  1029536531655131137  QUER MAIS DESCONTOS? (14/08) ⭐⭐⭐⭐⭐ 🌐 Confira n...   \n",
              "3  1029536560117678081  EU VOU PEGAR VCS, ME AJUDEM GALERA, PELO AMOR ...   \n",
              "4  1029536605852377088  Estávamos em casa do Zé e eu estava a morrer d...   \n",
              "\n",
              "                       tweet_date  sentiment query_used  \n",
              "0  Wed Aug 15 01:13:20 +0000 2018          1         :)  \n",
              "1  Wed Aug 15 01:13:23 +0000 2018          1         :)  \n",
              "2  Wed Aug 15 01:13:31 +0000 2018          1         :)  \n",
              "3  Wed Aug 15 01:13:38 +0000 2018          1         :)  \n",
              "4  Wed Aug 15 01:13:49 +0000 2018          1         :)  "
            ],
            "text/html": [
              "\n",
              "  <div id=\"df-c149377f-55db-4ca7-9021-b68b8dfd1551\">\n",
              "    <div class=\"colab-df-container\">\n",
              "      <div>\n",
              "<style scoped>\n",
              "    .dataframe tbody tr th:only-of-type {\n",
              "        vertical-align: middle;\n",
              "    }\n",
              "\n",
              "    .dataframe tbody tr th {\n",
              "        vertical-align: top;\n",
              "    }\n",
              "\n",
              "    .dataframe thead th {\n",
              "        text-align: right;\n",
              "    }\n",
              "</style>\n",
              "<table border=\"1\" class=\"dataframe\">\n",
              "  <thead>\n",
              "    <tr style=\"text-align: right;\">\n",
              "      <th></th>\n",
              "      <th>id</th>\n",
              "      <th>tweet_text</th>\n",
              "      <th>tweet_date</th>\n",
              "      <th>sentiment</th>\n",
              "      <th>query_used</th>\n",
              "    </tr>\n",
              "  </thead>\n",
              "  <tbody>\n",
              "    <tr>\n",
              "      <th>0</th>\n",
              "      <td>1029536486021099522</td>\n",
              "      <td>@Gazo1a Nossa! Muito obrigada :)</td>\n",
              "      <td>Wed Aug 15 01:13:20 +0000 2018</td>\n",
              "      <td>1</td>\n",
              "      <td>:)</td>\n",
              "    </tr>\n",
              "    <tr>\n",
              "      <th>1</th>\n",
              "      <td>1029536496368406528</td>\n",
              "      <td>@BerzGamer vai pa puta que te pariu :)</td>\n",
              "      <td>Wed Aug 15 01:13:23 +0000 2018</td>\n",
              "      <td>1</td>\n",
              "      <td>:)</td>\n",
              "    </tr>\n",
              "    <tr>\n",
              "      <th>2</th>\n",
              "      <td>1029536531655131137</td>\n",
              "      <td>QUER MAIS DESCONTOS? (14/08) ⭐⭐⭐⭐⭐ 🌐 Confira n...</td>\n",
              "      <td>Wed Aug 15 01:13:31 +0000 2018</td>\n",
              "      <td>1</td>\n",
              "      <td>:)</td>\n",
              "    </tr>\n",
              "    <tr>\n",
              "      <th>3</th>\n",
              "      <td>1029536560117678081</td>\n",
              "      <td>EU VOU PEGAR VCS, ME AJUDEM GALERA, PELO AMOR ...</td>\n",
              "      <td>Wed Aug 15 01:13:38 +0000 2018</td>\n",
              "      <td>1</td>\n",
              "      <td>:)</td>\n",
              "    </tr>\n",
              "    <tr>\n",
              "      <th>4</th>\n",
              "      <td>1029536605852377088</td>\n",
              "      <td>Estávamos em casa do Zé e eu estava a morrer d...</td>\n",
              "      <td>Wed Aug 15 01:13:49 +0000 2018</td>\n",
              "      <td>1</td>\n",
              "      <td>:)</td>\n",
              "    </tr>\n",
              "  </tbody>\n",
              "</table>\n",
              "</div>\n",
              "      <button class=\"colab-df-convert\" onclick=\"convertToInteractive('df-c149377f-55db-4ca7-9021-b68b8dfd1551')\"\n",
              "              title=\"Convert this dataframe to an interactive table.\"\n",
              "              style=\"display:none;\">\n",
              "        \n",
              "  <svg xmlns=\"http://www.w3.org/2000/svg\" height=\"24px\"viewBox=\"0 0 24 24\"\n",
              "       width=\"24px\">\n",
              "    <path d=\"M0 0h24v24H0V0z\" fill=\"none\"/>\n",
              "    <path d=\"M18.56 5.44l.94 2.06.94-2.06 2.06-.94-2.06-.94-.94-2.06-.94 2.06-2.06.94zm-11 1L8.5 8.5l.94-2.06 2.06-.94-2.06-.94L8.5 2.5l-.94 2.06-2.06.94zm10 10l.94 2.06.94-2.06 2.06-.94-2.06-.94-.94-2.06-.94 2.06-2.06.94z\"/><path d=\"M17.41 7.96l-1.37-1.37c-.4-.4-.92-.59-1.43-.59-.52 0-1.04.2-1.43.59L10.3 9.45l-7.72 7.72c-.78.78-.78 2.05 0 2.83L4 21.41c.39.39.9.59 1.41.59.51 0 1.02-.2 1.41-.59l7.78-7.78 2.81-2.81c.8-.78.8-2.07 0-2.86zM5.41 20L4 18.59l7.72-7.72 1.47 1.35L5.41 20z\"/>\n",
              "  </svg>\n",
              "      </button>\n",
              "      \n",
              "  <style>\n",
              "    .colab-df-container {\n",
              "      display:flex;\n",
              "      flex-wrap:wrap;\n",
              "      gap: 12px;\n",
              "    }\n",
              "\n",
              "    .colab-df-convert {\n",
              "      background-color: #E8F0FE;\n",
              "      border: none;\n",
              "      border-radius: 50%;\n",
              "      cursor: pointer;\n",
              "      display: none;\n",
              "      fill: #1967D2;\n",
              "      height: 32px;\n",
              "      padding: 0 0 0 0;\n",
              "      width: 32px;\n",
              "    }\n",
              "\n",
              "    .colab-df-convert:hover {\n",
              "      background-color: #E2EBFA;\n",
              "      box-shadow: 0px 1px 2px rgba(60, 64, 67, 0.3), 0px 1px 3px 1px rgba(60, 64, 67, 0.15);\n",
              "      fill: #174EA6;\n",
              "    }\n",
              "\n",
              "    [theme=dark] .colab-df-convert {\n",
              "      background-color: #3B4455;\n",
              "      fill: #D2E3FC;\n",
              "    }\n",
              "\n",
              "    [theme=dark] .colab-df-convert:hover {\n",
              "      background-color: #434B5C;\n",
              "      box-shadow: 0px 1px 3px 1px rgba(0, 0, 0, 0.15);\n",
              "      filter: drop-shadow(0px 1px 2px rgba(0, 0, 0, 0.3));\n",
              "      fill: #FFFFFF;\n",
              "    }\n",
              "  </style>\n",
              "\n",
              "      <script>\n",
              "        const buttonEl =\n",
              "          document.querySelector('#df-c149377f-55db-4ca7-9021-b68b8dfd1551 button.colab-df-convert');\n",
              "        buttonEl.style.display =\n",
              "          google.colab.kernel.accessAllowed ? 'block' : 'none';\n",
              "\n",
              "        async function convertToInteractive(key) {\n",
              "          const element = document.querySelector('#df-c149377f-55db-4ca7-9021-b68b8dfd1551');\n",
              "          const dataTable =\n",
              "            await google.colab.kernel.invokeFunction('convertToInteractive',\n",
              "                                                     [key], {});\n",
              "          if (!dataTable) return;\n",
              "\n",
              "          const docLinkHtml = 'Like what you see? Visit the ' +\n",
              "            '<a target=\"_blank\" href=https://colab.research.google.com/notebooks/data_table.ipynb>data table notebook</a>'\n",
              "            + ' to learn more about interactive tables.';\n",
              "          element.innerHTML = '';\n",
              "          dataTable['output_type'] = 'display_data';\n",
              "          await google.colab.output.renderOutput(dataTable, element);\n",
              "          const docLink = document.createElement('div');\n",
              "          docLink.innerHTML = docLinkHtml;\n",
              "          element.appendChild(docLink);\n",
              "        }\n",
              "      </script>\n",
              "    </div>\n",
              "  </div>\n",
              "  "
            ]
          },
          "metadata": {},
          "execution_count": 17
        }
      ]
    },
    {
      "cell_type": "code",
      "metadata": {
        "id": "Lr5tKcjPlkQy",
        "colab": {
          "base_uri": "https://localhost:8080/"
        },
        "outputId": "a6e00dce-d095-403a-858e-606e3a44b5dc"
      },
      "source": [
        "base_teste.shape"
      ],
      "execution_count": null,
      "outputs": [
        {
          "output_type": "execute_result",
          "data": {
            "text/plain": [
              "(5000, 5)"
            ]
          },
          "metadata": {},
          "execution_count": 18
        }
      ]
    },
    {
      "cell_type": "code",
      "metadata": {
        "id": "uyU25iuZlnSP",
        "colab": {
          "base_uri": "https://localhost:8080/",
          "height": 334
        },
        "outputId": "ede326ae-fc53-4212-a4d4-822a79b83364"
      },
      "source": [
        "sns.countplot(base_teste['sentiment'], label='Contagem');"
      ],
      "execution_count": null,
      "outputs": [
        {
          "output_type": "stream",
          "name": "stderr",
          "text": [
            "/usr/local/lib/python3.7/dist-packages/seaborn/_decorators.py:43: FutureWarning: Pass the following variable as a keyword arg: x. From version 0.12, the only valid positional argument will be `data`, and passing other arguments without an explicit keyword will result in an error or misinterpretation.\n",
            "  FutureWarning\n"
          ]
        },
        {
          "output_type": "display_data",
          "data": {
            "text/plain": [
              "<Figure size 432x288 with 1 Axes>"
            ],
            "image/png": "[encoded data removed]"
          },
          "metadata": {
            "needs_background": "light"
          }
        }
      ]
    },
    {
      "cell_type": "code",
      "metadata": {
        "id": "gPgCCOZslxXy"
      },
      "source": [
        "base_teste.drop(['id', 'tweet_date', 'query_used'], axis = 1, inplace=True)"
      ],
      "execution_count": null,
      "outputs": []
    },
    {
      "cell_type": "code",
      "metadata": {
        "id": "5evaWMpvl1kg",
        "colab": {
          "base_uri": "https://localhost:8080/",
          "height": 206
        },
        "outputId": "b28fa059-73d5-4e3c-f08d-ab4292b53f74"
      },
      "source": [
        "base_teste.head()"
      ],
      "execution_count": null,
      "outputs": [
        {
          "output_type": "execute_result",
          "data": {
            "text/plain": [
              "                                          tweet_text  sentiment\n",
              "0                   @Gazo1a Nossa! Muito obrigada :)          1\n",
              "1             @BerzGamer vai pa puta que te pariu :)          1\n",
              "2  QUER MAIS DESCONTOS? (14/08) ⭐⭐⭐⭐⭐ 🌐 Confira n...          1\n",
              "3  EU VOU PEGAR VCS, ME AJUDEM GALERA, PELO AMOR ...          1\n",
              "4  Estávamos em casa do Zé e eu estava a morrer d...          1"
            ],
            "text/html": [
              "\n",
              "  <div id=\"df-82305443-f6f3-4df5-838a-c345bdb5d300\">\n",
              "    <div class=\"colab-df-container\">\n",
              "      <div>\n",
              "<style scoped>\n",
              "    .dataframe tbody tr th:only-of-type {\n",
              "        vertical-align: middle;\n",
              "    }\n",
              "\n",
              "    .dataframe tbody tr th {\n",
              "        vertical-align: top;\n",
              "    }\n",
              "\n",
              "    .dataframe thead th {\n",
              "        text-align: right;\n",
              "    }\n",
              "</style>\n",
              "<table border=\"1\" class=\"dataframe\">\n",
              "  <thead>\n",
              "    <tr style=\"text-align: right;\">\n",
              "      <th></th>\n",
              "      <th>tweet_text</th>\n",
              "      <th>sentiment</th>\n",
              "    </tr>\n",
              "  </thead>\n",
              "  <tbody>\n",
              "    <tr>\n",
              "      <th>0</th>\n",
              "      <td>@Gazo1a Nossa! Muito obrigada :)</td>\n",
              "      <td>1</td>\n",
              "    </tr>\n",
              "    <tr>\n",
              "      <th>1</th>\n",
              "      <td>@BerzGamer vai pa puta que te pariu :)</td>\n",
              "      <td>1</td>\n",
              "    </tr>\n",
              "    <tr>\n",
              "      <th>2</th>\n",
              "      <td>QUER MAIS DESCONTOS? (14/08) ⭐⭐⭐⭐⭐ 🌐 Confira n...</td>\n",
              "      <td>1</td>\n",
              "    </tr>\n",
              "    <tr>\n",
              "      <th>3</th>\n",
              "      <td>EU VOU PEGAR VCS, ME AJUDEM GALERA, PELO AMOR ...</td>\n",
              "      <td>1</td>\n",
              "    </tr>\n",
              "    <tr>\n",
              "      <th>4</th>\n",
              "      <td>Estávamos em casa do Zé e eu estava a morrer d...</td>\n",
              "      <td>1</td>\n",
              "    </tr>\n",
              "  </tbody>\n",
              "</table>\n",
              "</div>\n",
              "      <button class=\"colab-df-convert\" onclick=\"convertToInteractive('df-82305443-f6f3-4df5-838a-c345bdb5d300')\"\n",
              "              title=\"Convert this dataframe to an interactive table.\"\n",
              "              style=\"display:none;\">\n",
              "        \n",
              "  <svg xmlns=\"http://www.w3.org/2000/svg\" height=\"24px\"viewBox=\"0 0 24 24\"\n",
              "       width=\"24px\">\n",
              "    <path d=\"M0 0h24v24H0V0z\" fill=\"none\"/>\n",
              "    <path d=\"M18.56 5.44l.94 2.06.94-2.06 2.06-.94-2.06-.94-.94-2.06-.94 2.06-2.06.94zm-11 1L8.5 8.5l.94-2.06 2.06-.94-2.06-.94L8.5 2.5l-.94 2.06-2.06.94zm10 10l.94 2.06.94-2.06 2.06-.94-2.06-.94-.94-2.06-.94 2.06-2.06.94z\"/><path d=\"M17.41 7.96l-1.37-1.37c-.4-.4-.92-.59-1.43-.59-.52 0-1.04.2-1.43.59L10.3 9.45l-7.72 7.72c-.78.78-.78 2.05 0 2.83L4 21.41c.39.39.9.59 1.41.59.51 0 1.02-.2 1.41-.59l7.78-7.78 2.81-2.81c.8-.78.8-2.07 0-2.86zM5.41 20L4 18.59l7.72-7.72 1.47 1.35L5.41 20z\"/>\n",
              "  </svg>\n",
              "      </button>\n",
              "      \n",
              "  <style>\n",
              "    .colab-df-container {\n",
              "      display:flex;\n",
              "      flex-wrap:wrap;\n",
              "      gap: 12px;\n",
              "    }\n",
              "\n",
              "    .colab-df-convert {\n",
              "      background-color: #E8F0FE;\n",
              "      border: none;\n",
              "      border-radius: 50%;\n",
              "      cursor: pointer;\n",
              "      display: none;\n",
              "      fill: #1967D2;\n",
              "      height: 32px;\n",
              "      padding: 0 0 0 0;\n",
              "      width: 32px;\n",
              "    }\n",
              "\n",
              "    .colab-df-convert:hover {\n",
              "      background-color: #E2EBFA;\n",
              "      box-shadow: 0px 1px 2px rgba(60, 64, 67, 0.3), 0px 1px 3px 1px rgba(60, 64, 67, 0.15);\n",
              "      fill: #174EA6;\n",
              "    }\n",
              "\n",
              "    [theme=dark] .colab-df-convert {\n",
              "      background-color: #3B4455;\n",
              "      fill: #D2E3FC;\n",
              "    }\n",
              "\n",
              "    [theme=dark] .colab-df-convert:hover {\n",
              "      background-color: #434B5C;\n",
              "      box-shadow: 0px 1px 3px 1px rgba(0, 0, 0, 0.15);\n",
              "      filter: drop-shadow(0px 1px 2px rgba(0, 0, 0, 0.3));\n",
              "      fill: #FFFFFF;\n",
              "    }\n",
              "  </style>\n",
              "\n",
              "      <script>\n",
              "        const buttonEl =\n",
              "          document.querySelector('#df-82305443-f6f3-4df5-838a-c345bdb5d300 button.colab-df-convert');\n",
              "        buttonEl.style.display =\n",
              "          google.colab.kernel.accessAllowed ? 'block' : 'none';\n",
              "\n",
              "        async function convertToInteractive(key) {\n",
              "          const element = document.querySelector('#df-82305443-f6f3-4df5-838a-c345bdb5d300');\n",
              "          const dataTable =\n",
              "            await google.colab.kernel.invokeFunction('convertToInteractive',\n",
              "                                                     [key], {});\n",
              "          if (!dataTable) return;\n",
              "\n",
              "          const docLinkHtml = 'Like what you see? Visit the ' +\n",
              "            '<a target=\"_blank\" href=https://colab.research.google.com/notebooks/data_table.ipynb>data table notebook</a>'\n",
              "            + ' to learn more about interactive tables.';\n",
              "          element.innerHTML = '';\n",
              "          dataTable['output_type'] = 'display_data';\n",
              "          await google.colab.output.renderOutput(dataTable, element);\n",
              "          const docLink = document.createElement('div');\n",
              "          docLink.innerHTML = docLinkHtml;\n",
              "          element.appendChild(docLink);\n",
              "        }\n",
              "      </script>\n",
              "    </div>\n",
              "  </div>\n",
              "  "
            ]
          },
          "metadata": {},
          "execution_count": 21
        }
      ]
    },
    {
      "cell_type": "code",
      "metadata": {
        "id": "FYE-KGRkmZcd",
        "colab": {
          "base_uri": "https://localhost:8080/",
          "height": 271
        },
        "outputId": "e5a78dc0-f4a2-4cb3-ead3-58938b3bc5c9"
      },
      "source": [
        "sns.heatmap(pd.isnull(base_teste));"
      ],
      "execution_count": null,
      "outputs": [
        {
          "output_type": "display_data",
          "data": {
            "text/plain": [
              "<Figure size 432x288 with 2 Axes>"
            ],
            "image/png": "[encoded data removed]"
          },
          "metadata": {
            "needs_background": "light"
          }
        }
      ]
    },
    {
      "cell_type": "markdown",
      "metadata": {
        "id": "h36-8Ien-AQ1"
      },
      "source": [
        "# Etapa 3: Função para pré-processamento dos textos\n",
        "\n",
        "- Letras minúsculas\n",
        "- Nome do usuário (@)\n",
        "- URLs\n",
        "- Espaços em branco\n",
        "- Emoticons\n",
        "- Stop words\n",
        "- Lematização\n",
        "- Pontuações"
      ]
    },
    {
      "cell_type": "code",
      "metadata": {
        "id": "gOur6ftJnKuP",
        "colab": {
          "base_uri": "https://localhost:8080/"
        },
        "outputId": "e7c478a8-f6ee-4cd2-9848-fc4f3dac1b80"
      },
      "source": [
        "pln = spacy.load('pt')\n",
        "pln"
      ],
      "execution_count": null,
      "outputs": [
        {
          "output_type": "execute_result",
          "data": {
            "text/plain": [
              "<spacy.lang.pt.Portuguese at 0x7f0f7b345a10>"
            ]
          },
          "metadata": {},
          "execution_count": 23
        }
      ]
    },
    {
      "cell_type": "code",
      "metadata": {
        "id": "m8eGCSuHnSYM",
        "colab": {
          "base_uri": "https://localhost:8080/"
        },
        "outputId": "52f387bd-16d3-4897-c21e-00166d86b54a"
      },
      "source": [
        "base_treinamento['tweet_text'][1]"
      ],
      "execution_count": null,
      "outputs": [
        {
          "output_type": "execute_result",
          "data": {
            "text/plain": [
              "'@behin_d_curtain Para mim, é precisamente o contrário :) Vem a chuva e vem a boa disposição :)'"
            ],
            "application/vnd.google.colaboratory.intrinsic+json": {
              "type": "string"
            }
          },
          "metadata": {},
          "execution_count": 24
        }
      ]
    },
    {
      "cell_type": "code",
      "metadata": {
        "id": "z6-JRv8Ynayt"
      },
      "source": [
        "stop_words = spacy.lang.pt.stop_words.STOP_WORDS"
      ],
      "execution_count": null,
      "outputs": []
    },
    {
      "cell_type": "code",
      "metadata": {
        "id": "QqMa61Qwnj4c",
        "colab": {
          "base_uri": "https://localhost:8080/"
        },
        "outputId": "fe646858-464c-4b6a-88e4-ff0beb78f7dc"
      },
      "source": [
        "print(stop_words)"
      ],
      "execution_count": null,
      "outputs": [
        {
          "output_type": "stream",
          "name": "stdout",
          "text": [
            "{'ali', 'essas', 'podia', 'cima', 'isso', 'zero', 'próprio', 'primeira', 'esteve', 'tivestes', 'duas', 'apoio', 'tivemos', 'minhas', 'novas', 'forma', 'quero', 'outros', 'dois', 'algo', 'fazer', 'tão', 'uma', 'cento', 'puderam', 'seria', 'quieta', 'custa', 'foste', 'boa', 'quarto', 'fim', 'poderá', 'te', 'breve', 'porquanto', 'máximo', 'lado', 'obrigada', 'caminho', 'próximo', 'segunda', 'depois', 'mesmo', 'pelos', 'aquele', 'algumas', 'inicio', 'teu', 'próxima', 'tu', 'essa', 'nós', 'daquela', 'ponto', 'estivemos', 'vezes', 'de', 'oito', 'comprida', 'irá', 'apenas', 'ambos', 'bem', 'numa', 'quanto', 'cada', 'nesse', 'obrigado', 'meio', 'dezoito', 'nada', 'pelo', 'quinze', 'só', 'cá', 'novos', 'desse', 'contra', 'acerca', 'antes', 'uns', 'isto', 'questão', 'dá', 'daquele', 'vêm', 'sua', 'ou', 'menor', 'dezanove', 'tens', 'até', 'ainda', 'alguns', 'tem', 'grandes', 'quinto', 'põe', 'por', 'posso', 'sob', 'aquela', 'oitavo', 'tendes', 'ela', 'partir', 'suas', 'tentar', 'vem', 'estava', 'das', 'quieto', 'após', 'foram', 'estive', 'segundo', 'dar', 'vindo', 'estar', 'sobre', 'desde', 'adeus', 'local', 'sétimo', 'estará', 'certeza', 'nível', 'sois', 'número', 'mês', 'nosso', 'conhecido', 'ser', 'estão', 'faz', 'ontem', 'na', 'dão', 'todo', 'tentaram', 'saber', 'em', 'aquilo', 'és', 'maioria', 'poder', 'dezassete', 'estou', 'me', 'favor', 'vão', 'grande', 'meu', 'nessa', 'onde', 'vinte', 'possível', 'ademais', 'ir', 'tarde', 'desta', 'novo', 'está', 'fazia', 'falta', 'usa', 'no', 'fazeis', 'bom', 'quatro', 'um', 'seus', 'ligado', 'pela', 'deve', 'des', 'estivestes', 'somos', 'geral', 'as', 'eventual', 'seu', 'ambas', 'à', 'dessa', 'baixo', 'vais', 'podem', 'pouco', 'mil', 'através', 'fostes', 'tiveste', 'qualquer', 'conselho', 'pôde', 'ao', 'tudo', 'pois', 'nunca', 'quando', 'também', 'os', 'já', 'ele', 'tipo', 'sei', 'mal', 'sabe', 'não', 'porém', 'dizem', 'for', 'fazes', 'quinta', 'esse', 'teve', 'relação', 'seis', 'nossas', 'como', 'diz', 'parte', 'somente', 'fará', 'pouca', 'catorze', 'sistema', 'devem', 'exemplo', 'fora', 'todos', 'da', 'comprido', 'corrente', 'valor', 'vários', 'esses', 'ter', 'bastante', 'apontar', 'agora', 'logo', 'estado', 'dentro', 'mas', 'ora', 'com', 'sexto', 'cedo', 'outras', 'que', 'direita', 'vossas', 'fazemos', 'tua', 'terceira', 'quê', 'vosso', 'eu', 'dez', 'pode', 'vens', 'vossa', 'sou', 'números', 'têm', 'grupo', 'estás', 'apoia', 'aos', 'inclusive', 'tais', 'portanto', 'do', 'aqui', 'às', 'enquanto', 'fomos', 'além', 'muito', 'quem', 'três', 'se', 'eles', 'vos', 'vós', 'tanta', 'toda', 'estas', 'tiveram', 'nove', 'onze', 'esta', 'cujo', 'atrás', 'este', 'neste', 'oitava', 'coisa', 'elas', 'embora', 'menos', 'outra', 'sem', 'vocês', 'todas', 'estiveste', 'querem', 'pegar', 'é', 'você', 'pontos', 'lá', 'último', 'fazem', 'ver', 'quarta', 'era', 'conhecida', 'umas', 'pelas', 'quer', 'deverá', 'faço', 'nenhuma', 'treze', 'quais', 'nesta', 'sempre', 'longe', 'final', 'povo', 'tenho', 'vai', 'possivelmente', 'posição', 'deste', 'sétima', 'vinda', 'aqueles', 'qual', 'usar', 'vossos', 'dos', 'assim', 'cuja', 'tempo', 'diante', 'tente', 'porquê', 'aquelas', 'então', 'maiorias', 'maior', 'perto', 'momento', 'nem', 'fez', 'talvez', 'naquela', 'dizer', 'nossa', 'disso', 'vez', 'aí', 'sete', 'foi', 'temos', 'parece', 'primeiro', 'para', 'tuas', 'sim', 'fui', 'área', 'tal', 'lugar', 'dezasseis', 'nas', 'são', 'entre', 'debaixo', 'iniciar', 'certamente', 'doze', 'muitos', 'estiveram', 'nos', 'tanto', 'nuns', 'meses', 'terceiro', 'cinco', 'põem', 'porque', 'contudo', 'estes', 'mais', 'lhe', 'tentei', 'teus', 'tive', 'nova', 'minha', 'meus', 'naquele', 'veja', 'demais', 'sexta', 'num', 'nossos'}\n"
          ]
        }
      ]
    },
    {
      "cell_type": "code",
      "metadata": {
        "id": "n1lFJDhJnoth",
        "colab": {
          "base_uri": "https://localhost:8080/"
        },
        "outputId": "624466f8-ccdf-4655-e8f6-3524b8df951c"
      },
      "source": [
        "string.punctuation"
      ],
      "execution_count": null,
      "outputs": [
        {
          "output_type": "execute_result",
          "data": {
            "text/plain": [
              "'!\"#$%&\\'()*+,-./:;<=>?@[\\\\]^_`{|}~'"
            ],
            "application/vnd.google.colaboratory.intrinsic+json": {
              "type": "string"
            }
          },
          "metadata": {},
          "execution_count": 27
        }
      ]
    },
    {
      "cell_type": "code",
      "metadata": {
        "id": "rS9ldTSJnsMb"
      },
      "source": [
        "def preprocessamento(texto):\n",
        "  # Letras minúsculas\n",
        "  texto = texto.lower()\n",
        "\n",
        "  # Nome do usuário\n",
        "  texto = re.sub(r\"@[A-Za-z0-9$-_@.&+]+\", ' ', texto)\n",
        "\n",
        "  # URLs\n",
        "  texto = re.sub(r\"https?://[A-Za-z0-9./]+\", ' ', texto)\n",
        "\n",
        "  # Espaços em branco\n",
        "  texto = re.sub(r\" +\", ' ', texto)\n",
        "\n",
        "  # Emoticons\n",
        "  lista_emocoes = {':)': 'emocaopositiva',\n",
        "                   ':d': 'emocaopositiva',\n",
        "                   ':(': 'emocaonegativa'}\n",
        "  for emocao in lista_emocoes:\n",
        "    texto = texto.replace(emocao, lista_emocoes[emocao])\n",
        "\n",
        "  # Lematização\n",
        "  documento = pln(texto)\n",
        "\n",
        "  lista = []\n",
        "  for token in documento:\n",
        "    lista.append(token.lemma_)\n",
        "  \n",
        "  # Stop words e pontuações\n",
        "  lista = [palavra for palavra in lista if palavra not in stop_words and palavra not in string.punctuation]\n",
        "  lista = ' '.join([str(elemento) for elemento in lista if not elemento.isdigit()])\n",
        "  \n",
        "  return lista"
      ],
      "execution_count": null,
      "outputs": []
    },
    {
      "cell_type": "code",
      "metadata": {
        "id": "iIy-2X18n0G8",
        "colab": {
          "base_uri": "https://localhost:8080/"
        },
        "outputId": "8009f08d-7f40-4cc4-d43c-3f77ab5b6e09"
      },
      "source": [
        "texto_teste = '@behin_d_curtain :D Para :( mim, http://www.iaexpert.com.br é precisamente o contrário :) Vem a chuva e vem a boa disposição :)'\n",
        "resultado = preprocessamento(texto_teste)\n",
        "resultado"
      ],
      "execution_count": null,
      "outputs": [
        {
          "output_type": "execute_result",
          "data": {
            "text/plain": [
              "'  emocaopositiva parir emocaonegativa mim precisamente o contrário emocaopositiva vir o chuva e vir o disposição emocaopositiva'"
            ],
            "application/vnd.google.colaboratory.intrinsic+json": {
              "type": "string"
            }
          },
          "metadata": {},
          "execution_count": 29
        }
      ]
    },
    {
      "cell_type": "markdown",
      "metadata": {
        "id": "DtL8DBPVOFoL"
      },
      "source": [
        "# Etapa 4: Pré-processamento da base de dados"
      ]
    },
    {
      "cell_type": "markdown",
      "metadata": {
        "id": "n7G5PSVUOOId"
      },
      "source": [
        "### Limpeza dos textos"
      ]
    },
    {
      "cell_type": "code",
      "metadata": {
        "id": "o3zrf-ytssZb",
        "colab": {
          "base_uri": "https://localhost:8080/",
          "height": 363
        },
        "outputId": "276bc7a9-2749-44d1-cc29-84b755900a51"
      },
      "source": [
        "base_treinamento.head(10)"
      ],
      "execution_count": null,
      "outputs": [
        {
          "output_type": "execute_result",
          "data": {
            "text/plain": [
              "                                          tweet_text  sentiment\n",
              "0  @Laranjito76 A pessoa certa para isso seria o ...          1\n",
              "1  @behin_d_curtain Para mim, é precisamente o co...          1\n",
              "2  Vou fazer um video hoje... estou pensando em f...          1\n",
              "3  aaaaaaaa amei tanto essas polaroids, nem sei e...          1\n",
              "4  Valoriza o coração do menininho que vc tem. El...          1\n",
              "5       @KingJokerLeto mas amiga eu to aqui ainda :)          1\n",
              "6                   @RivasJairo Bravo, Jairo!!! :)))          1\n",
              "7  @inquilinasls @Spotify socorro ksoaksosks acho...          1\n",
              "8  @chimekarlla gosto muito de fazenda :) , mas m...          1\n",
              "9                            Amanha vou ver venom :D          1"
            ],
            "text/html": [
              "\n",
              "  <div id=\"df-de2157ef-944c-4652-b6da-cedf7631c067\">\n",
              "    <div class=\"colab-df-container\">\n",
              "      <div>\n",
              "<style scoped>\n",
              "    .dataframe tbody tr th:only-of-type {\n",
              "        vertical-align: middle;\n",
              "    }\n",
              "\n",
              "    .dataframe tbody tr th {\n",
              "        vertical-align: top;\n",
              "    }\n",
              "\n",
              "    .dataframe thead th {\n",
              "        text-align: right;\n",
              "    }\n",
              "</style>\n",
              "<table border=\"1\" class=\"dataframe\">\n",
              "  <thead>\n",
              "    <tr style=\"text-align: right;\">\n",
              "      <th></th>\n",
              "      <th>tweet_text</th>\n",
              "      <th>sentiment</th>\n",
              "    </tr>\n",
              "  </thead>\n",
              "  <tbody>\n",
              "    <tr>\n",
              "      <th>0</th>\n",
              "      <td>@Laranjito76 A pessoa certa para isso seria o ...</td>\n",
              "      <td>1</td>\n",
              "    </tr>\n",
              "    <tr>\n",
              "      <th>1</th>\n",
              "      <td>@behin_d_curtain Para mim, é precisamente o co...</td>\n",
              "      <td>1</td>\n",
              "    </tr>\n",
              "    <tr>\n",
              "      <th>2</th>\n",
              "      <td>Vou fazer um video hoje... estou pensando em f...</td>\n",
              "      <td>1</td>\n",
              "    </tr>\n",
              "    <tr>\n",
              "      <th>3</th>\n",
              "      <td>aaaaaaaa amei tanto essas polaroids, nem sei e...</td>\n",
              "      <td>1</td>\n",
              "    </tr>\n",
              "    <tr>\n",
              "      <th>4</th>\n",
              "      <td>Valoriza o coração do menininho que vc tem. El...</td>\n",
              "      <td>1</td>\n",
              "    </tr>\n",
              "    <tr>\n",
              "      <th>5</th>\n",
              "      <td>@KingJokerLeto mas amiga eu to aqui ainda :)</td>\n",
              "      <td>1</td>\n",
              "    </tr>\n",
              "    <tr>\n",
              "      <th>6</th>\n",
              "      <td>@RivasJairo Bravo, Jairo!!! :)))</td>\n",
              "      <td>1</td>\n",
              "    </tr>\n",
              "    <tr>\n",
              "      <th>7</th>\n",
              "      <td>@inquilinasls @Spotify socorro ksoaksosks acho...</td>\n",
              "      <td>1</td>\n",
              "    </tr>\n",
              "    <tr>\n",
              "      <th>8</th>\n",
              "      <td>@chimekarlla gosto muito de fazenda :) , mas m...</td>\n",
              "      <td>1</td>\n",
              "    </tr>\n",
              "    <tr>\n",
              "      <th>9</th>\n",
              "      <td>Amanha vou ver venom :D</td>\n",
              "      <td>1</td>\n",
              "    </tr>\n",
              "  </tbody>\n",
              "</table>\n",
              "</div>\n",
              "      <button class=\"colab-df-convert\" onclick=\"convertToInteractive('df-de2157ef-944c-4652-b6da-cedf7631c067')\"\n",
              "              title=\"Convert this dataframe to an interactive table.\"\n",
              "              style=\"display:none;\">\n",
              "        \n",
              "  <svg xmlns=\"http://www.w3.org/2000/svg\" height=\"24px\"viewBox=\"0 0 24 24\"\n",
              "       width=\"24px\">\n",
              "    <path d=\"M0 0h24v24H0V0z\" fill=\"none\"/>\n",
              "    <path d=\"M18.56 5.44l.94 2.06.94-2.06 2.06-.94-2.06-.94-.94-2.06-.94 2.06-2.06.94zm-11 1L8.5 8.5l.94-2.06 2.06-.94-2.06-.94L8.5 2.5l-.94 2.06-2.06.94zm10 10l.94 2.06.94-2.06 2.06-.94-2.06-.94-.94-2.06-.94 2.06-2.06.94z\"/><path d=\"M17.41 7.96l-1.37-1.37c-.4-.4-.92-.59-1.43-.59-.52 0-1.04.2-1.43.59L10.3 9.45l-7.72 7.72c-.78.78-.78 2.05 0 2.83L4 21.41c.39.39.9.59 1.41.59.51 0 1.02-.2 1.41-.59l7.78-7.78 2.81-2.81c.8-.78.8-2.07 0-2.86zM5.41 20L4 18.59l7.72-7.72 1.47 1.35L5.41 20z\"/>\n",
              "  </svg>\n",
              "      </button>\n",
              "      \n",
              "  <style>\n",
              "    .colab-df-container {\n",
              "      display:flex;\n",
              "      flex-wrap:wrap;\n",
              "      gap: 12px;\n",
              "    }\n",
              "\n",
              "    .colab-df-convert {\n",
              "      background-color: #E8F0FE;\n",
              "      border: none;\n",
              "      border-radius: 50%;\n",
              "      cursor: pointer;\n",
              "      display: none;\n",
              "      fill: #1967D2;\n",
              "      height: 32px;\n",
              "      padding: 0 0 0 0;\n",
              "      width: 32px;\n",
              "    }\n",
              "\n",
              "    .colab-df-convert:hover {\n",
              "      background-color: #E2EBFA;\n",
              "      box-shadow: 0px 1px 2px rgba(60, 64, 67, 0.3), 0px 1px 3px 1px rgba(60, 64, 67, 0.15);\n",
              "      fill: #174EA6;\n",
              "    }\n",
              "\n",
              "    [theme=dark] .colab-df-convert {\n",
              "      background-color: #3B4455;\n",
              "      fill: #D2E3FC;\n",
              "    }\n",
              "\n",
              "    [theme=dark] .colab-df-convert:hover {\n",
              "      background-color: #434B5C;\n",
              "      box-shadow: 0px 1px 3px 1px rgba(0, 0, 0, 0.15);\n",
              "      filter: drop-shadow(0px 1px 2px rgba(0, 0, 0, 0.3));\n",
              "      fill: #FFFFFF;\n",
              "    }\n",
              "  </style>\n",
              "\n",
              "      <script>\n",
              "        const buttonEl =\n",
              "          document.querySelector('#df-de2157ef-944c-4652-b6da-cedf7631c067 button.colab-df-convert');\n",
              "        buttonEl.style.display =\n",
              "          google.colab.kernel.accessAllowed ? 'block' : 'none';\n",
              "\n",
              "        async function convertToInteractive(key) {\n",
              "          const element = document.querySelector('#df-de2157ef-944c-4652-b6da-cedf7631c067');\n",
              "          const dataTable =\n",
              "            await google.colab.kernel.invokeFunction('convertToInteractive',\n",
              "                                                     [key], {});\n",
              "          if (!dataTable) return;\n",
              "\n",
              "          const docLinkHtml = 'Like what you see? Visit the ' +\n",
              "            '<a target=\"_blank\" href=https://colab.research.google.com/notebooks/data_table.ipynb>data table notebook</a>'\n",
              "            + ' to learn more about interactive tables.';\n",
              "          element.innerHTML = '';\n",
              "          dataTable['output_type'] = 'display_data';\n",
              "          await google.colab.output.renderOutput(dataTable, element);\n",
              "          const docLink = document.createElement('div');\n",
              "          docLink.innerHTML = docLinkHtml;\n",
              "          element.appendChild(docLink);\n",
              "        }\n",
              "      </script>\n",
              "    </div>\n",
              "  </div>\n",
              "  "
            ]
          },
          "metadata": {},
          "execution_count": 30
        }
      ]
    },
    {
      "cell_type": "code",
      "metadata": {
        "id": "SNSsbuMis0-d"
      },
      "source": [
        "base_treinamento['tweet_text'] = base_treinamento['tweet_text'].apply(preprocessamento)"
      ],
      "execution_count": null,
      "outputs": []
    },
    {
      "cell_type": "code",
      "metadata": {
        "id": "wR742NJLusfy",
        "colab": {
          "base_uri": "https://localhost:8080/"
        },
        "outputId": "2e62795a-5066-4d4d-9fd4-673376badd58"
      },
      "source": [
        "base_treinamento.head(10)"
      ],
      "execution_count": null,
      "outputs": [
        {
          "output_type": "execute_result",
          "data": {
            "text/plain": [
              "                                          tweet_text  sentiment\n",
              "0    o pessoa certo parir seriar o valer e azeved...          1\n",
              "1    parir mim precisamente o contrário emocaopos...          1\n",
              "2  video hoje ... pensar falar sobrar o meter csg...          1\n",
              "3  aaaaaaaa amar polaroids expressar o quantum to...          1\n",
              "4  valorizar o coração menino vc diferente o sorr...          1\n",
              "5                            amigo to emocaopositiva          1\n",
              "6                         bravo jairo emocaopositiva          1\n",
              "7        socorrer ksoaksosks achar to o caixa som :p          1\n",
              "8    gostar fazenda emocaopositiva morrer medo ga...          1\n",
              "9                       amanhar venom emocaopositiva          1"
            ],
            "text/html": [
              "\n",
              "  <div id=\"df-090720d6-8371-4d84-8eab-77f12428b43b\">\n",
              "    <div class=\"colab-df-container\">\n",
              "      <div>\n",
              "<style scoped>\n",
              "    .dataframe tbody tr th:only-of-type {\n",
              "        vertical-align: middle;\n",
              "    }\n",
              "\n",
              "    .dataframe tbody tr th {\n",
              "        vertical-align: top;\n",
              "    }\n",
              "\n",
              "    .dataframe thead th {\n",
              "        text-align: right;\n",
              "    }\n",
              "</style>\n",
              "<table border=\"1\" class=\"dataframe\">\n",
              "  <thead>\n",
              "    <tr style=\"text-align: right;\">\n",
              "      <th></th>\n",
              "      <th>tweet_text</th>\n",
              "      <th>sentiment</th>\n",
              "    </tr>\n",
              "  </thead>\n",
              "  <tbody>\n",
              "    <tr>\n",
              "      <th>0</th>\n",
              "      <td>o pessoa certo parir seriar o valer e azeved...</td>\n",
              "      <td>1</td>\n",
              "    </tr>\n",
              "    <tr>\n",
              "      <th>1</th>\n",
              "      <td>parir mim precisamente o contrário emocaopos...</td>\n",
              "      <td>1</td>\n",
              "    </tr>\n",
              "    <tr>\n",
              "      <th>2</th>\n",
              "      <td>video hoje ... pensar falar sobrar o meter csg...</td>\n",
              "      <td>1</td>\n",
              "    </tr>\n",
              "    <tr>\n",
              "      <th>3</th>\n",
              "      <td>aaaaaaaa amar polaroids expressar o quantum to...</td>\n",
              "      <td>1</td>\n",
              "    </tr>\n",
              "    <tr>\n",
              "      <th>4</th>\n",
              "      <td>valorizar o coração menino vc diferente o sorr...</td>\n",
              "      <td>1</td>\n",
              "    </tr>\n",
              "    <tr>\n",
              "      <th>5</th>\n",
              "      <td>amigo to emocaopositiva</td>\n",
              "      <td>1</td>\n",
              "    </tr>\n",
              "    <tr>\n",
              "      <th>6</th>\n",
              "      <td>bravo jairo emocaopositiva</td>\n",
              "      <td>1</td>\n",
              "    </tr>\n",
              "    <tr>\n",
              "      <th>7</th>\n",
              "      <td>socorrer ksoaksosks achar to o caixa som :p</td>\n",
              "      <td>1</td>\n",
              "    </tr>\n",
              "    <tr>\n",
              "      <th>8</th>\n",
              "      <td>gostar fazenda emocaopositiva morrer medo ga...</td>\n",
              "      <td>1</td>\n",
              "    </tr>\n",
              "    <tr>\n",
              "      <th>9</th>\n",
              "      <td>amanhar venom emocaopositiva</td>\n",
              "      <td>1</td>\n",
              "    </tr>\n",
              "  </tbody>\n",
              "</table>\n",
              "</div>\n",
              "      <button class=\"colab-df-convert\" onclick=\"convertToInteractive('df-090720d6-8371-4d84-8eab-77f12428b43b')\"\n",
              "              title=\"Convert this dataframe to an interactive table.\"\n",
              "              style=\"display:none;\">\n",
              "        \n",
              "  <svg xmlns=\"http://www.w3.org/2000/svg\" height=\"24px\"viewBox=\"0 0 24 24\"\n",
              "       width=\"24px\">\n",
              "    <path d=\"M0 0h24v24H0V0z\" fill=\"none\"/>\n",
              "    <path d=\"M18.56 5.44l.94 2.06.94-2.06 2.06-.94-2.06-.94-.94-2.06-.94 2.06-2.06.94zm-11 1L8.5 8.5l.94-2.06 2.06-.94-2.06-.94L8.5 2.5l-.94 2.06-2.06.94zm10 10l.94 2.06.94-2.06 2.06-.94-2.06-.94-.94-2.06-.94 2.06-2.06.94z\"/><path d=\"M17.41 7.96l-1.37-1.37c-.4-.4-.92-.59-1.43-.59-.52 0-1.04.2-1.43.59L10.3 9.45l-7.72 7.72c-.78.78-.78 2.05 0 2.83L4 21.41c.39.39.9.59 1.41.59.51 0 1.02-.2 1.41-.59l7.78-7.78 2.81-2.81c.8-.78.8-2.07 0-2.86zM5.41 20L4 18.59l7.72-7.72 1.47 1.35L5.41 20z\"/>\n",
              "  </svg>\n",
              "      </button>\n",
              "      \n",
              "  <style>\n",
              "    .colab-df-container {\n",
              "      display:flex;\n",
              "      flex-wrap:wrap;\n",
              "      gap: 12px;\n",
              "    }\n",
              "\n",
              "    .colab-df-convert {\n",
              "      background-color: #E8F0FE;\n",
              "      border: none;\n",
              "      border-radius: 50%;\n",
              "      cursor: pointer;\n",
              "      display: none;\n",
              "      fill: #1967D2;\n",
              "      height: 32px;\n",
              "      padding: 0 0 0 0;\n",
              "      width: 32px;\n",
              "    }\n",
              "\n",
              "    .colab-df-convert:hover {\n",
              "      background-color: #E2EBFA;\n",
              "      box-shadow: 0px 1px 2px rgba(60, 64, 67, 0.3), 0px 1px 3px 1px rgba(60, 64, 67, 0.15);\n",
              "      fill: #174EA6;\n",
              "    }\n",
              "\n",
              "    [theme=dark] .colab-df-convert {\n",
              "      background-color: #3B4455;\n",
              "      fill: #D2E3FC;\n",
              "    }\n",
              "\n",
              "    [theme=dark] .colab-df-convert:hover {\n",
              "      background-color: #434B5C;\n",
              "      box-shadow: 0px 1px 3px 1px rgba(0, 0, 0, 0.15);\n",
              "      filter: drop-shadow(0px 1px 2px rgba(0, 0, 0, 0.3));\n",
              "      fill: #FFFFFF;\n",
              "    }\n",
              "  </style>\n",
              "\n",
              "      <script>\n",
              "        const buttonEl =\n",
              "          document.querySelector('#df-090720d6-8371-4d84-8eab-77f12428b43b button.colab-df-convert');\n",
              "        buttonEl.style.display =\n",
              "          google.colab.kernel.accessAllowed ? 'block' : 'none';\n",
              "\n",
              "        async function convertToInteractive(key) {\n",
              "          const element = document.querySelector('#df-090720d6-8371-4d84-8eab-77f12428b43b');\n",
              "          const dataTable =\n",
              "            await google.colab.kernel.invokeFunction('convertToInteractive',\n",
              "                                                     [key], {});\n",
              "          if (!dataTable) return;\n",
              "\n",
              "          const docLinkHtml = 'Like what you see? Visit the ' +\n",
              "            '<a target=\"_blank\" href=https://colab.research.google.com/notebooks/data_table.ipynb>data table notebook</a>'\n",
              "            + ' to learn more about interactive tables.';\n",
              "          element.innerHTML = '';\n",
              "          dataTable['output_type'] = 'display_data';\n",
              "          await google.colab.output.renderOutput(dataTable, element);\n",
              "          const docLink = document.createElement('div');\n",
              "          docLink.innerHTML = docLinkHtml;\n",
              "          element.appendChild(docLink);\n",
              "        }\n",
              "      </script>\n",
              "    </div>\n",
              "  </div>\n",
              "  "
            ]
          },
          "metadata": {},
          "execution_count": 32
        }
      ]
    },
    {
      "cell_type": "code",
      "metadata": {
        "id": "DI1GvLX1uyr4"
      },
      "source": [
        "base_teste['tweet_text'] = base_teste['tweet_text'].apply(preprocessamento)"
      ],
      "execution_count": null,
      "outputs": []
    },
    {
      "cell_type": "code",
      "metadata": {
        "id": "jTGab2hXvGSr",
        "colab": {
          "base_uri": "https://localhost:8080/"
        },
        "outputId": "b31d1ad0-b391-4989-b04d-646b6e18b761"
      },
      "source": [
        "base_teste.head(10)"
      ],
      "execution_count": null,
      "outputs": [
        {
          "output_type": "execute_result",
          "data": {
            "text/plain": [
              "                                          tweet_text  sentiment\n",
              "0                             obrigar emocaopositiva          1\n",
              "1                       pa puta parir emocaopositiva          1\n",
              "2  querer desconto 14/08 ⭐ ⭐ ⭐ ⭐ ⭐ 🌐 conferir o l...          1\n",
              "3  vcs ajudar galera pelar amor butera emocaoposi...          1\n",
              "4  casar zé e o morrer sono chegar o casar e fica...          1\n",
              "5                             preciso emocaopositiva          1\n",
              "6    acaso adorar beijo e abraço hahahahaha bue f...          1\n",
              "7                          solteiro s emocaopositiva          1\n",
              "8  lindeza cortador kit mário coleção bia cravol ...          1\n",
              "9                               claro emocaopositiva          1"
            ],
            "text/html": [
              "\n",
              "  <div id=\"df-1d378949-6113-45f5-8601-a9e0d27fd044\">\n",
              "    <div class=\"colab-df-container\">\n",
              "      <div>\n",
              "<style scoped>\n",
              "    .dataframe tbody tr th:only-of-type {\n",
              "        vertical-align: middle;\n",
              "    }\n",
              "\n",
              "    .dataframe tbody tr th {\n",
              "        vertical-align: top;\n",
              "    }\n",
              "\n",
              "    .dataframe thead th {\n",
              "        text-align: right;\n",
              "    }\n",
              "</style>\n",
              "<table border=\"1\" class=\"dataframe\">\n",
              "  <thead>\n",
              "    <tr style=\"text-align: right;\">\n",
              "      <th></th>\n",
              "      <th>tweet_text</th>\n",
              "      <th>sentiment</th>\n",
              "    </tr>\n",
              "  </thead>\n",
              "  <tbody>\n",
              "    <tr>\n",
              "      <th>0</th>\n",
              "      <td>obrigar emocaopositiva</td>\n",
              "      <td>1</td>\n",
              "    </tr>\n",
              "    <tr>\n",
              "      <th>1</th>\n",
              "      <td>pa puta parir emocaopositiva</td>\n",
              "      <td>1</td>\n",
              "    </tr>\n",
              "    <tr>\n",
              "      <th>2</th>\n",
              "      <td>querer desconto 14/08 ⭐ ⭐ ⭐ ⭐ ⭐ 🌐 conferir o l...</td>\n",
              "      <td>1</td>\n",
              "    </tr>\n",
              "    <tr>\n",
              "      <th>3</th>\n",
              "      <td>vcs ajudar galera pelar amor butera emocaoposi...</td>\n",
              "      <td>1</td>\n",
              "    </tr>\n",
              "    <tr>\n",
              "      <th>4</th>\n",
              "      <td>casar zé e o morrer sono chegar o casar e fica...</td>\n",
              "      <td>1</td>\n",
              "    </tr>\n",
              "    <tr>\n",
              "      <th>5</th>\n",
              "      <td>preciso emocaopositiva</td>\n",
              "      <td>1</td>\n",
              "    </tr>\n",
              "    <tr>\n",
              "      <th>6</th>\n",
              "      <td>acaso adorar beijo e abraço hahahahaha bue f...</td>\n",
              "      <td>1</td>\n",
              "    </tr>\n",
              "    <tr>\n",
              "      <th>7</th>\n",
              "      <td>solteiro s emocaopositiva</td>\n",
              "      <td>1</td>\n",
              "    </tr>\n",
              "    <tr>\n",
              "      <th>8</th>\n",
              "      <td>lindeza cortador kit mário coleção bia cravol ...</td>\n",
              "      <td>1</td>\n",
              "    </tr>\n",
              "    <tr>\n",
              "      <th>9</th>\n",
              "      <td>claro emocaopositiva</td>\n",
              "      <td>1</td>\n",
              "    </tr>\n",
              "  </tbody>\n",
              "</table>\n",
              "</div>\n",
              "      <button class=\"colab-df-convert\" onclick=\"convertToInteractive('df-1d378949-6113-45f5-8601-a9e0d27fd044')\"\n",
              "              title=\"Convert this dataframe to an interactive table.\"\n",
              "              style=\"display:none;\">\n",
              "        \n",
              "  <svg xmlns=\"http://www.w3.org/2000/svg\" height=\"24px\"viewBox=\"0 0 24 24\"\n",
              "       width=\"24px\">\n",
              "    <path d=\"M0 0h24v24H0V0z\" fill=\"none\"/>\n",
              "    <path d=\"M18.56 5.44l.94 2.06.94-2.06 2.06-.94-2.06-.94-.94-2.06-.94 2.06-2.06.94zm-11 1L8.5 8.5l.94-2.06 2.06-.94-2.06-.94L8.5 2.5l-.94 2.06-2.06.94zm10 10l.94 2.06.94-2.06 2.06-.94-2.06-.94-.94-2.06-.94 2.06-2.06.94z\"/><path d=\"M17.41 7.96l-1.37-1.37c-.4-.4-.92-.59-1.43-.59-.52 0-1.04.2-1.43.59L10.3 9.45l-7.72 7.72c-.78.78-.78 2.05 0 2.83L4 21.41c.39.39.9.59 1.41.59.51 0 1.02-.2 1.41-.59l7.78-7.78 2.81-2.81c.8-.78.8-2.07 0-2.86zM5.41 20L4 18.59l7.72-7.72 1.47 1.35L5.41 20z\"/>\n",
              "  </svg>\n",
              "      </button>\n",
              "      \n",
              "  <style>\n",
              "    .colab-df-container {\n",
              "      display:flex;\n",
              "      flex-wrap:wrap;\n",
              "      gap: 12px;\n",
              "    }\n",
              "\n",
              "    .colab-df-convert {\n",
              "      background-color: #E8F0FE;\n",
              "      border: none;\n",
              "      border-radius: 50%;\n",
              "      cursor: pointer;\n",
              "      display: none;\n",
              "      fill: #1967D2;\n",
              "      height: 32px;\n",
              "      padding: 0 0 0 0;\n",
              "      width: 32px;\n",
              "    }\n",
              "\n",
              "    .colab-df-convert:hover {\n",
              "      background-color: #E2EBFA;\n",
              "      box-shadow: 0px 1px 2px rgba(60, 64, 67, 0.3), 0px 1px 3px 1px rgba(60, 64, 67, 0.15);\n",
              "      fill: #174EA6;\n",
              "    }\n",
              "\n",
              "    [theme=dark] .colab-df-convert {\n",
              "      background-color: #3B4455;\n",
              "      fill: #D2E3FC;\n",
              "    }\n",
              "\n",
              "    [theme=dark] .colab-df-convert:hover {\n",
              "      background-color: #434B5C;\n",
              "      box-shadow: 0px 1px 3px 1px rgba(0, 0, 0, 0.15);\n",
              "      filter: drop-shadow(0px 1px 2px rgba(0, 0, 0, 0.3));\n",
              "      fill: #FFFFFF;\n",
              "    }\n",
              "  </style>\n",
              "\n",
              "      <script>\n",
              "        const buttonEl =\n",
              "          document.querySelector('#df-1d378949-6113-45f5-8601-a9e0d27fd044 button.colab-df-convert');\n",
              "        buttonEl.style.display =\n",
              "          google.colab.kernel.accessAllowed ? 'block' : 'none';\n",
              "\n",
              "        async function convertToInteractive(key) {\n",
              "          const element = document.querySelector('#df-1d378949-6113-45f5-8601-a9e0d27fd044');\n",
              "          const dataTable =\n",
              "            await google.colab.kernel.invokeFunction('convertToInteractive',\n",
              "                                                     [key], {});\n",
              "          if (!dataTable) return;\n",
              "\n",
              "          const docLinkHtml = 'Like what you see? Visit the ' +\n",
              "            '<a target=\"_blank\" href=https://colab.research.google.com/notebooks/data_table.ipynb>data table notebook</a>'\n",
              "            + ' to learn more about interactive tables.';\n",
              "          element.innerHTML = '';\n",
              "          dataTable['output_type'] = 'display_data';\n",
              "          await google.colab.output.renderOutput(dataTable, element);\n",
              "          const docLink = document.createElement('div');\n",
              "          docLink.innerHTML = docLinkHtml;\n",
              "          element.appendChild(docLink);\n",
              "        }\n",
              "      </script>\n",
              "    </div>\n",
              "  </div>\n",
              "  "
            ]
          },
          "metadata": {},
          "execution_count": 34
        }
      ]
    },
    {
      "cell_type": "markdown",
      "metadata": {
        "id": "trA39YO4PcFp"
      },
      "source": [
        "### Tratamento da classe"
      ]
    },
    {
      "cell_type": "code",
      "metadata": {
        "id": "SPPY0MlIYoTR"
      },
      "source": [
        "exemplo_base_dados = [[\"este trabalho é agradável\", {\"POSITIVO\": True, \"NEGATIVO\": False}],\n",
        "                      [\"este lugar continua assustador\", {\"POSITIVO\": False, \"NEGATIVO\": True}]]"
      ],
      "execution_count": null,
      "outputs": []
    },
    {
      "cell_type": "code",
      "metadata": {
        "id": "TH31QeqEyrub"
      },
      "source": [
        "base_dados_treinamento_final = []\n",
        "for texto, emocao in zip(base_treinamento['tweet_text'], base_treinamento['sentiment']):\n",
        "  if emocao == 1:\n",
        "    dic = ({'POSITIVO': True, 'NEGATIVO': False})\n",
        "  elif emocao == 0:\n",
        "    dic = ({'POSITIVO': False, 'NEGATIVO': True})\n",
        "\n",
        "  base_dados_treinamento_final.append([texto, dic.copy()])"
      ],
      "execution_count": null,
      "outputs": []
    },
    {
      "cell_type": "code",
      "metadata": {
        "id": "kwFKyNZM2TFj",
        "colab": {
          "base_uri": "https://localhost:8080/"
        },
        "outputId": "b3b59285-13e8-4a2c-989c-f8eed9dcda45"
      },
      "source": [
        "len(base_dados_treinamento_final)"
      ],
      "execution_count": null,
      "outputs": [
        {
          "output_type": "execute_result",
          "data": {
            "text/plain": [
              "50000"
            ]
          },
          "metadata": {},
          "execution_count": 37
        }
      ]
    },
    {
      "cell_type": "code",
      "metadata": {
        "id": "_3D9UkMI2W60",
        "colab": {
          "base_uri": "https://localhost:8080/"
        },
        "outputId": "6321c96e-8fdc-4047-e59c-b24fd6fffbe7"
      },
      "source": [
        "base_dados_treinamento_final[10:15]"
      ],
      "execution_count": null,
      "outputs": [
        {
          "output_type": "execute_result",
          "data": {
            "text/plain": [
              "[['simplesmente o deixar chatear querer muitooo e iludir emocaopositiva',\n",
              "  {'POSITIVO': True, 'NEGATIVO': False}],\n",
              " ['o comedir umar rotina e perfeitamente parir consolidar o escola condução :p',\n",
              "  {'POSITIVO': True, 'NEGATIVO': False}],\n",
              " ['amigar parecer apaixonar vc — recíproco emocaopositiva',\n",
              "  {'POSITIVO': True, 'NEGATIVO': False}],\n",
              " ['  gajar bacano aleijar esperar e o silvar feliz emocaopositiva',\n",
              "  {'POSITIVO': True, 'NEGATIVO': False}],\n",
              " ['tou o video cabra bebé emocaopositiva',\n",
              "  {'POSITIVO': True, 'NEGATIVO': False}]]"
            ]
          },
          "metadata": {},
          "execution_count": 38
        }
      ]
    },
    {
      "cell_type": "code",
      "metadata": {
        "id": "E8C-_9AB2fEM",
        "colab": {
          "base_uri": "https://localhost:8080/"
        },
        "outputId": "520179cc-b405-45f0-d3a3-5e838ceffa04"
      },
      "source": [
        "base_dados_treinamento_final[45000:45005]"
      ],
      "execution_count": null,
      "outputs": [
        {
          "output_type": "execute_result",
          "data": {
            "text/plain": [
              "[['o menino pijama listrar o filmar triste mundo estruturar nenhum pra assistir rever e to pensar n emocaonegativa',\n",
              "  {'POSITIVO': False, 'NEGATIVO': True}],\n",
              " ['pra o vídeo luísa raiz o poliana infelizmente o twitter tá ruim amanhã postar emocaonegativa asaventurasdepoliana099',\n",
              "  {'POSITIVO': False, 'NEGATIVO': True}],\n",
              " ['to crise abstinência strangers emocaonegativa — tbm :/ to',\n",
              "  {'POSITIVO': False, 'NEGATIVO': True}],\n",
              " ['  esquecer olhar pra pagar o mensalidade turma pro cursar querer emocaonegativa',\n",
              "  {'POSITIVO': False, 'NEGATIVO': True}],\n",
              " ['querer comer doce comer montar hoje emocaonegativa maldição',\n",
              "  {'POSITIVO': False, 'NEGATIVO': True}]]"
            ]
          },
          "metadata": {},
          "execution_count": 39
        }
      ]
    },
    {
      "cell_type": "markdown",
      "metadata": {
        "id": "5mc19ZByUNsu"
      },
      "source": [
        "# Etapa 5: Criação do classificador"
      ]
    },
    {
      "cell_type": "code",
      "metadata": {
        "id": "YnZ1orji7Iv8"
      },
      "source": [
        "modelo = spacy.blank('pt')\n",
        "categorias = modelo.create_pipe(\"textcat\")\n",
        "categorias.add_label(\"POSITIVO\")\n",
        "categorias.add_label(\"NEGATIVO\")\n",
        "modelo.add_pipe(categorias)\n",
        "historico = []"
      ],
      "execution_count": null,
      "outputs": []
    },
    {
      "cell_type": "code",
      "metadata": {
        "id": "3jlGvLEz764Y",
        "colab": {
          "base_uri": "https://localhost:8080/"
        },
        "outputId": "b6c40404-412d-447a-eaa1-a0411b4bdb98"
      },
      "source": [
        "modelo.begin_training()\n",
        "for epoca in range(20):\n",
        "  random.shuffle(base_dados_treinamento_final)\n",
        "  losses = {}\n",
        "  for batch in spacy.util.minibatch(base_dados_treinamento_final, 512):\n",
        "    textos = [modelo(texto) for texto, entities in batch]\n",
        "    annotations = [{'cats': entities} for texto, entities in batch]\n",
        "    modelo.update(textos, annotations, losses=losses)\n",
        "    historico.append(losses)\n",
        "  if epoca % 5 == 0:\n",
        "    print(losses)"
      ],
      "execution_count": null,
      "outputs": [
        {
          "output_type": "stream",
          "name": "stdout",
          "text": [
            "{'textcat': 9.71105674945072e-05}\n",
            "{'textcat': 2.1756565186242804e-07}\n",
            "{'textcat': 1.6183073395757697e-07}\n",
            "{'textcat': 1.4771382679523715e-07}\n"
          ]
        }
      ]
    },
    {
      "cell_type": "code",
      "metadata": {
        "id": "wSe-tDsCAciN"
      },
      "source": [
        "historico_loss = []\n",
        "for i in historico:\n",
        "  historico_loss.append(i.get('textcat'))"
      ],
      "execution_count": null,
      "outputs": []
    },
    {
      "cell_type": "code",
      "metadata": {
        "id": "ShJhtbYtAr50",
        "colab": {
          "base_uri": "https://localhost:8080/"
        },
        "outputId": "e624bbce-7963-48f5-a65c-433cf447ef19"
      },
      "source": [
        "historico_loss = np.array(historico_loss)\n",
        "historico_loss"
      ],
      "execution_count": null,
      "outputs": [
        {
          "output_type": "execute_result",
          "data": {
            "text/plain": [
              "array([9.71105675e-05, 9.71105675e-05, 9.71105675e-05, ...,\n",
              "       1.32724157e-07, 1.32724157e-07, 1.32724157e-07])"
            ]
          },
          "metadata": {},
          "execution_count": 43
        }
      ]
    },
    {
      "cell_type": "code",
      "metadata": {
        "id": "6lEL-QoBA0KI",
        "colab": {
          "base_uri": "https://localhost:8080/",
          "height": 312
        },
        "outputId": "c937a750-965c-4a5b-e42a-fee57c0d4783"
      },
      "source": [
        "import matplotlib.pyplot as plt\n",
        "plt.plot(historico_loss)\n",
        "plt.title('Progressão do erro')\n",
        "plt.xlabel('Batches')\n",
        "plt.ylabel('Erro')"
      ],
      "execution_count": null,
      "outputs": [
        {
          "output_type": "execute_result",
          "data": {
            "text/plain": [
              "Text(0, 0.5, 'Erro')"
            ]
          },
          "metadata": {},
          "execution_count": 44
        },
        {
          "output_type": "display_data",
          "data": {
            "text/plain": [
              "<Figure size 432x288 with 1 Axes>"
            ],
            "image/png": "[encoded data removed]"
          },
          "metadata": {
            "needs_background": "light"
          }
        }
      ]
    },
    {
      "cell_type": "code",
      "metadata": {
        "id": "amNE8xy_BPSF"
      },
      "source": [
        "modelo.to_disk(\"modelo\")"
      ],
      "execution_count": null,
      "outputs": []
    },
    {
      "cell_type": "markdown",
      "metadata": {
        "id": "ePMk8G0Dl6wg"
      },
      "source": [
        "# Etapa 6: Testes com uma frase"
      ]
    },
    {
      "cell_type": "code",
      "metadata": {
        "id": "W-7DO-DoAyPU",
        "colab": {
          "base_uri": "https://localhost:8080/"
        },
        "outputId": "60abe8f8-9f09-4bbc-dc64-44a964748c92"
      },
      "source": [
        "modelo_carregado = spacy.load('modelo')\n",
        "modelo_carregado"
      ],
      "execution_count": null,
      "outputs": [
        {
          "output_type": "execute_result",
          "data": {
            "text/plain": [
              "<spacy.lang.pt.Portuguese at 0x7f0f73085c50>"
            ]
          },
          "metadata": {},
          "execution_count": 46
        }
      ]
    },
    {
      "cell_type": "markdown",
      "metadata": {
        "id": "RZxpVOP4wJT9"
      },
      "source": [
        "## Texto positivo"
      ]
    },
    {
      "cell_type": "code",
      "metadata": {
        "id": "fGB9HS7BBEK2",
        "colab": {
          "base_uri": "https://localhost:8080/"
        },
        "outputId": "8a491b96-9203-4f3c-f4d7-ca7c0a3d61ad"
      },
      "source": [
        "texto_positivo = base_teste['tweet_text'][21]\n",
        "texto_positivo"
      ],
      "execution_count": null,
      "outputs": [
        {
          "output_type": "execute_result",
          "data": {
            "text/plain": [
              "'  ficar feliz q recíproco emocaopositiva'"
            ],
            "application/vnd.google.colaboratory.intrinsic+json": {
              "type": "string"
            }
          },
          "metadata": {},
          "execution_count": 47
        }
      ]
    },
    {
      "cell_type": "code",
      "metadata": {
        "id": "NRJW5li7Bpij",
        "colab": {
          "base_uri": "https://localhost:8080/"
        },
        "outputId": "db4cb9b2-facf-48b0-dee4-9b30657362db"
      },
      "source": [
        "previsao = modelo_carregado(texto_positivo)\n",
        "previsao"
      ],
      "execution_count": null,
      "outputs": [
        {
          "output_type": "execute_result",
          "data": {
            "text/plain": [
              "  ficar feliz q recíproco emocaopositiva"
            ]
          },
          "metadata": {},
          "execution_count": 48
        }
      ]
    },
    {
      "cell_type": "code",
      "metadata": {
        "id": "_XtuIsoMBuz8",
        "colab": {
          "base_uri": "https://localhost:8080/"
        },
        "outputId": "a1a2e7aa-f125-43a8-ad14-4db237df1d36"
      },
      "source": [
        "previsao.cats"
      ],
      "execution_count": null,
      "outputs": [
        {
          "output_type": "execute_result",
          "data": {
            "text/plain": [
              "{'POSITIVO': 0.9994398951530457, 'NEGATIVO': 0.000394783157389611}"
            ]
          },
          "metadata": {},
          "execution_count": 49
        }
      ]
    },
    {
      "cell_type": "code",
      "metadata": {
        "id": "wKdZht7PB1cJ",
        "colab": {
          "base_uri": "https://localhost:8080/"
        },
        "outputId": "e6ef150c-6fb4-4913-d4b5-9e1664ca18a1"
      },
      "source": [
        "texto_positivo = 'eu gosto muito de você'\n",
        "texto_positivo = preprocessamento(texto_positivo)\n",
        "texto_positivo"
      ],
      "execution_count": null,
      "outputs": [
        {
          "output_type": "execute_result",
          "data": {
            "text/plain": [
              "'gostar'"
            ],
            "application/vnd.google.colaboratory.intrinsic+json": {
              "type": "string"
            }
          },
          "metadata": {},
          "execution_count": 50
        }
      ]
    },
    {
      "cell_type": "code",
      "metadata": {
        "id": "GFDF7coVCC4c",
        "colab": {
          "base_uri": "https://localhost:8080/"
        },
        "outputId": "521bb0c3-c7e0-491e-f64a-c36116d60f5c"
      },
      "source": [
        "modelo_carregado(texto_positivo).cats"
      ],
      "execution_count": null,
      "outputs": [
        {
          "output_type": "execute_result",
          "data": {
            "text/plain": [
              "{'POSITIVO': 0.6685715317726135, 'NEGATIVO': 0.08687078952789307}"
            ]
          },
          "metadata": {},
          "execution_count": 51
        }
      ]
    },
    {
      "cell_type": "markdown",
      "metadata": {
        "id": "eavhsiJ4weg6"
      },
      "source": [
        "## Texto negativo"
      ]
    },
    {
      "cell_type": "code",
      "metadata": {
        "id": "Luyzv_ZcCY9p",
        "colab": {
          "base_uri": "https://localhost:8080/"
        },
        "outputId": "7bea1d2f-d5bc-410c-eebe-e05f78b7b3de"
      },
      "source": [
        "base_teste['tweet_text'][4000]"
      ],
      "execution_count": null,
      "outputs": [
        {
          "output_type": "execute_result",
          "data": {
            "text/plain": [
              "'tô triste filmar mulan o mushu emocaonegativa'"
            ],
            "application/vnd.google.colaboratory.intrinsic+json": {
              "type": "string"
            }
          },
          "metadata": {},
          "execution_count": 52
        }
      ]
    },
    {
      "cell_type": "code",
      "metadata": {
        "id": "GgpAm0JFCggN",
        "colab": {
          "base_uri": "https://localhost:8080/"
        },
        "outputId": "696428a9-0b5d-4a06-ef0b-f83baecd487e"
      },
      "source": [
        "texto_negativo = base_teste['tweet_text'][4000]\n",
        "previsao = modelo_carregado(texto_negativo)\n",
        "previsao.cats"
      ],
      "execution_count": null,
      "outputs": [
        {
          "output_type": "execute_result",
          "data": {
            "text/plain": [
              "{'POSITIVO': 0.0007269387133419514, 'NEGATIVO': 0.9985792636871338}"
            ]
          },
          "metadata": {},
          "execution_count": 53
        }
      ]
    },
    {
      "cell_type": "markdown",
      "metadata": {
        "id": "KhF2vtEsnlpM"
      },
      "source": [
        "# Etapa 7: Avaliação do modelo"
      ]
    },
    {
      "cell_type": "markdown",
      "metadata": {
        "id": "sJzwpVWNACFi"
      },
      "source": [
        "## Avaliação na base de treinamento\n"
      ]
    },
    {
      "cell_type": "code",
      "metadata": {
        "id": "6NoTHRADDZ0Z"
      },
      "source": [
        "previsoes = []\n",
        "for texto in base_treinamento['tweet_text']:\n",
        "  previsao = modelo_carregado(texto)\n",
        "  previsoes.append(previsao.cats)"
      ],
      "execution_count": null,
      "outputs": []
    },
    {
      "cell_type": "code",
      "source": [
        "previsoes"
      ],
      "metadata": {
        "colab": {
          "base_uri": "https://localhost:8080/"
        },
        "id": "Y1DP-S45e9ED",
        "outputId": "e6c06ab4-a074-4792-8be5-2f0e6bec3cbf"
      },
      "execution_count": null,
      "outputs": [
        {
          "output_type": "execute_result",
          "data": {
            "text/plain": [
              "[{'POSITIVO': 0.9993320107460022, 'NEGATIVO': 0.0005987309850752354},\n",
              " {'POSITIVO': 0.9996298551559448, 'NEGATIVO': 0.00018541781173553318},\n",
              " {'POSITIVO': 0.9996886253356934, 'NEGATIVO': 0.00033759590587578714},\n",
              " {'POSITIVO': 0.9996922016143799, 'NEGATIVO': 0.0005254305433481932},\n",
              " {'POSITIVO': 0.9997338652610779, 'NEGATIVO': 0.00021747927530668676},\n",
              " {'POSITIVO': 0.9994124174118042, 'NEGATIVO': 0.00018430435738991946},\n",
              " {'POSITIVO': 0.998855471611023, 'NEGATIVO': 0.0012286525452509522},\n",
              " {'POSITIVO': 0.999550998210907, 'NEGATIVO': 0.00012156380398664623},\n",
              " {'POSITIVO': 0.9994434714317322, 'NEGATIVO': 0.0005190238007344306},\n",
              " {'POSITIVO': 0.9994365572929382, 'NEGATIVO': 0.0004190955660305917},\n",
              " {'POSITIVO': 0.9997610449790955, 'NEGATIVO': 0.00024164185742847621},\n",
              " {'POSITIVO': 0.9996286630630493, 'NEGATIVO': 0.00015086344501469284},\n",
              " {'POSITIVO': 0.999411940574646, 'NEGATIVO': 0.0003441198787186295},\n",
              " {'POSITIVO': 0.999627947807312, 'NEGATIVO': 0.00012196517491247505},\n",
              " {'POSITIVO': 0.9996888637542725, 'NEGATIVO': 0.0006397155812010169},\n",
              " {'POSITIVO': 0.9990359544754028, 'NEGATIVO': 0.0010469321860000491},\n",
              " {'POSITIVO': 0.9994989633560181, 'NEGATIVO': 0.0002399148215772584},\n",
              " {'POSITIVO': 0.9994331002235413, 'NEGATIVO': 0.00032942710095085204},\n",
              " {'POSITIVO': 0.9982776641845703, 'NEGATIVO': 0.0004729705397039652},\n",
              " {'POSITIVO': 0.9997238516807556, 'NEGATIVO': 0.00011416526831453666},\n",
              " {'POSITIVO': 0.9997907280921936, 'NEGATIVO': 0.0001068004421540536},\n",
              " {'POSITIVO': 0.9994083642959595, 'NEGATIVO': 0.0001877463946584612},\n",
              " {'POSITIVO': 0.9997757077217102, 'NEGATIVO': 0.00012988534581381828},\n",
              " {'POSITIVO': 0.9994077682495117, 'NEGATIVO': 0.00021558177832048386},\n",
              " {'POSITIVO': 0.999439537525177, 'NEGATIVO': 0.000259753898717463},\n",
              " {'POSITIVO': 0.9997171759605408, 'NEGATIVO': 0.00034995630267076194},\n",
              " {'POSITIVO': 0.9997888207435608, 'NEGATIVO': 0.0001136163918999955},\n",
              " {'POSITIVO': 0.9983606934547424, 'NEGATIVO': 0.001957685686647892},\n",
              " {'POSITIVO': 0.9995293617248535, 'NEGATIVO': 0.0005920375697314739},\n",
              " {'POSITIVO': 0.9989874958992004, 'NEGATIVO': 0.00015910733782220632},\n",
              " {'POSITIVO': 0.9995741248130798, 'NEGATIVO': 0.0004439146432559937},\n",
              " {'POSITIVO': 0.9992953538894653, 'NEGATIVO': 0.0011053422931581736},\n",
              " {'POSITIVO': 0.998747706413269, 'NEGATIVO': 0.0009669412975199521},\n",
              " {'POSITIVO': 0.9990849494934082, 'NEGATIVO': 0.0010527134872972965},\n",
              " {'POSITIVO': 0.9993351101875305, 'NEGATIVO': 0.0003575775772333145},\n",
              " {'POSITIVO': 0.9994161128997803, 'NEGATIVO': 0.0004513663297984749},\n",
              " {'POSITIVO': 0.9998041987419128, 'NEGATIVO': 0.00019354966934770346},\n",
              " {'POSITIVO': 0.9960779547691345, 'NEGATIVO': 0.003478111233562231},\n",
              " {'POSITIVO': 0.9994387030601501, 'NEGATIVO': 0.0005766433896496892},\n",
              " {'POSITIVO': 0.9961755275726318, 'NEGATIVO': 0.004959752317517996},\n",
              " {'POSITIVO': 0.9996674060821533, 'NEGATIVO': 0.0002875336795113981},\n",
              " {'POSITIVO': 0.9986892342567444, 'NEGATIVO': 0.00041819686884991825},\n",
              " {'POSITIVO': 0.9997722506523132, 'NEGATIVO': 0.0001235403324244544},\n",
              " {'POSITIVO': 0.999722421169281, 'NEGATIVO': 0.000250361452344805},\n",
              " {'POSITIVO': 0.9994340538978577, 'NEGATIVO': 0.00022023290512152016},\n",
              " {'POSITIVO': 0.9979819059371948, 'NEGATIVO': 0.0012528151273727417},\n",
              " {'POSITIVO': 0.9996987581253052, 'NEGATIVO': 0.00018850281776394695},\n",
              " {'POSITIVO': 0.9994239807128906, 'NEGATIVO': 0.00029584483127109706},\n",
              " {'POSITIVO': 0.9996553659439087, 'NEGATIVO': 0.0001759880397003144},\n",
              " {'POSITIVO': 0.9996646642684937, 'NEGATIVO': 0.0002783930394798517},\n",
              " {'POSITIVO': 0.9995429515838623, 'NEGATIVO': 0.000155084824655205},\n",
              " {'POSITIVO': 0.9993305206298828, 'NEGATIVO': 0.0008240619790740311},\n",
              " {'POSITIVO': 0.9997997879981995, 'NEGATIVO': 0.00016402616165578365},\n",
              " {'POSITIVO': 0.9963719844818115, 'NEGATIVO': 0.0037621634546667337},\n",
              " {'POSITIVO': 0.9995381832122803, 'NEGATIVO': 0.00046101861516945064},\n",
              " {'POSITIVO': 0.9996142387390137, 'NEGATIVO': 0.0007886089151725173},\n",
              " {'POSITIVO': 0.9997311234474182, 'NEGATIVO': 0.00015432834334205836},\n",
              " {'POSITIVO': 0.9996600151062012, 'NEGATIVO': 0.0004907607799395919},\n",
              " {'POSITIVO': 0.9996076226234436, 'NEGATIVO': 0.00018892332445830107},\n",
              " {'POSITIVO': 0.9997019171714783, 'NEGATIVO': 8.034019992919639e-05},\n",
              " {'POSITIVO': 0.9992469549179077, 'NEGATIVO': 0.0004105678235646337},\n",
              " {'POSITIVO': 0.999658465385437, 'NEGATIVO': 0.00035465857945382595},\n",
              " {'POSITIVO': 0.9820192456245422, 'NEGATIVO': 0.008752910420298576},\n",
              " {'POSITIVO': 0.9994449019432068, 'NEGATIVO': 0.000219019188079983},\n",
              " {'POSITIVO': 0.9939117431640625, 'NEGATIVO': 0.001970658078789711},\n",
              " {'POSITIVO': 0.9996383190155029, 'NEGATIVO': 0.0004197239177301526},\n",
              " {'POSITIVO': 0.9996535778045654, 'NEGATIVO': 0.00024264014791697264},\n",
              " {'POSITIVO': 0.9994059801101685, 'NEGATIVO': 0.0006981274927966297},\n",
              " {'POSITIVO': 0.9994951486587524, 'NEGATIVO': 0.00025137484772130847},\n",
              " {'POSITIVO': 0.9984211921691895, 'NEGATIVO': 0.002073029289022088},\n",
              " {'POSITIVO': 0.9998199343681335, 'NEGATIVO': 0.00011045191058656201},\n",
              " {'POSITIVO': 0.999498724937439, 'NEGATIVO': 0.00016832727123983204},\n",
              " {'POSITIVO': 0.9994990825653076, 'NEGATIVO': 0.0003043169272132218},\n",
              " {'POSITIVO': 0.9996469020843506, 'NEGATIVO': 9.808472532313317e-05},\n",
              " {'POSITIVO': 0.9995859265327454, 'NEGATIVO': 0.0002913278294727206},\n",
              " {'POSITIVO': 0.9820192456245422, 'NEGATIVO': 0.008752910420298576},\n",
              " {'POSITIVO': 0.9997676014900208, 'NEGATIVO': 0.0001557595533085987},\n",
              " {'POSITIVO': 0.9994514584541321, 'NEGATIVO': 0.0012293566251173615},\n",
              " {'POSITIVO': 0.9996174573898315, 'NEGATIVO': 0.00015764312411192805},\n",
              " {'POSITIVO': 0.9997264742851257, 'NEGATIVO': 0.0004892924334853888},\n",
              " {'POSITIVO': 0.998795747756958, 'NEGATIVO': 0.0008428434375673532},\n",
              " {'POSITIVO': 0.9967774748802185, 'NEGATIVO': 0.0016723728040233254},\n",
              " {'POSITIVO': 0.9997418522834778, 'NEGATIVO': 0.0002039099344983697},\n",
              " {'POSITIVO': 0.9995911717414856, 'NEGATIVO': 0.0004352028190623969},\n",
              " {'POSITIVO': 0.999262273311615, 'NEGATIVO': 0.0007905117236077785},\n",
              " {'POSITIVO': 0.9998084902763367, 'NEGATIVO': 0.00026334752328693867},\n",
              " {'POSITIVO': 0.9997772574424744, 'NEGATIVO': 0.0001652990176808089},\n",
              " {'POSITIVO': 0.9958819150924683, 'NEGATIVO': 0.0005713214632123709},\n",
              " {'POSITIVO': 0.9977297186851501, 'NEGATIVO': 0.0012914091348648071},\n",
              " {'POSITIVO': 0.9993155002593994, 'NEGATIVO': 0.00015641949721612036},\n",
              " {'POSITIVO': 0.9985857009887695, 'NEGATIVO': 0.0005911378539167345},\n",
              " {'POSITIVO': 0.999299168586731, 'NEGATIVO': 0.0003631406289059669},\n",
              " {'POSITIVO': 0.9986795783042908, 'NEGATIVO': 0.0008842152892611921},\n",
              " {'POSITIVO': 0.9994602799415588, 'NEGATIVO': 0.00029574104701168835},\n",
              " {'POSITIVO': 0.9996622800827026, 'NEGATIVO': 0.0004644625005312264},\n",
              " {'POSITIVO': 0.997757613658905, 'NEGATIVO': 0.0014156695688143373},\n",
              " {'POSITIVO': 0.9995802044868469, 'NEGATIVO': 0.0004679057456087321},\n",
              " {'POSITIVO': 0.9980522394180298, 'NEGATIVO': 0.0013793808175250888},\n",
              " {'POSITIVO': 0.9993869066238403, 'NEGATIVO': 0.00020184383902233094},\n",
              " {'POSITIVO': 0.9983677268028259, 'NEGATIVO': 0.0013881516642868519},\n",
              " {'POSITIVO': 0.9989439845085144, 'NEGATIVO': 0.0011825856054201722},\n",
              " {'POSITIVO': 0.9979098439216614, 'NEGATIVO': 0.0023859641514718533},\n",
              " {'POSITIVO': 0.9997915625572205, 'NEGATIVO': 0.00015457224799320102},\n",
              " {'POSITIVO': 0.999671459197998, 'NEGATIVO': 0.00027367626898922026},\n",
              " {'POSITIVO': 0.999774158000946, 'NEGATIVO': 0.00025111017748713493},\n",
              " {'POSITIVO': 0.9995300769805908, 'NEGATIVO': 0.0007686108001507819},\n",
              " {'POSITIVO': 0.9967929720878601, 'NEGATIVO': 0.002644044579938054},\n",
              " {'POSITIVO': 0.999505877494812, 'NEGATIVO': 0.00023522283299826086},\n",
              " {'POSITIVO': 0.9996715784072876, 'NEGATIVO': 0.00017932472110260278},\n",
              " {'POSITIVO': 0.9996980428695679, 'NEGATIVO': 0.00015450622595380992},\n",
              " {'POSITIVO': 0.9973690509796143, 'NEGATIVO': 0.0019518256885930896},\n",
              " {'POSITIVO': 0.9994396567344666, 'NEGATIVO': 0.00020272060646675527},\n",
              " {'POSITIVO': 0.9996659755706787, 'NEGATIVO': 0.00020815660536754876},\n",
              " {'POSITIVO': 0.9997889399528503, 'NEGATIVO': 0.0002676675212569535},\n",
              " {'POSITIVO': 0.9989301562309265, 'NEGATIVO': 0.003411848098039627},\n",
              " {'POSITIVO': 0.9972862005233765, 'NEGATIVO': 0.0015336564974859357},\n",
              " {'POSITIVO': 0.9990725517272949, 'NEGATIVO': 0.00027302629314363003},\n",
              " {'POSITIVO': 0.9993808269500732, 'NEGATIVO': 0.00021351139002945274},\n",
              " {'POSITIVO': 0.9991853833198547, 'NEGATIVO': 0.00047259486746042967},\n",
              " {'POSITIVO': 0.9994387030601501, 'NEGATIVO': 0.0004857944149989635},\n",
              " {'POSITIVO': 0.9994521737098694, 'NEGATIVO': 0.0005352935404516757},\n",
              " {'POSITIVO': 0.9992775321006775, 'NEGATIVO': 0.00011430677841417491},\n",
              " {'POSITIVO': 0.9997897744178772, 'NEGATIVO': 0.00010741897858679295},\n",
              " {'POSITIVO': 0.9988388419151306, 'NEGATIVO': 0.0011065645376220345},\n",
              " {'POSITIVO': 0.9626854658126831, 'NEGATIVO': 0.0020439005456864834},\n",
              " {'POSITIVO': 0.9995251893997192, 'NEGATIVO': 0.00022900395561009645},\n",
              " {'POSITIVO': 0.9998192191123962, 'NEGATIVO': 0.00011274244025116786},\n",
              " {'POSITIVO': 0.9994503855705261, 'NEGATIVO': 0.0005244668573141098},\n",
              " {'POSITIVO': 0.9977066516876221, 'NEGATIVO': 0.0010115948971360922},\n",
              " {'POSITIVO': 0.9993802309036255, 'NEGATIVO': 0.0002592079108580947},\n",
              " {'POSITIVO': 0.9996403455734253, 'NEGATIVO': 0.0001913493761094287},\n",
              " {'POSITIVO': 0.9997052550315857, 'NEGATIVO': 0.00023106012667994946},\n",
              " {'POSITIVO': 0.9990710020065308, 'NEGATIVO': 0.00027180559118278325},\n",
              " {'POSITIVO': 0.9997479319572449, 'NEGATIVO': 0.0001728521747281775},\n",
              " {'POSITIVO': 0.9993935823440552, 'NEGATIVO': 0.00041110493475571275},\n",
              " {'POSITIVO': 0.9995594620704651, 'NEGATIVO': 0.00034332784707657993},\n",
              " {'POSITIVO': 0.9995456337928772, 'NEGATIVO': 0.0002613677061162889},\n",
              " {'POSITIVO': 0.9975798726081848, 'NEGATIVO': 0.0021183171775192022},\n",
              " {'POSITIVO': 0.9996269941329956, 'NEGATIVO': 0.00026299571618437767},\n",
              " {'POSITIVO': 0.9996665716171265, 'NEGATIVO': 0.0002029285387834534},\n",
              " {'POSITIVO': 0.9996423721313477, 'NEGATIVO': 0.00014334567822515965},\n",
              " {'POSITIVO': 0.9993001222610474, 'NEGATIVO': 0.00026509352028369904},\n",
              " {'POSITIVO': 0.9995643496513367, 'NEGATIVO': 0.0002571039949543774},\n",
              " {'POSITIVO': 0.9994137287139893, 'NEGATIVO': 0.00027743939426727593},\n",
              " {'POSITIVO': 0.9995031356811523, 'NEGATIVO': 0.0002999335993081331},\n",
              " {'POSITIVO': 0.999060332775116, 'NEGATIVO': 0.0011977266985923052},\n",
              " {'POSITIVO': 0.9992542862892151, 'NEGATIVO': 0.0002734639565460384},\n",
              " {'POSITIVO': 0.9994521737098694, 'NEGATIVO': 0.0009434588137082756},\n",
              " {'POSITIVO': 0.9995707869529724, 'NEGATIVO': 0.00044901444925926626},\n",
              " {'POSITIVO': 0.9995377063751221, 'NEGATIVO': 0.00015222001820802689},\n",
              " {'POSITIVO': 0.997748076915741, 'NEGATIVO': 0.0005096638924442232},\n",
              " {'POSITIVO': 0.9821305871009827, 'NEGATIVO': 0.007418917492032051},\n",
              " {'POSITIVO': 0.9991900324821472, 'NEGATIVO': 0.0002396660711383447},\n",
              " {'POSITIVO': 0.999305009841919, 'NEGATIVO': 0.00018048931087832898},\n",
              " {'POSITIVO': 0.9994804263114929, 'NEGATIVO': 0.0002870770695153624},\n",
              " {'POSITIVO': 0.9997633099555969, 'NEGATIVO': 0.0001418312021996826},\n",
              " {'POSITIVO': 0.9976286292076111, 'NEGATIVO': 0.0003434950776863843},\n",
              " {'POSITIVO': 0.9987133741378784, 'NEGATIVO': 0.0007308204658329487},\n",
              " {'POSITIVO': 0.9901058077812195, 'NEGATIVO': 0.0027471333742141724},\n",
              " {'POSITIVO': 0.9995718598365784, 'NEGATIVO': 0.00016838134615682065},\n",
              " {'POSITIVO': 0.9997596144676208, 'NEGATIVO': 0.0004056934849359095},\n",
              " {'POSITIVO': 0.9979487061500549, 'NEGATIVO': 0.0011891424655914307},\n",
              " {'POSITIVO': 0.999583899974823, 'NEGATIVO': 0.00021687567641492933},\n",
              " {'POSITIVO': 0.9993815422058105, 'NEGATIVO': 0.00045009024324826896},\n",
              " {'POSITIVO': 0.9992031455039978, 'NEGATIVO': 0.0004196320951450616},\n",
              " {'POSITIVO': 0.9995902180671692, 'NEGATIVO': 6.891681550769135e-05},\n",
              " {'POSITIVO': 0.9966368675231934, 'NEGATIVO': 0.00045094313099980354},\n",
              " {'POSITIVO': 0.9988540410995483, 'NEGATIVO': 0.0005849654553458095},\n",
              " {'POSITIVO': 0.9993671774864197, 'NEGATIVO': 0.0006812597275711596},\n",
              " {'POSITIVO': 0.9985072016716003, 'NEGATIVO': 0.0015156182926148176},\n",
              " {'POSITIVO': 0.9997250437736511, 'NEGATIVO': 0.0003894828259944916},\n",
              " {'POSITIVO': 0.9993295669555664, 'NEGATIVO': 0.0002519759291317314},\n",
              " {'POSITIVO': 0.9991497993469238, 'NEGATIVO': 0.0004669152549467981},\n",
              " {'POSITIVO': 0.9962103366851807, 'NEGATIVO': 0.0025602569803595543},\n",
              " {'POSITIVO': 0.9988213181495667, 'NEGATIVO': 0.0002902410924434662},\n",
              " {'POSITIVO': 0.9993510842323303, 'NEGATIVO': 0.0003758824313990772},\n",
              " {'POSITIVO': 0.997936487197876, 'NEGATIVO': 0.00117137108463794},\n",
              " {'POSITIVO': 0.9990851879119873, 'NEGATIVO': 0.0004323095199652016},\n",
              " {'POSITIVO': 0.997702419757843, 'NEGATIVO': 0.0007703049923293293},\n",
              " {'POSITIVO': 0.9983035326004028, 'NEGATIVO': 0.000392354151699692},\n",
              " {'POSITIVO': 0.9995201826095581, 'NEGATIVO': 0.00028540825587697327},\n",
              " {'POSITIVO': 0.9996837377548218, 'NEGATIVO': 0.0005500238621607423},\n",
              " {'POSITIVO': 0.9989063739776611, 'NEGATIVO': 0.0005009524757042527},\n",
              " {'POSITIVO': 0.9994232654571533, 'NEGATIVO': 0.00034678480005823076},\n",
              " {'POSITIVO': 0.9997887015342712, 'NEGATIVO': 0.00018704113608691841},\n",
              " {'POSITIVO': 0.9992398023605347, 'NEGATIVO': 0.00020812763250432909},\n",
              " {'POSITIVO': 0.9974138140678406, 'NEGATIVO': 0.0006677929777652025},\n",
              " {'POSITIVO': 0.9990032315254211, 'NEGATIVO': 0.000479627720778808},\n",
              " {'POSITIVO': 0.9991998076438904, 'NEGATIVO': 0.0003919272276107222},\n",
              " {'POSITIVO': 0.9991788268089294, 'NEGATIVO': 0.0022825305350124836},\n",
              " {'POSITIVO': 0.9995576739311218, 'NEGATIVO': 0.00028905749786645174},\n",
              " {'POSITIVO': 0.9996985197067261, 'NEGATIVO': 0.0001139555752160959},\n",
              " {'POSITIVO': 0.9996943473815918, 'NEGATIVO': 0.00021759855735581368},\n",
              " {'POSITIVO': 0.9984683394432068, 'NEGATIVO': 0.0011068523162975907},\n",
              " {'POSITIVO': 0.9997898936271667, 'NEGATIVO': 0.00010736245167208835},\n",
              " {'POSITIVO': 0.9996592998504639, 'NEGATIVO': 0.0002256449224660173},\n",
              " {'POSITIVO': 0.9984132051467896, 'NEGATIVO': 0.0003755684883799404},\n",
              " {'POSITIVO': 0.9996103644371033, 'NEGATIVO': 0.00012913031969219446},\n",
              " {'POSITIVO': 0.9991864562034607, 'NEGATIVO': 0.0001738972932798788},\n",
              " {'POSITIVO': 0.9997060894966125, 'NEGATIVO': 0.00016113719902932644},\n",
              " {'POSITIVO': 0.9988609552383423, 'NEGATIVO': 0.0005137454136274755},\n",
              " {'POSITIVO': 0.9733855128288269, 'NEGATIVO': 0.009521487168967724},\n",
              " {'POSITIVO': 0.9997081160545349, 'NEGATIVO': 0.00015868328046053648},\n",
              " {'POSITIVO': 0.9972796440124512, 'NEGATIVO': 0.0023619807325303555},\n",
              " {'POSITIVO': 0.9995933175086975, 'NEGATIVO': 0.00027288057026453316},\n",
              " {'POSITIVO': 0.9997627139091492, 'NEGATIVO': 0.00010307174670742825},\n",
              " {'POSITIVO': 0.9995298385620117, 'NEGATIVO': 0.00042397913057357073},\n",
              " {'POSITIVO': 0.9994705319404602, 'NEGATIVO': 0.0002394977054791525},\n",
              " {'POSITIVO': 0.9992876648902893, 'NEGATIVO': 0.00024307453713845462},\n",
              " {'POSITIVO': 0.9996837377548218, 'NEGATIVO': 8.575963875046e-05},\n",
              " {'POSITIVO': 0.9986415505409241, 'NEGATIVO': 0.0002753266307990998},\n",
              " {'POSITIVO': 0.99872225522995, 'NEGATIVO': 0.0005400808295235038},\n",
              " {'POSITIVO': 0.9991305470466614, 'NEGATIVO': 0.00042924590525217354},\n",
              " {'POSITIVO': 0.9996083378791809, 'NEGATIVO': 0.0001454051525797695},\n",
              " {'POSITIVO': 0.999381422996521, 'NEGATIVO': 0.00018516571435611695},\n",
              " {'POSITIVO': 0.9996250867843628, 'NEGATIVO': 0.00020591233624145389},\n",
              " {'POSITIVO': 0.999075174331665, 'NEGATIVO': 0.00023366503592114896},\n",
              " {'POSITIVO': 0.9987812638282776, 'NEGATIVO': 0.0006074457196518779},\n",
              " {'POSITIVO': 0.9968184232711792, 'NEGATIVO': 0.0014402562519535422},\n",
              " {'POSITIVO': 0.997843861579895, 'NEGATIVO': 0.0010344627080485225},\n",
              " {'POSITIVO': 0.9994385838508606, 'NEGATIVO': 0.0002639885642565787},\n",
              " {'POSITIVO': 0.9991613626480103, 'NEGATIVO': 0.001186778419651091},\n",
              " {'POSITIVO': 0.9994829893112183, 'NEGATIVO': 0.0004882772918790579},\n",
              " {'POSITIVO': 0.9994816184043884, 'NEGATIVO': 0.00032890334841795266},\n",
              " {'POSITIVO': 0.9997639060020447, 'NEGATIVO': 0.00013607862638309598},\n",
              " {'POSITIVO': 0.9991931319236755, 'NEGATIVO': 0.0006670894217677414},\n",
              " {'POSITIVO': 0.99774169921875, 'NEGATIVO': 0.0014267389196902514},\n",
              " {'POSITIVO': 0.9965699911117554, 'NEGATIVO': 0.0010322133312001824},\n",
              " {'POSITIVO': 0.9994396567344666, 'NEGATIVO': 0.00019619031809270382},\n",
              " {'POSITIVO': 0.9992591738700867, 'NEGATIVO': 0.0002287673851242289},\n",
              " {'POSITIVO': 0.9994571805000305, 'NEGATIVO': 0.0003077771107200533},\n",
              " {'POSITIVO': 0.9993467926979065, 'NEGATIVO': 0.00044590499601326883},\n",
              " {'POSITIVO': 0.99979168176651, 'NEGATIVO': 0.0001917733025038615},\n",
              " {'POSITIVO': 0.9995267391204834, 'NEGATIVO': 0.00026289973175153136},\n",
              " {'POSITIVO': 0.9997726082801819, 'NEGATIVO': 0.00013713333464693278},\n",
              " {'POSITIVO': 0.9994101524353027, 'NEGATIVO': 0.0004387537483125925},\n",
              " {'POSITIVO': 0.9978412389755249, 'NEGATIVO': 0.0016059873159974813},\n",
              " {'POSITIVO': 0.9997170567512512, 'NEGATIVO': 0.0003425474278628826},\n",
              " {'POSITIVO': 0.999535083770752, 'NEGATIVO': 0.00012828581384383142},\n",
              " {'POSITIVO': 0.9994072914123535, 'NEGATIVO': 0.0018428005278110504},\n",
              " {'POSITIVO': 0.9988161325454712, 'NEGATIVO': 0.000510787358507514},\n",
              " {'POSITIVO': 0.9995644688606262, 'NEGATIVO': 0.0005730639095418155},\n",
              " {'POSITIVO': 0.9991840720176697, 'NEGATIVO': 0.0003639434289652854},\n",
              " {'POSITIVO': 0.9978148937225342, 'NEGATIVO': 0.0027756430208683014},\n",
              " {'POSITIVO': 0.9996076226234436, 'NEGATIVO': 0.00018892332445830107},\n",
              " {'POSITIVO': 0.9990110397338867, 'NEGATIVO': 0.0005563091253861785},\n",
              " {'POSITIVO': 0.9960558414459229, 'NEGATIVO': 0.0008652486139908433},\n",
              " {'POSITIVO': 0.9997186064720154, 'NEGATIVO': 0.00019038209575228393},\n",
              " {'POSITIVO': 0.9995488524436951, 'NEGATIVO': 0.00021094258408993483},\n",
              " {'POSITIVO': 0.9996123909950256, 'NEGATIVO': 0.0003239799407310784},\n",
              " {'POSITIVO': 0.9992421865463257, 'NEGATIVO': 0.00034012962714768946},\n",
              " {'POSITIVO': 0.9996676445007324, 'NEGATIVO': 0.00012726297427434474},\n",
              " {'POSITIVO': 0.9997666478157043, 'NEGATIVO': 0.00019972914014942944},\n",
              " {'POSITIVO': 0.9991139769554138, 'NEGATIVO': 0.0005044335266575217},\n",
              " {'POSITIVO': 0.9996297359466553, 'NEGATIVO': 0.00044082998647354543},\n",
              " {'POSITIVO': 0.9996076226234436, 'NEGATIVO': 0.00018892332445830107},\n",
              " {'POSITIVO': 0.9992257356643677, 'NEGATIVO': 0.00026579253608360887},\n",
              " {'POSITIVO': 0.9984567165374756, 'NEGATIVO': 0.0004327833012212068},\n",
              " {'POSITIVO': 0.9987733960151672, 'NEGATIVO': 0.00023968573077581823},\n",
              " {'POSITIVO': 0.9949642419815063, 'NEGATIVO': 0.005140430293977261},\n",
              " {'POSITIVO': 0.9992365837097168, 'NEGATIVO': 0.00041204915032722056},\n",
              " {'POSITIVO': 0.9998877048492432, 'NEGATIVO': 0.0002594457764644176},\n",
              " {'POSITIVO': 0.9984923601150513, 'NEGATIVO': 0.0003396474348846823},\n",
              " {'POSITIVO': 0.9967774748802185, 'NEGATIVO': 0.0016723728040233254},\n",
              " {'POSITIVO': 0.9991229176521301, 'NEGATIVO': 0.00044202100252732635},\n",
              " {'POSITIVO': 0.9996567964553833, 'NEGATIVO': 0.00015260688087437302},\n",
              " {'POSITIVO': 0.9997206330299377, 'NEGATIVO': 0.00015892719966359437},\n",
              " {'POSITIVO': 0.9992021918296814, 'NEGATIVO': 0.0004646377929020673},\n",
              " {'POSITIVO': 0.999305009841919, 'NEGATIVO': 0.000825755822006613},\n",
              " {'POSITIVO': 0.9994776844978333, 'NEGATIVO': 0.0006472264649346471},\n",
              " {'POSITIVO': 0.9990053772926331, 'NEGATIVO': 0.0012014552485197783},\n",
              " {'POSITIVO': 0.9992314577102661, 'NEGATIVO': 0.000135568217956461},\n",
              " {'POSITIVO': 0.9967774748802185, 'NEGATIVO': 0.0016723728040233254},\n",
              " {'POSITIVO': 0.999180257320404, 'NEGATIVO': 0.0014379647327587008},\n",
              " {'POSITIVO': 0.9992177486419678, 'NEGATIVO': 0.00041249458445236087},\n",
              " {'POSITIVO': 0.9960590600967407, 'NEGATIVO': 0.000863920955453068},\n",
              " {'POSITIVO': 0.9996116757392883, 'NEGATIVO': 0.00023275472631212324},\n",
              " {'POSITIVO': 0.9994924068450928, 'NEGATIVO': 0.00037598711787723005},\n",
              " {'POSITIVO': 0.9993487000465393, 'NEGATIVO': 0.0005365246324799955},\n",
              " {'POSITIVO': 0.9994773268699646, 'NEGATIVO': 0.00025690795155242085},\n",
              " {'POSITIVO': 0.9993389248847961, 'NEGATIVO': 0.0001582053955644369},\n",
              " {'POSITIVO': 0.9996525049209595, 'NEGATIVO': 0.0002178470604121685},\n",
              " {'POSITIVO': 0.9993054866790771, 'NEGATIVO': 0.00035367501550354064},\n",
              " {'POSITIVO': 0.9998664855957031, 'NEGATIVO': 0.00017589444178156555},\n",
              " {'POSITIVO': 0.9997554421424866, 'NEGATIVO': 0.00033232063287869096},\n",
              " {'POSITIVO': 0.9995667338371277, 'NEGATIVO': 0.00023510241589974612},\n",
              " {'POSITIVO': 0.9974918365478516, 'NEGATIVO': 0.0013512108707800508},\n",
              " {'POSITIVO': 0.9944090247154236, 'NEGATIVO': 0.006510669831186533},\n",
              " {'POSITIVO': 0.9997426867485046, 'NEGATIVO': 0.00023848963610362262},\n",
              " {'POSITIVO': 0.9994708895683289, 'NEGATIVO': 0.00025919039035215974},\n",
              " {'POSITIVO': 0.9994787573814392, 'NEGATIVO': 0.0003273875918239355},\n",
              " {'POSITIVO': 0.9994239807128906, 'NEGATIVO': 0.00029584483127109706},\n",
              " {'POSITIVO': 0.9997225403785706, 'NEGATIVO': 0.0002289314870722592},\n",
              " {'POSITIVO': 0.9996947050094604, 'NEGATIVO': 8.233636617660522e-05},\n",
              " {'POSITIVO': 0.9995775818824768, 'NEGATIVO': 0.00013172984472475946},\n",
              " {'POSITIVO': 0.9993019104003906, 'NEGATIVO': 0.0007219424587674439},\n",
              " {'POSITIVO': 0.9991815686225891, 'NEGATIVO': 0.0009532642434351146},\n",
              " {'POSITIVO': 0.9995218515396118, 'NEGATIVO': 0.00023108127061277628},\n",
              " {'POSITIVO': 0.9974527955055237, 'NEGATIVO': 0.0021043180022388697},\n",
              " {'POSITIVO': 0.9992566704750061, 'NEGATIVO': 0.00025728397304192185},\n",
              " {'POSITIVO': 0.9989784955978394, 'NEGATIVO': 0.0006945115746930242},\n",
              " {'POSITIVO': 0.9996354579925537, 'NEGATIVO': 0.0003482010215520859},\n",
              " {'POSITIVO': 0.9998111128807068, 'NEGATIVO': 0.0001914335007313639},\n",
              " {'POSITIVO': 0.9997954964637756, 'NEGATIVO': 0.00010315296822227538},\n",
              " {'POSITIVO': 0.9993377327919006, 'NEGATIVO': 0.0004123970866203308},\n",
              " {'POSITIVO': 0.999647855758667, 'NEGATIVO': 0.00044822884956374764},\n",
              " {'POSITIVO': 0.9994239807128906, 'NEGATIVO': 0.00029584483127109706},\n",
              " {'POSITIVO': 0.9967774748802185, 'NEGATIVO': 0.0016723728040233254},\n",
              " {'POSITIVO': 0.9991098046302795, 'NEGATIVO': 0.0006005536415614188},\n",
              " {'POSITIVO': 0.9987603425979614, 'NEGATIVO': 0.0007957803318277001},\n",
              " {'POSITIVO': 0.9996970891952515, 'NEGATIVO': 0.0001221944112330675},\n",
              " {'POSITIVO': 0.9996289014816284, 'NEGATIVO': 0.00020450633019208908},\n",
              " {'POSITIVO': 0.9987022876739502, 'NEGATIVO': 0.0008722079801373184},\n",
              " {'POSITIVO': 0.9989904761314392, 'NEGATIVO': 0.00019351718947291374},\n",
              " {'POSITIVO': 0.9992929697036743, 'NEGATIVO': 0.00044028216507285833},\n",
              " {'POSITIVO': 0.9993575215339661, 'NEGATIVO': 0.000501475587952882},\n",
              " {'POSITIVO': 0.9996662139892578, 'NEGATIVO': 0.00021613047283608466},\n",
              " {'POSITIVO': 0.9987608194351196, 'NEGATIVO': 0.0008311139536090195},\n",
              " {'POSITIVO': 0.9996104836463928, 'NEGATIVO': 0.00024488757480867207},\n",
              " {'POSITIVO': 0.9996002316474915, 'NEGATIVO': 0.00010428718815091997},\n",
              " {'POSITIVO': 0.9976689219474792, 'NEGATIVO': 0.0005327515536919236},\n",
              " {'POSITIVO': 0.9993745684623718, 'NEGATIVO': 0.0010336943669244647},\n",
              " {'POSITIVO': 0.9997881054878235, 'NEGATIVO': 0.00011209453077754006},\n",
              " {'POSITIVO': 0.9994943141937256, 'NEGATIVO': 0.0004172662738710642},\n",
              " {'POSITIVO': 0.9988324046134949, 'NEGATIVO': 0.0007801384781487286},\n",
              " {'POSITIVO': 0.9995065927505493, 'NEGATIVO': 0.0002998363634105772},\n",
              " {'POSITIVO': 0.9996775388717651, 'NEGATIVO': 0.0004423742648214102},\n",
              " {'POSITIVO': 0.9998378753662109, 'NEGATIVO': 0.00023809679260011762},\n",
              " {'POSITIVO': 0.9997926354408264, 'NEGATIVO': 0.00011526976595632732},\n",
              " {'POSITIVO': 0.9959803819656372, 'NEGATIVO': 0.0016857350710779428},\n",
              " {'POSITIVO': 0.99969482421875, 'NEGATIVO': 0.0003457479178905487},\n",
              " {'POSITIVO': 0.9994696974754333, 'NEGATIVO': 0.0005057404050603509},\n",
              " {'POSITIVO': 0.9996960163116455, 'NEGATIVO': 0.0002960544952657074},\n",
              " {'POSITIVO': 0.9992996454238892, 'NEGATIVO': 0.0003973801212850958},\n",
              " {'POSITIVO': 0.9992924928665161, 'NEGATIVO': 0.0010902838548645377},\n",
              " {'POSITIVO': 0.9996868371963501, 'NEGATIVO': 0.00016997901548165828},\n",
              " {'POSITIVO': 0.9994331002235413, 'NEGATIVO': 0.00025427129003219306},\n",
              " {'POSITIVO': 0.9995169639587402, 'NEGATIVO': 0.0007390723330900073},\n",
              " {'POSITIVO': 0.9993785619735718, 'NEGATIVO': 0.0004046543035656214},\n",
              " {'POSITIVO': 0.9980134963989258, 'NEGATIVO': 0.00025924298097379506},\n",
              " {'POSITIVO': 0.9996652603149414, 'NEGATIVO': 0.00013950577704235911},\n",
              " {'POSITIVO': 0.9996227025985718, 'NEGATIVO': 0.00023897012579254806},\n",
              " {'POSITIVO': 0.9997722506523132, 'NEGATIVO': 0.00022582741803489625},\n",
              " {'POSITIVO': 0.99959796667099, 'NEGATIVO': 0.0010189517633989453},\n",
              " {'POSITIVO': 0.9993294477462769, 'NEGATIVO': 0.0003729520249180496},\n",
              " {'POSITIVO': 0.9995513558387756, 'NEGATIVO': 0.00028190555167384446},\n",
              " {'POSITIVO': 0.9995778203010559, 'NEGATIVO': 0.00024040391144808382},\n",
              " {'POSITIVO': 0.9997537732124329, 'NEGATIVO': 9.7427808213979e-05},\n",
              " {'POSITIVO': 0.9996564388275146, 'NEGATIVO': 0.0002659727761056274},\n",
              " {'POSITIVO': 0.9995567202568054, 'NEGATIVO': 0.000509626988787204},\n",
              " {'POSITIVO': 0.9993818998336792, 'NEGATIVO': 0.00029869884019717574},\n",
              " {'POSITIVO': 0.999442994594574, 'NEGATIVO': 0.00011989488120889291},\n",
              " {'POSITIVO': 0.9995989203453064, 'NEGATIVO': 0.0005498052923940122},\n",
              " {'POSITIVO': 0.9994200468063354, 'NEGATIVO': 0.0004281092551536858},\n",
              " {'POSITIVO': 0.9995478987693787, 'NEGATIVO': 0.0005678577581420541},\n",
              " {'POSITIVO': 0.9762954711914062, 'NEGATIVO': 0.01710428111255169},\n",
              " {'POSITIVO': 0.9995512366294861, 'NEGATIVO': 0.00034363908343948424},\n",
              " {'POSITIVO': 0.9990012049674988, 'NEGATIVO': 0.00045958574628457427},\n",
              " {'POSITIVO': 0.9945839047431946, 'NEGATIVO': 0.005512754898518324},\n",
              " {'POSITIVO': 0.9936668276786804, 'NEGATIVO': 0.0009236323530785739},\n",
              " {'POSITIVO': 0.9993981122970581, 'NEGATIVO': 0.0002576546394266188},\n",
              " {'POSITIVO': 0.9996975660324097, 'NEGATIVO': 0.00023565000446978956},\n",
              " {'POSITIVO': 0.9992218017578125, 'NEGATIVO': 0.00041601574048399925},\n",
              " {'POSITIVO': 0.9994264841079712, 'NEGATIVO': 0.0005255693104118109},\n",
              " {'POSITIVO': 0.9991137385368347, 'NEGATIVO': 0.0003750230825971812},\n",
              " {'POSITIVO': 0.9995985627174377, 'NEGATIVO': 0.000461157294921577},\n",
              " {'POSITIVO': 0.9992497563362122, 'NEGATIVO': 0.00038385033258236945},\n",
              " {'POSITIVO': 0.9996722936630249, 'NEGATIVO': 0.0003742095723282546},\n",
              " {'POSITIVO': 0.9993104934692383, 'NEGATIVO': 0.00033545406768098474},\n",
              " {'POSITIVO': 0.9996811151504517, 'NEGATIVO': 0.0003196573525201529},\n",
              " {'POSITIVO': 0.9989759922027588, 'NEGATIVO': 0.0002814412582665682},\n",
              " {'POSITIVO': 0.9998821020126343, 'NEGATIVO': 8.90963856363669e-05},\n",
              " {'POSITIVO': 0.9837206602096558, 'NEGATIVO': 0.007941794581711292},\n",
              " {'POSITIVO': 0.9997898936271667, 'NEGATIVO': 0.00010736245167208835},\n",
              " {'POSITIVO': 0.9988435506820679, 'NEGATIVO': 0.0004465336387511343},\n",
              " {'POSITIVO': 0.9995152950286865, 'NEGATIVO': 0.0004041274660266936},\n",
              " {'POSITIVO': 0.9988641738891602, 'NEGATIVO': 0.0005493772914633155},\n",
              " {'POSITIVO': 0.9995569586753845, 'NEGATIVO': 0.0003362720017321408},\n",
              " {'POSITIVO': 0.9997939467430115, 'NEGATIVO': 0.00014793689479120076},\n",
              " {'POSITIVO': 0.9996750354766846, 'NEGATIVO': 0.00027666176902130246},\n",
              " {'POSITIVO': 0.9997648596763611, 'NEGATIVO': 0.0003499032754916698},\n",
              " {'POSITIVO': 0.9996346235275269, 'NEGATIVO': 0.0007355955895036459},\n",
              " {'POSITIVO': 0.9997742772102356, 'NEGATIVO': 0.00021364662097766995},\n",
              " {'POSITIVO': 0.9997966885566711, 'NEGATIVO': 0.00011816806363640353},\n",
              " {'POSITIVO': 0.9995331764221191, 'NEGATIVO': 0.0004570263554342091},\n",
              " {'POSITIVO': 0.9994174242019653, 'NEGATIVO': 0.00024494266835972667},\n",
              " {'POSITIVO': 0.9996294975280762, 'NEGATIVO': 0.0003287525614723563},\n",
              " {'POSITIVO': 0.9967774748802185, 'NEGATIVO': 0.0016723728040233254},\n",
              " {'POSITIVO': 0.9993624091148376, 'NEGATIVO': 0.00014999264385551214},\n",
              " {'POSITIVO': 0.9967774748802185, 'NEGATIVO': 0.0016723728040233254},\n",
              " {'POSITIVO': 0.9994989633560181, 'NEGATIVO': 0.0005584011669270694},\n",
              " {'POSITIVO': 0.9975950121879578, 'NEGATIVO': 0.00219189771451056},\n",
              " {'POSITIVO': 0.9995766282081604, 'NEGATIVO': 0.0001227731117978692},\n",
              " {'POSITIVO': 0.9993475079536438, 'NEGATIVO': 0.0005271700792945921},\n",
              " {'POSITIVO': 0.9993792772293091, 'NEGATIVO': 0.000594812969211489},\n",
              " {'POSITIVO': 0.9995694756507874, 'NEGATIVO': 0.0002763009106274694},\n",
              " {'POSITIVO': 0.9996935129165649, 'NEGATIVO': 0.00033369241282343864},\n",
              " {'POSITIVO': 0.9993894100189209, 'NEGATIVO': 0.0005798457423225045},\n",
              " {'POSITIVO': 0.9983205199241638, 'NEGATIVO': 0.0006376371020451188},\n",
              " {'POSITIVO': 0.9996926784515381, 'NEGATIVO': 0.00023545931617263705},\n",
              " {'POSITIVO': 0.9993786811828613, 'NEGATIVO': 0.0003687095013447106},\n",
              " {'POSITIVO': 0.9995918869972229, 'NEGATIVO': 0.00046228792052716017},\n",
              " {'POSITIVO': 0.9992690682411194, 'NEGATIVO': 0.0002019687817664817},\n",
              " {'POSITIVO': 0.9991439580917358, 'NEGATIVO': 0.00029163435101509094},\n",
              " {'POSITIVO': 0.9996321201324463, 'NEGATIVO': 0.000253617821726948},\n",
              " {'POSITIVO': 0.9979081153869629, 'NEGATIVO': 0.0005879788659512997},\n",
              " {'POSITIVO': 0.9943448305130005, 'NEGATIVO': 0.007233691401779652},\n",
              " {'POSITIVO': 0.999645471572876, 'NEGATIVO': 0.0005549837951548398},\n",
              " {'POSITIVO': 0.9994621872901917, 'NEGATIVO': 0.0001425924856448546},\n",
              " {'POSITIVO': 0.9985466599464417, 'NEGATIVO': 0.0005145928007550538},\n",
              " {'POSITIVO': 0.9967774748802185, 'NEGATIVO': 0.0016723728040233254},\n",
              " {'POSITIVO': 0.9991776347160339, 'NEGATIVO': 0.0002961250429507345},\n",
              " {'POSITIVO': 0.9994551539421082, 'NEGATIVO': 0.0002719564363360405},\n",
              " {'POSITIVO': 0.9995591044425964, 'NEGATIVO': 0.00017051682516466826},\n",
              " {'POSITIVO': 0.9995118379592896, 'NEGATIVO': 0.00027209726977162063},\n",
              " {'POSITIVO': 0.9998482465744019, 'NEGATIVO': 0.00039716373430565},\n",
              " {'POSITIVO': 0.9992142915725708, 'NEGATIVO': 0.00022082879149820656},\n",
              " {'POSITIVO': 0.9995306730270386, 'NEGATIVO': 0.0001289736683247611},\n",
              " {'POSITIVO': 0.9992161989212036, 'NEGATIVO': 0.0004062205262016505},\n",
              " {'POSITIVO': 0.9984205961227417, 'NEGATIVO': 0.0017615946708247066},\n",
              " {'POSITIVO': 0.9967615008354187, 'NEGATIVO': 0.0021983343176543713},\n",
              " {'POSITIVO': 0.9992185831069946, 'NEGATIVO': 0.0004042590444441885},\n",
              " {'POSITIVO': 0.9997109770774841, 'NEGATIVO': 0.0002457225346006453},\n",
              " {'POSITIVO': 0.9988945126533508, 'NEGATIVO': 0.00023303405032493174},\n",
              " {'POSITIVO': 0.9993031024932861, 'NEGATIVO': 0.00013793067773804069},\n",
              " {'POSITIVO': 0.9997144341468811, 'NEGATIVO': 0.00030233050347305834},\n",
              " {'POSITIVO': 0.999764621257782, 'NEGATIVO': 0.00016760607832111418},\n",
              " {'POSITIVO': 0.9996793270111084, 'NEGATIVO': 0.0003424354363232851},\n",
              " {'POSITIVO': 0.9991451501846313, 'NEGATIVO': 0.00035715987905859947},\n",
              " {'POSITIVO': 0.9997726082801819, 'NEGATIVO': 0.00022731261560693383},\n",
              " {'POSITIVO': 0.9989354014396667, 'NEGATIVO': 0.0003438227577134967},\n",
              " {'POSITIVO': 0.999427080154419, 'NEGATIVO': 0.0010561947710812092},\n",
              " {'POSITIVO': 0.9986016154289246, 'NEGATIVO': 0.0008159905555658042},\n",
              " {'POSITIVO': 0.9994977712631226, 'NEGATIVO': 0.000453151180408895},\n",
              " {'POSITIVO': 0.99913090467453, 'NEGATIVO': 0.0004200100665912032},\n",
              " {'POSITIVO': 0.9993906021118164, 'NEGATIVO': 0.0003110790567006916},\n",
              " {'POSITIVO': 0.9997947812080383, 'NEGATIVO': 0.00018413749057799578},\n",
              " {'POSITIVO': 0.9988538026809692, 'NEGATIVO': 0.0004528707067947835},\n",
              " {'POSITIVO': 0.9995970129966736, 'NEGATIVO': 0.00016028776008170098},\n",
              " {'POSITIVO': 0.9989714622497559, 'NEGATIVO': 0.0006245452677831054},\n",
              " {'POSITIVO': 0.9997898936271667, 'NEGATIVO': 0.00010736245167208835},\n",
              " {'POSITIVO': 0.9993465542793274, 'NEGATIVO': 0.0001922605006257072},\n",
              " {'POSITIVO': 0.9994940757751465, 'NEGATIVO': 0.0003278033109381795},\n",
              " {'POSITIVO': 0.9993695616722107, 'NEGATIVO': 0.000208456112886779},\n",
              " {'POSITIVO': 0.9986104965209961, 'NEGATIVO': 0.0014607920311391354},\n",
              " {'POSITIVO': 0.9996892213821411, 'NEGATIVO': 0.00017490719619672745},\n",
              " {'POSITIVO': 0.9991710186004639, 'NEGATIVO': 0.00035270597436465323},\n",
              " {'POSITIVO': 0.9992349147796631, 'NEGATIVO': 0.00023931535542942584},\n",
              " {'POSITIVO': 0.9996412992477417, 'NEGATIVO': 0.00014398583152797073},\n",
              " {'POSITIVO': 0.9991965889930725, 'NEGATIVO': 0.00023514499480370432},\n",
              " {'POSITIVO': 0.9994217157363892, 'NEGATIVO': 0.00019938795594498515},\n",
              " {'POSITIVO': 0.9993152618408203, 'NEGATIVO': 0.0006337864906527102},\n",
              " {'POSITIVO': 0.999273955821991, 'NEGATIVO': 0.0003734965866897255},\n",
              " {'POSITIVO': 0.9996447563171387, 'NEGATIVO': 0.00020302819029893726},\n",
              " {'POSITIVO': 0.9995774626731873, 'NEGATIVO': 0.0005237217992544174},\n",
              " {'POSITIVO': 0.999625563621521, 'NEGATIVO': 0.00018276419723406434},\n",
              " {'POSITIVO': 0.9995847344398499, 'NEGATIVO': 0.0002886716683860868},\n",
              " {'POSITIVO': 0.9820192456245422, 'NEGATIVO': 0.008752910420298576},\n",
              " {'POSITIVO': 0.9941195249557495, 'NEGATIVO': 0.002604428445920348},\n",
              " {'POSITIVO': 0.9988221526145935, 'NEGATIVO': 0.0006493069813586771},\n",
              " {'POSITIVO': 0.9986733198165894, 'NEGATIVO': 0.002111826092004776},\n",
              " {'POSITIVO': 0.9996464252471924, 'NEGATIVO': 0.0002221798204118386},\n",
              " {'POSITIVO': 0.9987019300460815, 'NEGATIVO': 0.001009313273243606},\n",
              " {'POSITIVO': 0.9996984004974365, 'NEGATIVO': 0.0008015262428671122},\n",
              " {'POSITIVO': 0.9995433688163757, 'NEGATIVO': 0.0003543102939147502},\n",
              " {'POSITIVO': 0.9993308782577515, 'NEGATIVO': 0.00021315098274499178},\n",
              " {'POSITIVO': 0.9991674423217773, 'NEGATIVO': 0.00046216658665798604},\n",
              " {'POSITIVO': 0.9993782043457031, 'NEGATIVO': 0.0002623999025672674},\n",
              " {'POSITIVO': 0.9989207983016968, 'NEGATIVO': 0.001142196706496179},\n",
              " {'POSITIVO': 0.9993366599082947, 'NEGATIVO': 0.0003926232166122645},\n",
              " {'POSITIVO': 0.9996433258056641, 'NEGATIVO': 0.0003508244699332863},\n",
              " {'POSITIVO': 0.9996672868728638, 'NEGATIVO': 0.0004902280052192509},\n",
              " {'POSITIVO': 0.999267041683197, 'NEGATIVO': 0.0008104765438474715},\n",
              " {'POSITIVO': 0.999226450920105, 'NEGATIVO': 0.0005947457393631339},\n",
              " {'POSITIVO': 0.9995707869529724, 'NEGATIVO': 0.00044901444925926626},\n",
              " {'POSITIVO': 0.9996742010116577, 'NEGATIVO': 0.00030690539279021323},\n",
              " {'POSITIVO': 0.999721109867096, 'NEGATIVO': 0.000274104269919917},\n",
              " {'POSITIVO': 0.9997643828392029, 'NEGATIVO': 0.00014709420793224126},\n",
              " {'POSITIVO': 0.999826967716217, 'NEGATIVO': 0.00013751283404417336},\n",
              " {'POSITIVO': 0.9990783929824829, 'NEGATIVO': 0.0008760953205637634},\n",
              " {'POSITIVO': 0.9990975856781006, 'NEGATIVO': 0.0007504340610466897},\n",
              " {'POSITIVO': 0.9994476437568665, 'NEGATIVO': 0.0004166868457105011},\n",
              " {'POSITIVO': 0.9991725087165833, 'NEGATIVO': 0.0007444655057042837},\n",
              " {'POSITIVO': 0.9998354911804199, 'NEGATIVO': 0.0002985823666676879},\n",
              " {'POSITIVO': 0.9979173541069031, 'NEGATIVO': 0.002821686677634716},\n",
              " {'POSITIVO': 0.9992355108261108, 'NEGATIVO': 0.0002774909953586757},\n",
              " {'POSITIVO': 0.9820192456245422, 'NEGATIVO': 0.008752910420298576},\n",
              " {'POSITIVO': 0.9997243285179138, 'NEGATIVO': 0.00023811926075723022},\n",
              " {'POSITIVO': 0.998088538646698, 'NEGATIVO': 0.00042164543992839754},\n",
              " {'POSITIVO': 0.9995253086090088, 'NEGATIVO': 6.863957969471812e-05},\n",
              " {'POSITIVO': 0.9996938705444336, 'NEGATIVO': 0.00025154100148938596},\n",
              " {'POSITIVO': 0.9997239708900452, 'NEGATIVO': 0.00012979001621715724},\n",
              " {'POSITIVO': 0.9997597336769104, 'NEGATIVO': 0.00023380188213195652},\n",
              " {'POSITIVO': 0.9996128678321838, 'NEGATIVO': 0.00015281408559530973},\n",
              " {'POSITIVO': 0.9997401833534241, 'NEGATIVO': 0.0001388307282468304},\n",
              " {'POSITIVO': 0.9973920583724976, 'NEGATIVO': 0.0014131797943264246},\n",
              " {'POSITIVO': 0.9996792078018188, 'NEGATIVO': 0.00013862832565791905},\n",
              " {'POSITIVO': 0.9989308714866638, 'NEGATIVO': 0.0006668907590210438},\n",
              " {'POSITIVO': 0.9997268319129944, 'NEGATIVO': 0.00021809081954415888},\n",
              " {'POSITIVO': 0.9981682300567627, 'NEGATIVO': 0.0008130953647196293},\n",
              " {'POSITIVO': 0.9996080994606018, 'NEGATIVO': 0.0017402528319507837},\n",
              " {'POSITIVO': 0.9994988441467285, 'NEGATIVO': 0.00015553190314676613},\n",
              " {'POSITIVO': 0.999749481678009, 'NEGATIVO': 0.00023747989325784147},\n",
              " {'POSITIVO': 0.9994901418685913, 'NEGATIVO': 0.0008151383954100311},\n",
              " {'POSITIVO': 0.9994901418685913, 'NEGATIVO': 0.0008151383954100311},\n",
              " {'POSITIVO': 0.9993367791175842, 'NEGATIVO': 0.00010637490049703047},\n",
              " {'POSITIVO': 0.9994901418685913, 'NEGATIVO': 0.0008151383954100311},\n",
              " {'POSITIVO': 0.9997795224189758, 'NEGATIVO': 0.00038943957770243287},\n",
              " {'POSITIVO': 0.9994901418685913, 'NEGATIVO': 0.0008151383954100311},\n",
              " {'POSITIVO': 0.999768078327179, 'NEGATIVO': 0.00014904201088938862},\n",
              " {'POSITIVO': 0.9996323585510254, 'NEGATIVO': 0.00017936405492946506},\n",
              " {'POSITIVO': 0.9991820454597473, 'NEGATIVO': 0.0003977519227191806},\n",
              " {'POSITIVO': 0.9997621178627014, 'NEGATIVO': 0.00022767807240597904},\n",
              " {'POSITIVO': 0.999517560005188, 'NEGATIVO': 0.00020657350250985473},\n",
              " {'POSITIVO': 0.9969717264175415, 'NEGATIVO': 0.000890440889634192},\n",
              " {'POSITIVO': 0.9996001124382019, 'NEGATIVO': 0.00018719848594628274},\n",
              " {'POSITIVO': 0.9993982315063477, 'NEGATIVO': 0.00030476029496639967},\n",
              " {'POSITIVO': 0.9993094205856323, 'NEGATIVO': 0.0019032881828024983},\n",
              " {'POSITIVO': 0.9996463060379028, 'NEGATIVO': 0.00017942443082574755},\n",
              " {'POSITIVO': 0.995334804058075, 'NEGATIVO': 0.0027031332720071077},\n",
              " {'POSITIVO': 0.997765302658081, 'NEGATIVO': 0.0007539116195403039},\n",
              " {'POSITIVO': 0.9994695782661438, 'NEGATIVO': 0.00046323920832946897},\n",
              " {'POSITIVO': 0.9993098974227905, 'NEGATIVO': 0.0001607251906534657},\n",
              " {'POSITIVO': 0.9995601773262024, 'NEGATIVO': 0.00015074395923875272},\n",
              " {'POSITIVO': 0.9997445940971375, 'NEGATIVO': 5.288591273711063e-05},\n",
              " {'POSITIVO': 0.999134361743927, 'NEGATIVO': 0.0008255433640442789},\n",
              " {'POSITIVO': 0.9983556866645813, 'NEGATIVO': 0.0008607583586126566},\n",
              " {'POSITIVO': 0.9997568726539612, 'NEGATIVO': 0.00033426936715841293},\n",
              " {'POSITIVO': 0.9967774748802185, 'NEGATIVO': 0.0016723728040233254},\n",
              " {'POSITIVO': 0.9996528625488281, 'NEGATIVO': 0.0004935595788992941},\n",
              " {'POSITIVO': 0.9995428323745728, 'NEGATIVO': 0.0002948890905827284},\n",
              " {'POSITIVO': 0.999530553817749, 'NEGATIVO': 0.00012320210225880146},\n",
              " {'POSITIVO': 0.9996076226234436, 'NEGATIVO': 0.00018892332445830107},\n",
              " {'POSITIVO': 0.9991157650947571, 'NEGATIVO': 0.0007842678460292518},\n",
              " {'POSITIVO': 0.9996238946914673, 'NEGATIVO': 0.00019376924319658428},\n",
              " {'POSITIVO': 0.9994819760322571, 'NEGATIVO': 0.00026738439919427037},\n",
              " {'POSITIVO': 0.9989290833473206, 'NEGATIVO': 0.0004564849368762225},\n",
              " {'POSITIVO': 0.9996775388717651, 'NEGATIVO': 0.0002854090998880565},\n",
              " {'POSITIVO': 0.9995998740196228, 'NEGATIVO': 0.00027765112463384867},\n",
              " {'POSITIVO': 0.9993277788162231, 'NEGATIVO': 0.0004838781023863703},\n",
              " {'POSITIVO': 0.9984580278396606, 'NEGATIVO': 0.0015375394141301513},\n",
              " {'POSITIVO': 0.9989672899246216, 'NEGATIVO': 8.986673492472619e-05},\n",
              " {'POSITIVO': 0.9996591806411743, 'NEGATIVO': 0.00011868787987623364},\n",
              " {'POSITIVO': 0.9981617331504822, 'NEGATIVO': 0.0014063689159229398},\n",
              " {'POSITIVO': 0.999346911907196, 'NEGATIVO': 0.0002456953516229987},\n",
              " {'POSITIVO': 0.9991523027420044, 'NEGATIVO': 0.0005386025877669454},\n",
              " {'POSITIVO': 0.999683141708374, 'NEGATIVO': 7.463938527507707e-05},\n",
              " {'POSITIVO': 0.9997623562812805, 'NEGATIVO': 0.00021762531832791865},\n",
              " {'POSITIVO': 0.9996844530105591, 'NEGATIVO': 0.0003841984726022929},\n",
              " {'POSITIVO': 0.998408854007721, 'NEGATIVO': 0.0005200310260988772},\n",
              " {'POSITIVO': 0.9990171194076538, 'NEGATIVO': 0.0005508297472260892},\n",
              " {'POSITIVO': 0.9976478219032288, 'NEGATIVO': 0.002678010379895568},\n",
              " {'POSITIVO': 0.9987221360206604, 'NEGATIVO': 0.001519273268058896},\n",
              " {'POSITIVO': 0.9991946816444397, 'NEGATIVO': 0.0001877938339021057},\n",
              " {'POSITIVO': 0.9998395442962646, 'NEGATIVO': 4.539786823443137e-05},\n",
              " {'POSITIVO': 0.9916220903396606, 'NEGATIVO': 0.00308252964168787},\n",
              " {'POSITIVO': 0.9882959723472595, 'NEGATIVO': 0.003168770344927907},\n",
              " {'POSITIVO': 0.9985394477844238, 'NEGATIVO': 0.0013368412619456649},\n",
              " {'POSITIVO': 0.9987745881080627, 'NEGATIVO': 0.0005891767796128988},\n",
              " {'POSITIVO': 0.9998157620429993, 'NEGATIVO': 0.00017025251872837543},\n",
              " {'POSITIVO': 0.9980288147926331, 'NEGATIVO': 0.003298384603112936},\n",
              " {'POSITIVO': 0.9997623562812805, 'NEGATIVO': 0.00015135105059016496},\n",
              " {'POSITIVO': 0.9990804195404053, 'NEGATIVO': 0.00015877847908996046},\n",
              " {'POSITIVO': 0.9998086094856262, 'NEGATIVO': 0.00017808543634600937},\n",
              " {'POSITIVO': 0.9996073842048645, 'NEGATIVO': 0.0002383296232437715},\n",
              " {'POSITIVO': 0.9974265694618225, 'NEGATIVO': 0.0005607145722024143},\n",
              " {'POSITIVO': 0.9991104006767273, 'NEGATIVO': 0.0003825143212452531},\n",
              " {'POSITIVO': 0.998772919178009, 'NEGATIVO': 0.00037116403109394014},\n",
              " {'POSITIVO': 0.9982268214225769, 'NEGATIVO': 0.0006781371776014566},\n",
              " {'POSITIVO': 0.9997087121009827, 'NEGATIVO': 0.00014213527902029455},\n",
              " {'POSITIVO': 0.999711811542511, 'NEGATIVO': 0.00025449806707911193},\n",
              " {'POSITIVO': 0.9997972846031189, 'NEGATIVO': 0.00015293552132789046},\n",
              " {'POSITIVO': 0.9996895790100098, 'NEGATIVO': 0.0002675524156074971},\n",
              " {'POSITIVO': 0.9994516968727112, 'NEGATIVO': 0.0004278860869817436},\n",
              " {'POSITIVO': 0.9993128776550293, 'NEGATIVO': 0.0009752328624017537},\n",
              " {'POSITIVO': 0.9997634291648865, 'NEGATIVO': 0.0001152700133388862},\n",
              " {'POSITIVO': 0.9996204376220703, 'NEGATIVO': 0.0001926142576849088},\n",
              " {'POSITIVO': 0.999671459197998, 'NEGATIVO': 0.0001232862559845671},\n",
              " {'POSITIVO': 0.9992589354515076, 'NEGATIVO': 0.00016096826584544033},\n",
              " {'POSITIVO': 0.9997005462646484, 'NEGATIVO': 0.00031679155654273927},\n",
              " {'POSITIVO': 0.9997963309288025, 'NEGATIVO': 0.0004146308056078851},\n",
              " {'POSITIVO': 0.9991210103034973, 'NEGATIVO': 0.0001922665542224422},\n",
              " {'POSITIVO': 0.999483585357666, 'NEGATIVO': 0.0003124167851638049},\n",
              " {'POSITIVO': 0.999772846698761, 'NEGATIVO': 0.00020794215379282832},\n",
              " {'POSITIVO': 0.9976230263710022, 'NEGATIVO': 0.0021593002602458},\n",
              " {'POSITIVO': 0.9994381070137024, 'NEGATIVO': 0.00037236581556499004},\n",
              " {'POSITIVO': 0.9994646906852722, 'NEGATIVO': 0.00035253504756838083},\n",
              " {'POSITIVO': 0.9995867609977722, 'NEGATIVO': 0.00041877152398228645},\n",
              " {'POSITIVO': 0.9992768168449402, 'NEGATIVO': 0.0005712582496926188},\n",
              " {'POSITIVO': 0.9990904331207275, 'NEGATIVO': 0.0006012313533574343},\n",
              " {'POSITIVO': 0.9997994303703308, 'NEGATIVO': 0.00015269508003257215},\n",
              " {'POSITIVO': 0.9977328777313232, 'NEGATIVO': 0.0015535213751718402},\n",
              " {'POSITIVO': 0.9994218349456787, 'NEGATIVO': 0.0003310279571451247},\n",
              " {'POSITIVO': 0.9997990727424622, 'NEGATIVO': 9.079632582142949e-05},\n",
              " {'POSITIVO': 0.999121367931366, 'NEGATIVO': 0.0002809278666973114},\n",
              " {'POSITIVO': 0.9994751811027527, 'NEGATIVO': 0.00013409549137577415},\n",
              " {'POSITIVO': 0.9997920393943787, 'NEGATIVO': 0.00010568846482783556},\n",
              " {'POSITIVO': 0.9998034834861755, 'NEGATIVO': 9.467355266679078e-05},\n",
              " {'POSITIVO': 0.9977675676345825, 'NEGATIVO': 0.001082599745132029},\n",
              " {'POSITIVO': 0.99960857629776, 'NEGATIVO': 0.0005386850098147988},\n",
              " {'POSITIVO': 0.9995284080505371, 'NEGATIVO': 0.0003663361130747944},\n",
              " {'POSITIVO': 0.9990492463111877, 'NEGATIVO': 0.000737553637009114},\n",
              " {'POSITIVO': 0.9996224641799927, 'NEGATIVO': 0.00014065181312616915},\n",
              " {'POSITIVO': 0.9992849230766296, 'NEGATIVO': 0.00026387532125227153},\n",
              " {'POSITIVO': 0.9994868040084839, 'NEGATIVO': 0.0002612473617773503},\n",
              " {'POSITIVO': 0.9996191263198853, 'NEGATIVO': 0.00012653658632189035},\n",
              " {'POSITIVO': 0.9994045495986938, 'NEGATIVO': 0.0003708550939336419},\n",
              " {'POSITIVO': 0.9995187520980835, 'NEGATIVO': 0.00036846561124548316},\n",
              " {'POSITIVO': 0.9993995428085327, 'NEGATIVO': 0.00014683704648632556},\n",
              " {'POSITIVO': 0.9995071887969971, 'NEGATIVO': 0.00041710317600518465},\n",
              " {'POSITIVO': 0.9996852874755859, 'NEGATIVO': 0.00019142363453283906},\n",
              " {'POSITIVO': 0.9994895458221436, 'NEGATIVO': 0.000553990772459656},\n",
              " {'POSITIVO': 0.9980289340019226, 'NEGATIVO': 0.0005935621447861195},\n",
              " {'POSITIVO': 0.9994620680809021, 'NEGATIVO': 0.00035797679447568953},\n",
              " {'POSITIVO': 0.9994673132896423, 'NEGATIVO': 0.00028499632026068866},\n",
              " {'POSITIVO': 0.9988805651664734, 'NEGATIVO': 0.0006529160309582949},\n",
              " {'POSITIVO': 0.9992388486862183, 'NEGATIVO': 0.0009315867209807038},\n",
              " {'POSITIVO': 0.9995218515396118, 'NEGATIVO': 0.0007300930446945131},\n",
              " {'POSITIVO': 0.999721348285675, 'NEGATIVO': 0.0002553653030190617},\n",
              " {'POSITIVO': 0.9956894516944885, 'NEGATIVO': 0.00038559758104383945},\n",
              " {'POSITIVO': 0.9997177720069885, 'NEGATIVO': 0.0003214862081222236},\n",
              " {'POSITIVO': 0.9992532134056091, 'NEGATIVO': 0.0006139343022368848},\n",
              " {'POSITIVO': 0.9996219873428345, 'NEGATIVO': 0.0001564479898661375},\n",
              " {'POSITIVO': 0.9992644190788269, 'NEGATIVO': 0.0005164374015294015},\n",
              " {'POSITIVO': 0.9996659755706787, 'NEGATIVO': 0.00039989830111153424},\n",
              " {'POSITIVO': 0.999404788017273, 'NEGATIVO': 0.0005334753659553826},\n",
              " {'POSITIVO': 0.9994988441467285, 'NEGATIVO': 0.00020792154828086495},\n",
              " {'POSITIVO': 0.9997537732124329, 'NEGATIVO': 0.00025030129472725093},\n",
              " {'POSITIVO': 0.999152660369873, 'NEGATIVO': 0.0005311085842549801},\n",
              " {'POSITIVO': 0.9994747042655945, 'NEGATIVO': 0.00016659795073792338},\n",
              " {'POSITIVO': 0.9997125267982483, 'NEGATIVO': 0.0001480187347624451},\n",
              " {'POSITIVO': 0.9993420243263245, 'NEGATIVO': 0.0006520126480609179},\n",
              " {'POSITIVO': 0.9984684586524963, 'NEGATIVO': 0.0009301628451794386},\n",
              " {'POSITIVO': 0.9996762275695801, 'NEGATIVO': 0.00027459338889457285},\n",
              " {'POSITIVO': 0.9997366070747375, 'NEGATIVO': 0.00019427390361670405},\n",
              " {'POSITIVO': 0.9992314577102661, 'NEGATIVO': 0.0005624208715744317},\n",
              " {'POSITIVO': 0.999576985836029, 'NEGATIVO': 0.00028071663109585643},\n",
              " {'POSITIVO': 0.9994420409202576, 'NEGATIVO': 0.0005048695602454245},\n",
              " {'POSITIVO': 0.9994994401931763, 'NEGATIVO': 0.0003976107109338045},\n",
              " {'POSITIVO': 0.9994877576828003, 'NEGATIVO': 0.0008672361145727336},\n",
              " {'POSITIVO': 0.999441921710968, 'NEGATIVO': 0.0006304014823399484},\n",
              " {'POSITIVO': 0.9997795224189758, 'NEGATIVO': 0.0005534352967515588},\n",
              " {'POSITIVO': 0.9996315240859985, 'NEGATIVO': 0.0006707345601171255},\n",
              " {'POSITIVO': 0.9996808767318726, 'NEGATIVO': 0.0003296620852779597},\n",
              " {'POSITIVO': 0.9992710947990417, 'NEGATIVO': 0.0001766940695233643},\n",
              " {'POSITIVO': 0.9995577931404114, 'NEGATIVO': 0.0002525897871237248},\n",
              " {'POSITIVO': 0.9976304769515991, 'NEGATIVO': 0.0022587089333683252},\n",
              " {'POSITIVO': 0.9995263814926147, 'NEGATIVO': 0.00023949978640303016},\n",
              " {'POSITIVO': 0.9989147186279297, 'NEGATIVO': 0.0009582890197634697},\n",
              " {'POSITIVO': 0.9995129108428955, 'NEGATIVO': 0.00024961563758552074},\n",
              " {'POSITIVO': 0.999648928642273, 'NEGATIVO': 9.726572170620784e-05},\n",
              " {'POSITIVO': 0.9967774748802185, 'NEGATIVO': 0.0016723728040233254},\n",
              " {'POSITIVO': 0.9994505047798157, 'NEGATIVO': 0.0001544696860946715},\n",
              " {'POSITIVO': 0.9997026324272156, 'NEGATIVO': 0.0002378848585067317},\n",
              " {'POSITIVO': 0.9993526339530945, 'NEGATIVO': 0.00017536575614940375},\n",
              " {'POSITIVO': 0.998246431350708, 'NEGATIVO': 0.0006966763758100569},\n",
              " {'POSITIVO': 0.9993435740470886, 'NEGATIVO': 0.0001945306285051629},\n",
              " {'POSITIVO': 0.9994285702705383, 'NEGATIVO': 0.0004980888916179538},\n",
              " {'POSITIVO': 0.9987258315086365, 'NEGATIVO': 0.0003931381506845355},\n",
              " {'POSITIVO': 0.9993746876716614, 'NEGATIVO': 0.0013882276834920049},\n",
              " {'POSITIVO': 0.9997207522392273, 'NEGATIVO': 0.0002252717240480706},\n",
              " {'POSITIVO': 0.9992544054985046, 'NEGATIVO': 0.00048283449723385274},\n",
              " {'POSITIVO': 0.9994986057281494, 'NEGATIVO': 0.0004629736940842122},\n",
              " {'POSITIVO': 0.9955873489379883, 'NEGATIVO': 0.0024211155250668526},\n",
              " {'POSITIVO': 0.9997963309288025, 'NEGATIVO': 0.0001440711203031242},\n",
              " {'POSITIVO': 0.9981204867362976, 'NEGATIVO': 0.001820209203287959},\n",
              " {'POSITIVO': 0.9982773065567017, 'NEGATIVO': 0.0008253129199147224},\n",
              " {'POSITIVO': 0.9997077584266663, 'NEGATIVO': 0.00040712577174417675},\n",
              " {'POSITIVO': 0.9950750470161438, 'NEGATIVO': 0.0007621435797773302},\n",
              " {'POSITIVO': 0.9986984729766846, 'NEGATIVO': 0.0004713852540589869},\n",
              " {'POSITIVO': 0.9996438026428223, 'NEGATIVO': 0.00016171626339200884},\n",
              " {'POSITIVO': 0.9982618689537048, 'NEGATIVO': 0.0006796994130127132},\n",
              " {'POSITIVO': 0.9994239807128906, 'NEGATIVO': 0.00029584483127109706},\n",
              " {'POSITIVO': 0.9997565150260925, 'NEGATIVO': 0.00016794187831692398},\n",
              " {'POSITIVO': 0.9985837936401367, 'NEGATIVO': 0.0016916951863095164},\n",
              " {'POSITIVO': 0.9997898936271667, 'NEGATIVO': 0.00010736245167208835},\n",
              " {'POSITIVO': 0.9996404647827148, 'NEGATIVO': 0.00016249250620603561},\n",
              " {'POSITIVO': 0.9985684156417847, 'NEGATIVO': 0.001961842644959688},\n",
              " {'POSITIVO': 0.9991432428359985, 'NEGATIVO': 0.0003133313439320773},\n",
              " {'POSITIVO': 0.999529242515564, 'NEGATIVO': 0.00016554132162127644},\n",
              " {'POSITIVO': 0.9997144341468811, 'NEGATIVO': 0.00030233050347305834},\n",
              " {'POSITIVO': 0.9995096921920776, 'NEGATIVO': 0.0001579749077791348},\n",
              " {'POSITIVO': 0.9994683861732483, 'NEGATIVO': 0.00015170112601481378},\n",
              " {'POSITIVO': 0.9972745776176453, 'NEGATIVO': 0.0026279091835021973},\n",
              " {'POSITIVO': 0.999724805355072, 'NEGATIVO': 0.0002086971653625369},\n",
              " {'POSITIVO': 0.9996404647827148, 'NEGATIVO': 0.00016249250620603561},\n",
              " {'POSITIVO': 0.9996076226234436, 'NEGATIVO': 0.00018892332445830107},\n",
              " {'POSITIVO': 0.9995349645614624, 'NEGATIVO': 0.00013627679436467588},\n",
              " {'POSITIVO': 0.9992333650588989, 'NEGATIVO': 0.00039383009425364435},\n",
              " {'POSITIVO': 0.99932861328125, 'NEGATIVO': 0.00041536366916261613},\n",
              " {'POSITIVO': 0.9997010827064514, 'NEGATIVO': 0.00024379239766858518},\n",
              " {'POSITIVO': 0.9995644688606262, 'NEGATIVO': 0.0003822778817266226},\n",
              " {'POSITIVO': 0.9991784691810608, 'NEGATIVO': 0.00027115849661640823},\n",
              " {'POSITIVO': 0.9992863535881042, 'NEGATIVO': 0.0003551259869709611},\n",
              " {'POSITIVO': 0.9810763597488403, 'NEGATIVO': 0.009803968481719494},\n",
              " {'POSITIVO': 0.9994627833366394, 'NEGATIVO': 0.00029896010528318584},\n",
              " {'POSITIVO': 0.9991937279701233, 'NEGATIVO': 0.0002621783351060003},\n",
              " {'POSITIVO': 0.9997108578681946, 'NEGATIVO': 0.0002284711372340098},\n",
              " {'POSITIVO': 0.9996263980865479, 'NEGATIVO': 0.001136191189289093},\n",
              " {'POSITIVO': 0.9979751706123352, 'NEGATIVO': 0.002089407527819276},\n",
              " {'POSITIVO': 0.9996461868286133, 'NEGATIVO': 0.00030315053300000727},\n",
              " {'POSITIVO': 0.9992828965187073, 'NEGATIVO': 0.00023413046437781304},\n",
              " {'POSITIVO': 0.9997337460517883, 'NEGATIVO': 0.00010377808212069795},\n",
              " {'POSITIVO': 0.9996874332427979, 'NEGATIVO': 0.00033640602487139404},\n",
              " {'POSITIVO': 0.9996494054794312, 'NEGATIVO': 0.00042011315235868096},\n",
              " {'POSITIVO': 0.9990087151527405, 'NEGATIVO': 0.00020478769147302955},\n",
              " {'POSITIVO': 0.9997898936271667, 'NEGATIVO': 0.00010736245167208835},\n",
              " {'POSITIVO': 0.9982750415802002, 'NEGATIVO': 0.00022780188010074198},\n",
              " {'POSITIVO': 0.9992486834526062, 'NEGATIVO': 0.00036704534431919456},\n",
              " {'POSITIVO': 0.9996519088745117, 'NEGATIVO': 0.0004456653259694576},\n",
              " {'POSITIVO': 0.9997565150260925, 'NEGATIVO': 0.0001794853451428935},\n",
              " {'POSITIVO': 0.9992573857307434, 'NEGATIVO': 0.00022736872779205441},\n",
              " {'POSITIVO': 0.9572272896766663, 'NEGATIVO': 0.01854519732296467},\n",
              " {'POSITIVO': 0.9998132586479187, 'NEGATIVO': 0.00038423732621595263},\n",
              " {'POSITIVO': 0.9994284510612488, 'NEGATIVO': 0.00022896357404533774},\n",
              " {'POSITIVO': 0.9994581341743469, 'NEGATIVO': 0.0004135367926210165},\n",
              " {'POSITIVO': 0.028586551547050476, 'NEGATIVO': 0.9970621466636658},\n",
              " {'POSITIVO': 0.9992584586143494, 'NEGATIVO': 0.0002586248447187245},\n",
              " {'POSITIVO': 0.9990273714065552, 'NEGATIVO': 0.0012994894059374928},\n",
              " {'POSITIVO': 0.9988383650779724, 'NEGATIVO': 0.0003365051525179297},\n",
              " {'POSITIVO': 0.9948219060897827, 'NEGATIVO': 0.0025078740436583757},\n",
              " {'POSITIVO': 0.9983356595039368, 'NEGATIVO': 0.0005650206003338099},\n",
              " {'POSITIVO': 0.9989629983901978, 'NEGATIVO': 0.0002462389529682696},\n",
              " {'POSITIVO': 0.9991937279701233, 'NEGATIVO': 0.00022955112217459828},\n",
              " {'POSITIVO': 0.9961397051811218, 'NEGATIVO': 0.003305257996544242},\n",
              " {'POSITIVO': 0.9998132586479187, 'NEGATIVO': 0.0003107600787188858},\n",
              " {'POSITIVO': 0.9993201494216919, 'NEGATIVO': 0.000258646032307297},\n",
              " {'POSITIVO': 0.9995343685150146, 'NEGATIVO': 0.00020491486066021025},\n",
              " {'POSITIVO': 0.9994239807128906, 'NEGATIVO': 0.00029584483127109706},\n",
              " {'POSITIVO': 0.999489426612854, 'NEGATIVO': 0.00043454350088723004},\n",
              " {'POSITIVO': 0.9998151659965515, 'NEGATIVO': 0.00014138317783363163},\n",
              " {'POSITIVO': 0.999607264995575, 'NEGATIVO': 0.00028186419513076544},\n",
              " {'POSITIVO': 0.9992092847824097, 'NEGATIVO': 0.0012190906563773751},\n",
              " {'POSITIVO': 0.9990944862365723, 'NEGATIVO': 0.0005259825265966356},\n",
              " {'POSITIVO': 0.9995112419128418, 'NEGATIVO': 0.0004290120559744537},\n",
              " {'POSITIVO': 0.9987285733222961, 'NEGATIVO': 0.00034158359630964696},\n",
              " {'POSITIVO': 0.9969961643218994, 'NEGATIVO': 0.0018072014208883047},\n",
              " {'POSITIVO': 0.9974094033241272, 'NEGATIVO': 0.0006666044355370104},\n",
              " {'POSITIVO': 0.9996492862701416, 'NEGATIVO': 0.0001577110670041293},\n",
              " {'POSITIVO': 0.9994577765464783, 'NEGATIVO': 0.0005565093597397208},\n",
              " {'POSITIVO': 0.9992806315422058, 'NEGATIVO': 0.00035501783713698387},\n",
              " {'POSITIVO': 0.9995254278182983, 'NEGATIVO': 0.0004569050797726959},\n",
              " {'POSITIVO': 0.9988818764686584, 'NEGATIVO': 0.0010677613317966461},\n",
              " {'POSITIVO': 0.9994564652442932, 'NEGATIVO': 0.0005011515459045768},\n",
              " {'POSITIVO': 0.9997125267982483, 'NEGATIVO': 0.00021605650545097888},\n",
              " {'POSITIVO': 0.9982941746711731, 'NEGATIVO': 0.0007642432465218008},\n",
              " {'POSITIVO': 0.9996896982192993, 'NEGATIVO': 0.0006014087121002376},\n",
              " {'POSITIVO': 0.9994751811027527, 'NEGATIVO': 0.00035342376213520765},\n",
              " {'POSITIVO': 0.9992021918296814, 'NEGATIVO': 0.0005339637864381075},\n",
              " {'POSITIVO': 0.9995909333229065, 'NEGATIVO': 0.0001906665856949985},\n",
              " {'POSITIVO': 0.9995092153549194, 'NEGATIVO': 0.0004667265748139471},\n",
              " {'POSITIVO': 0.9991401433944702, 'NEGATIVO': 0.0009360634139738977},\n",
              " {'POSITIVO': 0.9993815422058105, 'NEGATIVO': 0.00032254011603072286},\n",
              " {'POSITIVO': 0.9993365406990051, 'NEGATIVO': 0.00028748929616995156},\n",
              " {'POSITIVO': 0.9988835453987122, 'NEGATIVO': 0.00020648744248319417},\n",
              " {'POSITIVO': 0.9970687031745911, 'NEGATIVO': 0.0011896209325641394},\n",
              " {'POSITIVO': 0.9994930028915405, 'NEGATIVO': 0.0003032514068763703},\n",
              " {'POSITIVO': 0.9997920393943787, 'NEGATIVO': 0.0003112258855253458},\n",
              " {'POSITIVO': 0.9996832609176636, 'NEGATIVO': 0.00022110628196969628},\n",
              " {'POSITIVO': 0.9991476535797119, 'NEGATIVO': 0.0006685861153528094},\n",
              " {'POSITIVO': 0.9998202919960022, 'NEGATIVO': 0.00013038617908023298},\n",
              " {'POSITIVO': 0.9874381422996521, 'NEGATIVO': 0.019707707688212395},\n",
              " {'POSITIVO': 0.994440495967865, 'NEGATIVO': 0.0034075009170919657},\n",
              " {'POSITIVO': 0.9996464252471924, 'NEGATIVO': 0.0002636025019455701},\n",
              " {'POSITIVO': 0.9960493445396423, 'NEGATIVO': 0.0018050125800073147},\n",
              " {'POSITIVO': 0.9994195699691772, 'NEGATIVO': 0.00038991414476186037},\n",
              " {'POSITIVO': 0.999529242515564, 'NEGATIVO': 0.0004952549934387207},\n",
              " {'POSITIVO': 0.9993168115615845, 'NEGATIVO': 0.00012315700587350875},\n",
              " {'POSITIVO': 0.9990847110748291, 'NEGATIVO': 0.0007945141987875104},\n",
              " {'POSITIVO': 0.9996108412742615, 'NEGATIVO': 0.00017676199786365032},\n",
              " {'POSITIVO': 0.9950131773948669, 'NEGATIVO': 0.0013544094981625676},\n",
              " {'POSITIVO': 0.9996116757392883, 'NEGATIVO': 0.00029246549820527434},\n",
              " {'POSITIVO': 0.999207079410553, 'NEGATIVO': 0.00061129400273785},\n",
              " {'POSITIVO': 0.9991982579231262, 'NEGATIVO': 0.0003309071180410683},\n",
              " {'POSITIVO': 0.9992972612380981, 'NEGATIVO': 0.0007185685099102557},\n",
              " {'POSITIVO': 0.9994134902954102, 'NEGATIVO': 0.0006538548041135073},\n",
              " {'POSITIVO': 0.9997146725654602, 'NEGATIVO': 0.000132537359604612},\n",
              " {'POSITIVO': 0.9992539286613464, 'NEGATIVO': 0.0005890476750209928},\n",
              " {'POSITIVO': 0.9976713061332703, 'NEGATIVO': 0.003992352169007063},\n",
              " {'POSITIVO': 0.998906135559082, 'NEGATIVO': 0.0006727525615133345},\n",
              " {'POSITIVO': 0.9976696372032166, 'NEGATIVO': 0.0007189606549218297},\n",
              " {'POSITIVO': 0.9991998076438904, 'NEGATIVO': 0.0006787701859138906},\n",
              " {'POSITIVO': 0.9996931552886963, 'NEGATIVO': 0.0002902250562328845},\n",
              " {'POSITIVO': 0.9991663694381714, 'NEGATIVO': 0.0004208825994282961},\n",
              " {'POSITIVO': 0.9992868304252625, 'NEGATIVO': 0.0007465349626727402},\n",
              " {'POSITIVO': 0.999244213104248, 'NEGATIVO': 0.00018582490156404674},\n",
              " {'POSITIVO': 0.9994707703590393, 'NEGATIVO': 0.0004286064358893782},\n",
              " {'POSITIVO': 0.9998200535774231, 'NEGATIVO': 0.0002291983983013779},\n",
              " {'POSITIVO': 0.9989678859710693, 'NEGATIVO': 0.0010164028499275446},\n",
              " {'POSITIVO': 0.9996570348739624, 'NEGATIVO': 0.00024276439216919243},\n",
              " {'POSITIVO': 0.9994242191314697, 'NEGATIVO': 0.000357576587703079},\n",
              " {'POSITIVO': 0.999784529209137, 'NEGATIVO': 0.00016431983385700732},\n",
              " {'POSITIVO': 0.9994161128997803, 'NEGATIVO': 0.0005947712925262749},\n",
              " {'POSITIVO': 0.9990869760513306, 'NEGATIVO': 0.0002217011497123167},\n",
              " {'POSITIVO': 0.9993877410888672, 'NEGATIVO': 0.0003991680277977139},\n",
              " {'POSITIVO': 0.9995276927947998, 'NEGATIVO': 0.0002285482914885506},\n",
              " {'POSITIVO': 0.9996174573898315, 'NEGATIVO': 0.00016331218648701906},\n",
              " {'POSITIVO': 0.9995482563972473, 'NEGATIVO': 0.0003865423204842955},\n",
              " {'POSITIVO': 0.9994114637374878, 'NEGATIVO': 0.00044425312080420554},\n",
              " {'POSITIVO': 0.9994246959686279, 'NEGATIVO': 0.00025470778928138316},\n",
              " {'POSITIVO': 0.9991487264633179, 'NEGATIVO': 0.0006396259414032102},\n",
              " {'POSITIVO': 0.9995039701461792, 'NEGATIVO': 0.0001986191055038944},\n",
              " {'POSITIVO': 0.9651915431022644, 'NEGATIVO': 0.07507574558258057},\n",
              " {'POSITIVO': 0.9993231296539307, 'NEGATIVO': 0.00024996217689476907},\n",
              " {'POSITIVO': 0.9996922016143799, 'NEGATIVO': 0.00021882193686906248},\n",
              " {'POSITIVO': 0.9819060564041138, 'NEGATIVO': 0.008097276091575623},\n",
              " {'POSITIVO': 0.999700665473938, 'NEGATIVO': 0.0001437219325453043},\n",
              " {'POSITIVO': 0.9997262358665466, 'NEGATIVO': 0.00030962712480686605},\n",
              " {'POSITIVO': 0.9988295435905457, 'NEGATIVO': 0.0007236658129841089},\n",
              " {'POSITIVO': 0.9994010925292969, 'NEGATIVO': 0.000297696387860924},\n",
              " {'POSITIVO': 0.9996393918991089, 'NEGATIVO': 0.0006234133034013212},\n",
              " {'POSITIVO': 0.9994972944259644, 'NEGATIVO': 0.0002707054081838578},\n",
              " {'POSITIVO': 0.9998051524162292, 'NEGATIVO': 0.00013207610754761845},\n",
              " {'POSITIVO': 0.9991664886474609, 'NEGATIVO': 0.0008889070013538003},\n",
              " {'POSITIVO': 0.9994788765907288, 'NEGATIVO': 0.00028073054272681475},\n",
              " {'POSITIVO': 0.9995150566101074, 'NEGATIVO': 0.00017354644660372287},\n",
              " {'POSITIVO': 0.9989933371543884, 'NEGATIVO': 0.00010521343938307837},\n",
              " {'POSITIVO': 0.9994435906410217, 'NEGATIVO': 0.00010470330744283274},\n",
              " {'POSITIVO': 0.9996306896209717, 'NEGATIVO': 0.0003146679955534637},\n",
              " {'POSITIVO': 0.9995871186256409, 'NEGATIVO': 0.00017080226098187268},\n",
              " {'POSITIVO': 0.9957022070884705, 'NEGATIVO': 0.0056685833260416985},\n",
              " {'POSITIVO': 0.9996806383132935, 'NEGATIVO': 0.0005057785310782492},\n",
              " {'POSITIVO': 0.9995119571685791, 'NEGATIVO': 0.00029698541038669646},\n",
              " {'POSITIVO': 0.9985756874084473, 'NEGATIVO': 0.0008523245924152434},\n",
              " {'POSITIVO': 0.9997754693031311, 'NEGATIVO': 0.00026739281020127237},\n",
              " {'POSITIVO': 0.9967774748802185, 'NEGATIVO': 0.0016723728040233254},\n",
              " {'POSITIVO': 0.9993945360183716, 'NEGATIVO': 0.0008557416149415076},\n",
              " {'POSITIVO': 0.9972035884857178, 'NEGATIVO': 0.0014939948450773954},\n",
              " {'POSITIVO': 0.9991347193717957, 'NEGATIVO': 0.0005381320370361209},\n",
              " {'POSITIVO': 0.9995403289794922, 'NEGATIVO': 0.00017312449926976115},\n",
              " {'POSITIVO': 0.9994163513183594, 'NEGATIVO': 0.00036521084257401526},\n",
              " {'POSITIVO': 0.9995579123497009, 'NEGATIVO': 0.00021340130479075015},\n",
              " {'POSITIVO': 0.999256432056427, 'NEGATIVO': 0.00041705448529683053},\n",
              " {'POSITIVO': 0.9996652603149414, 'NEGATIVO': 0.00013950577704235911},\n",
              " {'POSITIVO': 0.9994522929191589, 'NEGATIVO': 0.0001696318795438856},\n",
              " {'POSITIVO': 0.9996790885925293, 'NEGATIVO': 0.0003096044238191098},\n",
              " {'POSITIVO': 0.9968133568763733, 'NEGATIVO': 0.0003612547880038619},\n",
              " {'POSITIVO': 0.9993892908096313, 'NEGATIVO': 0.0004307888157200068},\n",
              " {'POSITIVO': 0.9998041987419128, 'NEGATIVO': 0.00019354966934770346},\n",
              " {'POSITIVO': 0.999471127986908, 'NEGATIVO': 0.0006577232852578163},\n",
              " {'POSITIVO': 0.9996528625488281, 'NEGATIVO': 0.00021041769650764763},\n",
              " {'POSITIVO': 0.9992280006408691, 'NEGATIVO': 0.00039241460035555065},\n",
              " {'POSITIVO': 0.9990124702453613, 'NEGATIVO': 0.0003471314557828009},\n",
              " {'POSITIVO': 0.9995679259300232, 'NEGATIVO': 0.00022422322945203632},\n",
              " {'POSITIVO': 0.9996386766433716, 'NEGATIVO': 0.00015401345444843173},\n",
              " {'POSITIVO': 0.9993836879730225, 'NEGATIVO': 0.00027784548001363873},\n",
              " {'POSITIVO': 0.9992897510528564, 'NEGATIVO': 0.0004124297702219337},\n",
              " {'POSITIVO': 0.9998090863227844, 'NEGATIVO': 0.00013648474123328924},\n",
              " {'POSITIVO': 0.9997931122779846, 'NEGATIVO': 0.0004065120592713356},\n",
              " {'POSITIVO': 0.999442994594574, 'NEGATIVO': 0.0003005793842021376},\n",
              " {'POSITIVO': 0.9984984397888184, 'NEGATIVO': 0.0006063036271370947},\n",
              " {'POSITIVO': 0.9997290968894958, 'NEGATIVO': 0.0002236648870166391},\n",
              " {'POSITIVO': 0.9979143738746643, 'NEGATIVO': 0.001287960447371006},\n",
              " {'POSITIVO': 0.9993171691894531, 'NEGATIVO': 0.00016366479394491762},\n",
              " {'POSITIVO': 0.9997938275337219, 'NEGATIVO': 0.0005339665804058313},\n",
              " {'POSITIVO': 0.9982603192329407, 'NEGATIVO': 0.0012751409085467458},\n",
              " {'POSITIVO': 0.9995365142822266, 'NEGATIVO': 0.0001714170357445255},\n",
              " {'POSITIVO': 0.9995005130767822, 'NEGATIVO': 0.00022119397181086242},\n",
              " {'POSITIVO': 0.9997816681861877, 'NEGATIVO': 0.00028408371144905686},\n",
              " {'POSITIVO': 0.9997969269752502, 'NEGATIVO': 0.00017641529848333448},\n",
              " {'POSITIVO': 0.9993140697479248, 'NEGATIVO': 0.00017433824541512877},\n",
              " {'POSITIVO': 0.9996015429496765, 'NEGATIVO': 0.00020722823683172464},\n",
              " {'POSITIVO': 0.99980229139328, 'NEGATIVO': 0.0002665724023245275},\n",
              " {'POSITIVO': 0.9992638230323792, 'NEGATIVO': 0.0001778241276042536},\n",
              " {'POSITIVO': 0.9995052814483643, 'NEGATIVO': 0.00039809010922908783},\n",
              " {'POSITIVO': 0.9991393089294434, 'NEGATIVO': 0.00023872510064393282},\n",
              " {'POSITIVO': 0.9993531107902527, 'NEGATIVO': 0.00029542401898652315},\n",
              " {'POSITIVO': 0.9985072016716003, 'NEGATIVO': 0.0015156182926148176},\n",
              " {'POSITIVO': 0.9997605681419373, 'NEGATIVO': 0.00015509899822063744},\n",
              " {'POSITIVO': 0.9952995777130127, 'NEGATIVO': 0.001146066701039672},\n",
              " {'POSITIVO': 0.9993162155151367, 'NEGATIVO': 0.00045917893294245005},\n",
              " {'POSITIVO': 0.9996904134750366, 'NEGATIVO': 0.00016323542513418943},\n",
              " {'POSITIVO': 0.9997891783714294, 'NEGATIVO': 0.00013906655658502132},\n",
              " {'POSITIVO': 0.9992321729660034, 'NEGATIVO': 0.00041792687261477113},\n",
              " {'POSITIVO': 0.9995266199111938, 'NEGATIVO': 0.00014064135029911995},\n",
              " {'POSITIVO': 0.9987364411354065, 'NEGATIVO': 0.0002633869298733771},\n",
              " {'POSITIVO': 0.9991349577903748, 'NEGATIVO': 0.0005326792597770691},\n",
              " {'POSITIVO': 0.9971880316734314, 'NEGATIVO': 0.0003448271017987281},\n",
              " {'POSITIVO': 0.999404788017273, 'NEGATIVO': 0.0005334753659553826},\n",
              " {'POSITIVO': 0.9980785846710205, 'NEGATIVO': 0.0006336297956295311},\n",
              " {'POSITIVO': 0.9997890591621399, 'NEGATIVO': 0.000212666011066176},\n",
              " {'POSITIVO': 0.9996337890625, 'NEGATIVO': 0.00025231781182810664},\n",
              " {'POSITIVO': 0.9982408285140991, 'NEGATIVO': 0.002121813828125596},\n",
              " {'POSITIVO': 0.9993801116943359, 'NEGATIVO': 0.0002879207313526422},\n",
              " {'POSITIVO': 0.9983008503913879, 'NEGATIVO': 0.0015723858959972858},\n",
              " {'POSITIVO': 0.9989756345748901, 'NEGATIVO': 0.0011775370221585035},\n",
              " {'POSITIVO': 0.9993172883987427, 'NEGATIVO': 0.00010638959793141112},\n",
              " {'POSITIVO': 0.9991890788078308, 'NEGATIVO': 0.00036576311686076224},\n",
              " {'POSITIVO': 0.9993002414703369, 'NEGATIVO': 0.0004303059831727296},\n",
              " {'POSITIVO': 0.9989985823631287, 'NEGATIVO': 0.0012857542606070638},\n",
              " {'POSITIVO': 0.999592125415802, 'NEGATIVO': 0.00019417426665313542},\n",
              " {'POSITIVO': 0.99880051612854, 'NEGATIVO': 0.00023181812139227986},\n",
              " {'POSITIVO': 0.9996683597564697, 'NEGATIVO': 0.0002539226843509823},\n",
              " {'POSITIVO': 0.9958154559135437, 'NEGATIVO': 0.0037249065935611725},\n",
              " {'POSITIVO': 0.9994252920150757, 'NEGATIVO': 0.00025351697695441544},\n",
              " {'POSITIVO': 0.9986019730567932, 'NEGATIVO': 0.000389438821002841},\n",
              " {'POSITIVO': 0.9988388419151306, 'NEGATIVO': 0.0010699781123548746},\n",
              " {'POSITIVO': 0.9997310042381287, 'NEGATIVO': 0.00017285728245042264},\n",
              " {'POSITIVO': 0.9997712969779968, 'NEGATIVO': 0.0002361400838708505},\n",
              " {'POSITIVO': 0.9996132254600525, 'NEGATIVO': 0.0003123641072306782},\n",
              " {'POSITIVO': 0.9995325803756714, 'NEGATIVO': 0.0003652548766694963},\n",
              " {'POSITIVO': 0.9996544122695923, 'NEGATIVO': 0.00022457007435150445},\n",
              " {'POSITIVO': 0.9991693496704102, 'NEGATIVO': 0.0006534246494993567},\n",
              " {'POSITIVO': 0.9995297193527222, 'NEGATIVO': 0.00023056894133333117},\n",
              " {'POSITIVO': 0.9996644258499146, 'NEGATIVO': 0.00015625626838300377},\n",
              " {'POSITIVO': 0.9993686079978943, 'NEGATIVO': 0.00040191778680309653},\n",
              " {'POSITIVO': 0.9993025064468384, 'NEGATIVO': 0.0009454294922761619},\n",
              " {'POSITIVO': 0.9978699684143066, 'NEGATIVO': 0.0008731380221433938},\n",
              " {'POSITIVO': 0.9997113347053528, 'NEGATIVO': 0.0003798781835939735},\n",
              " {'POSITIVO': 0.9994134902954102, 'NEGATIVO': 0.00037386544863693416},\n",
              " {'POSITIVO': 0.9990566372871399, 'NEGATIVO': 0.00040075622382573783},\n",
              " {'POSITIVO': 0.9995205402374268, 'NEGATIVO': 0.0004729056090582162},\n",
              " {'POSITIVO': 0.9996815919876099, 'NEGATIVO': 0.000253671983955428},\n",
              " {'POSITIVO': 0.9996582269668579, 'NEGATIVO': 0.0003298375231679529},\n",
              " {'POSITIVO': 0.9994421601295471, 'NEGATIVO': 0.00037288659950718284},\n",
              " {'POSITIVO': 0.9993913173675537, 'NEGATIVO': 0.00018365459982305765},\n",
              " {'POSITIVO': 0.999747097492218, 'NEGATIVO': 0.0001247618201887235},\n",
              " {'POSITIVO': 0.99967360496521, 'NEGATIVO': 0.0003684436669573188},\n",
              " {'POSITIVO': 0.9998056292533875, 'NEGATIVO': 0.00013453056453727186},\n",
              " {'POSITIVO': 0.9998352527618408, 'NEGATIVO': 0.00018156673468183726},\n",
              " {'POSITIVO': 0.9994274377822876, 'NEGATIVO': 0.0004148324369452894},\n",
              " {'POSITIVO': 0.9885098338127136, 'NEGATIVO': 0.004912971518933773},\n",
              " {'POSITIVO': 0.9995971322059631, 'NEGATIVO': 0.0001684367744019255},\n",
              " {'POSITIVO': 0.9996960163116455, 'NEGATIVO': 0.0003947037330362946},\n",
              " {'POSITIVO': 0.9967774748802185, 'NEGATIVO': 0.0016723728040233254},\n",
              " {'POSITIVO': 0.9997493624687195, 'NEGATIVO': 0.00012401137792039663},\n",
              " {'POSITIVO': 0.9986000657081604, 'NEGATIVO': 0.00042193211265839636},\n",
              " {'POSITIVO': 0.999640703201294, 'NEGATIVO': 0.00035378849133849144},\n",
              " {'POSITIVO': 0.9994726777076721, 'NEGATIVO': 0.00015538693696726114},\n",
              " {'POSITIVO': 0.9997678399085999, 'NEGATIVO': 0.00025769323110580444},\n",
              " {'POSITIVO': 0.9995205402374268, 'NEGATIVO': 0.00038060391671024263},\n",
              " {'POSITIVO': 0.9986687898635864, 'NEGATIVO': 0.0006020884029567242},\n",
              " {'POSITIVO': 0.9993168115615845, 'NEGATIVO': 0.0002307774411747232},\n",
              " {'POSITIVO': 0.9996814727783203, 'NEGATIVO': 0.0003524271596688777},\n",
              " {'POSITIVO': 0.9996936321258545, 'NEGATIVO': 0.00021330569870769978},\n",
              " {'POSITIVO': 0.9968580007553101, 'NEGATIVO': 0.0006854145904071629},\n",
              " {'POSITIVO': 0.9994239807128906, 'NEGATIVO': 0.00029584483127109706},\n",
              " {'POSITIVO': 0.9996047616004944, 'NEGATIVO': 0.0006311938050203025},\n",
              " {'POSITIVO': 0.9996854066848755, 'NEGATIVO': 0.0006263795075938106},\n",
              " {'POSITIVO': 0.9997712969779968, 'NEGATIVO': 0.0003548545646481216},\n",
              " {'POSITIVO': 0.9991875290870667, 'NEGATIVO': 0.00028180130175314844},\n",
              " {'POSITIVO': 0.9950167536735535, 'NEGATIVO': 0.001975573133677244},\n",
              " {'POSITIVO': 0.9993938207626343, 'NEGATIVO': 0.00023160579439718276},\n",
              " {'POSITIVO': 0.9997555613517761, 'NEGATIVO': 0.0002554473758209497},\n",
              " {'POSITIVO': 0.9995183944702148, 'NEGATIVO': 0.0004441965720616281},\n",
              " {'POSITIVO': 0.9994401335716248, 'NEGATIVO': 0.00047932786401361227},\n",
              " {'POSITIVO': 0.9997095465660095, 'NEGATIVO': 0.00032976327929645777},\n",
              " {'POSITIVO': 0.9995521903038025, 'NEGATIVO': 0.00047629832988604903},\n",
              " {'POSITIVO': 0.9998834133148193, 'NEGATIVO': 0.0001188718160847202},\n",
              " {'POSITIVO': 0.9992073178291321, 'NEGATIVO': 0.00028449244564399123},\n",
              " {'POSITIVO': 0.9993385672569275, 'NEGATIVO': 0.00029225030448287725},\n",
              " {'POSITIVO': 0.9997822642326355, 'NEGATIVO': 0.0002772937004920095},\n",
              " {'POSITIVO': 0.9996166229248047, 'NEGATIVO': 0.00014161106082610786},\n",
              " {'POSITIVO': 0.9995269775390625, 'NEGATIVO': 0.0002271776320412755},\n",
              " {'POSITIVO': 0.9994897842407227, 'NEGATIVO': 0.00046368184848688543},\n",
              " {'POSITIVO': 0.9995336532592773, 'NEGATIVO': 0.00016515565221197903},\n",
              " {'POSITIVO': 0.9993622899055481, 'NEGATIVO': 0.00023788442194927484},\n",
              " {'POSITIVO': 0.9997215867042542, 'NEGATIVO': 0.00017507371376268566},\n",
              " {'POSITIVO': 0.9994239807128906, 'NEGATIVO': 0.00029584483127109706},\n",
              " {'POSITIVO': 0.9996629953384399, 'NEGATIVO': 0.00018665827519726008},\n",
              " {'POSITIVO': 0.9992597699165344, 'NEGATIVO': 0.0002616152632981539},\n",
              " {'POSITIVO': 0.9997542500495911, 'NEGATIVO': 0.00012765823339577764},\n",
              " {'POSITIVO': 0.9997020363807678, 'NEGATIVO': 0.00031969210249371827},\n",
              " {'POSITIVO': 0.9995589852333069, 'NEGATIVO': 0.00024261559883598238},\n",
              " {'POSITIVO': 0.9996844530105591, 'NEGATIVO': 0.0001214844232890755},\n",
              " {'POSITIVO': 0.9982594847679138, 'NEGATIVO': 0.00048286723904311657},\n",
              " {'POSITIVO': 0.9998059868812561, 'NEGATIVO': 0.00014916995132807642},\n",
              " {'POSITIVO': 0.9885175228118896, 'NEGATIVO': 0.005816010292619467},\n",
              " {'POSITIVO': 0.9998047947883606, 'NEGATIVO': 0.00014480410027317703},\n",
              " {'POSITIVO': 0.9820192456245422, 'NEGATIVO': 0.008752910420298576},\n",
              " {'POSITIVO': 0.9994450211524963, 'NEGATIVO': 0.0002055704389931634},\n",
              " {'POSITIVO': 0.9994982481002808, 'NEGATIVO': 0.00023037708888296038},\n",
              " {'POSITIVO': 0.999657154083252, 'NEGATIVO': 0.00038708405918441713},\n",
              " {'POSITIVO': 0.9990978240966797, 'NEGATIVO': 0.0002563073066994548},\n",
              " {'POSITIVO': 0.9977741837501526, 'NEGATIVO': 0.0013280357234179974},\n",
              " {'POSITIVO': 0.9967774748802185, 'NEGATIVO': 0.0016723728040233254},\n",
              " {'POSITIVO': 0.9996076226234436, 'NEGATIVO': 0.00018892332445830107},\n",
              " {'POSITIVO': 0.9990228414535522, 'NEGATIVO': 0.000757983885705471},\n",
              " {'POSITIVO': 0.9995120763778687, 'NEGATIVO': 0.00037735849036835134},\n",
              " {'POSITIVO': 0.9991338849067688, 'NEGATIVO': 0.0010778269497677684},\n",
              " {'POSITIVO': 0.999698281288147, 'NEGATIVO': 0.0002339662314625457},\n",
              " {'POSITIVO': 0.9993695616722107, 'NEGATIVO': 0.00037967669777572155},\n",
              " {'POSITIVO': 0.9989945292472839, 'NEGATIVO': 0.0004900394706055522},\n",
              " {'POSITIVO': 0.9996200799942017, 'NEGATIVO': 0.00031128613045439124},\n",
              " {'POSITIVO': 0.9989408850669861, 'NEGATIVO': 0.0002819569199346006},\n",
              " {'POSITIVO': 0.9973291158676147, 'NEGATIVO': 0.0018073871033266187},\n",
              " {'POSITIVO': 0.9997257590293884, 'NEGATIVO': 0.00011129824997624382},\n",
              " {'POSITIVO': 0.9995437264442444, 'NEGATIVO': 7.841867045499384e-05},\n",
              " {'POSITIVO': 0.9996867179870605, 'NEGATIVO': 0.00024669745471328497},\n",
              " {'POSITIVO': 0.9997541308403015, 'NEGATIVO': 0.00020414766913745552},\n",
              " {'POSITIVO': 0.998933732509613, 'NEGATIVO': 0.0005747081595472991},\n",
              " {'POSITIVO': 0.9991170763969421, 'NEGATIVO': 0.000405311759095639},\n",
              " {'POSITIVO': 0.9989269375801086, 'NEGATIVO': 0.00033609927049838006},\n",
              " {'POSITIVO': 0.9983181953430176, 'NEGATIVO': 0.0007537388592027128},\n",
              " {'POSITIVO': 0.9985260963439941, 'NEGATIVO': 0.0007661106064915657},\n",
              " {'POSITIVO': 0.9997262358665466, 'NEGATIVO': 0.0006763573619537055},\n",
              " {'POSITIVO': 0.9992675185203552, 'NEGATIVO': 0.0006800668779760599},\n",
              " {'POSITIVO': 0.9993683695793152, 'NEGATIVO': 0.00046367544564418495},\n",
              " {'POSITIVO': 0.9991366267204285, 'NEGATIVO': 0.00035617430694401264},\n",
              " {'POSITIVO': 0.9992488026618958, 'NEGATIVO': 0.0003575975133571774},\n",
              " ...]"
            ]
          },
          "metadata": {},
          "execution_count": 55
        }
      ]
    },
    {
      "cell_type": "code",
      "source": [
        "previsoes_final = []\n",
        "for previsao in previsoes:\n",
        "  if previsao['POSITIVO'] > previsao['NEGATIVO']:\n",
        "    previsoes_final.append(1)\n",
        "  else:\n",
        "    previsoes_final.append(0)\n",
        "\n",
        "previsoes_final = np.array(previsoes_final)"
      ],
      "metadata": {
        "id": "02JMIOIZfDUW"
      },
      "execution_count": null,
      "outputs": []
    },
    {
      "cell_type": "code",
      "source": [
        "previsoes_final"
      ],
      "metadata": {
        "colab": {
          "base_uri": "https://localhost:8080/"
        },
        "id": "8JwMRRf-fGES",
        "outputId": "6fa890b2-bcf8-4cdd-8ea1-3556e11b2feb"
      },
      "execution_count": null,
      "outputs": [
        {
          "output_type": "execute_result",
          "data": {
            "text/plain": [
              "array([1, 1, 1, ..., 0, 0, 0])"
            ]
          },
          "metadata": {},
          "execution_count": 57
        }
      ]
    },
    {
      "cell_type": "code",
      "source": [
        "respostas_reais = base_treinamento['sentiment'].values\n",
        "respostas_reais"
      ],
      "metadata": {
        "colab": {
          "base_uri": "https://localhost:8080/"
        },
        "id": "_aMRJH9hfH9H",
        "outputId": "cf61489b-c102-47dd-fb40-09975bbdcaf8"
      },
      "execution_count": null,
      "outputs": [
        {
          "output_type": "execute_result",
          "data": {
            "text/plain": [
              "array([1, 1, 1, ..., 0, 0, 0])"
            ]
          },
          "metadata": {},
          "execution_count": 58
        }
      ]
    },
    {
      "cell_type": "code",
      "source": [
        "len(respostas_reais)"
      ],
      "metadata": {
        "colab": {
          "base_uri": "https://localhost:8080/"
        },
        "id": "WUrbJW8SfwhN",
        "outputId": "51f1f68a-ed8b-4b29-94d6-dd15d6f73ab9"
      },
      "execution_count": null,
      "outputs": [
        {
          "output_type": "execute_result",
          "data": {
            "text/plain": [
              "50000"
            ]
          },
          "metadata": {},
          "execution_count": 59
        }
      ]
    },
    {
      "cell_type": "code",
      "source": [
        "from sklearn.metrics import confusion_matrix, accuracy_score\n",
        "accuracy_score(respostas_reais, previsoes_final)"
      ],
      "metadata": {
        "colab": {
          "base_uri": "https://localhost:8080/"
        },
        "id": "LdYImxobfKhq",
        "outputId": "6bd28cbd-4446-4e6a-d49e-38b6c9209399"
      },
      "execution_count": null,
      "outputs": [
        {
          "output_type": "execute_result",
          "data": {
            "text/plain": [
              "0.99942"
            ]
          },
          "metadata": {},
          "execution_count": 60
        }
      ]
    },
    {
      "cell_type": "code",
      "metadata": {
        "id": "UuI8nXdAE-Nw",
        "colab": {
          "base_uri": "https://localhost:8080/"
        },
        "outputId": "1ca874ad-c938-4421-cf0e-df3f8151b9e8"
      },
      "source": [
        "cm = confusion_matrix(respostas_reais, previsoes_final)\n",
        "cm"
      ],
      "execution_count": null,
      "outputs": [
        {
          "output_type": "execute_result",
          "data": {
            "text/plain": [
              "array([[24998,     2],\n",
              "       [   27, 24973]])"
            ]
          },
          "metadata": {},
          "execution_count": 61
        }
      ]
    },
    {
      "cell_type": "code",
      "metadata": {
        "id": "ws7BgykmyWQG",
        "colab": {
          "base_uri": "https://localhost:8080/",
          "height": 282
        },
        "outputId": "0539934f-a888-493f-e827-e617e80853a6"
      },
      "source": [
        "sns.heatmap(cm, annot=True)"
      ],
      "execution_count": null,
      "outputs": [
        {
          "output_type": "execute_result",
          "data": {
            "text/plain": [
              "<matplotlib.axes._subplots.AxesSubplot at 0x7f0f6d6fded0>"
            ]
          },
          "metadata": {},
          "execution_count": 62
        },
        {
          "output_type": "display_data",
          "data": {
            "text/plain": [
              "<Figure size 432x288 with 2 Axes>"
            ],
            "image/png": "[encoded data removed]"
          },
          "metadata": {
            "needs_background": "light"
          }
        }
      ]
    },
    {
      "cell_type": "markdown",
      "metadata": {
        "id": "HmLjfVrZAE2T"
      },
      "source": [
        "## Avaliação na base de teste"
      ]
    },
    {
      "cell_type": "code",
      "metadata": {
        "id": "AwmnAwRcF1sD"
      },
      "source": [
        "previsoes = []\n",
        "for texto in base_teste['tweet_text']:\n",
        "  previsao = modelo_carregado(texto)\n",
        "  previsoes.append(previsao.cats)"
      ],
      "execution_count": null,
      "outputs": []
    },
    {
      "cell_type": "code",
      "metadata": {
        "id": "Y7MpSvS4F8xv"
      },
      "source": [
        "previsoes_final = []\n",
        "for previsao in previsoes:\n",
        "  if previsao['POSITIVO'] > previsao['NEGATIVO']:\n",
        "    previsoes_final.append(1)\n",
        "  else:\n",
        "    previsoes_final.append(0)\n",
        "\n",
        "previsoes_final = np.array(previsoes_final)"
      ],
      "execution_count": null,
      "outputs": []
    },
    {
      "cell_type": "code",
      "metadata": {
        "id": "rgoCy1SXGEkw"
      },
      "source": [
        "respostas_reais = base_teste['sentiment'].values"
      ],
      "execution_count": null,
      "outputs": []
    },
    {
      "cell_type": "code",
      "metadata": {
        "id": "HbpqmtMlGJ0T",
        "colab": {
          "base_uri": "https://localhost:8080/"
        },
        "outputId": "ce305597-7e8f-40a2-8cd2-b053fffe62f5"
      },
      "source": [
        "accuracy_score(respostas_reais, previsoes_final)"
      ],
      "execution_count": null,
      "outputs": [
        {
          "output_type": "execute_result",
          "data": {
            "text/plain": [
              "0.9954"
            ]
          },
          "metadata": {},
          "execution_count": 66
        }
      ]
    },
    {
      "cell_type": "code",
      "metadata": {
        "id": "noYdfAJ0GQAF",
        "colab": {
          "base_uri": "https://localhost:8080/"
        },
        "outputId": "cf3e9d26-f8e0-4d65-a248-a83f468c51c3"
      },
      "source": [
        "cm = confusion_matrix(respostas_reais, previsoes_final)\n",
        "cm"
      ],
      "execution_count": null,
      "outputs": [
        {
          "output_type": "execute_result",
          "data": {
            "text/plain": [
              "array([[2492,    8],\n",
              "       [  15, 2485]])"
            ]
          },
          "metadata": {},
          "execution_count": 67
        }
      ]
    },
    {
      "cell_type": "code",
      "metadata": {
        "id": "WCe0F3G8zQkW",
        "colab": {
          "base_uri": "https://localhost:8080/",
          "height": 282
        },
        "outputId": "8762309e-acac-445e-fd69-8ce8794d3767"
      },
      "source": [
        "sns.heatmap(cm, annot=True)"
      ],
      "execution_count": null,
      "outputs": [
        {
          "output_type": "execute_result",
          "data": {
            "text/plain": [
              "<matplotlib.axes._subplots.AxesSubplot at 0x7f0f6d684510>"
            ]
          },
          "metadata": {},
          "execution_count": 68
        },
        {
          "output_type": "display_data",
          "data": {
            "text/plain": [
              "<Figure size 432x288 with 2 Axes>"
            ],
            "image/png": "[encoded data removed]"
          },
          "metadata": {
            "needs_background": "light"
          }
        }
      ]
    }
  ]
}